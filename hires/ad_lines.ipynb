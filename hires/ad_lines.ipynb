{
 "cells": [
  {
   "cell_type": "markdown",
   "metadata": {},
   "source": [
    "## The goal of this code is to plot spectra from the SDSS and the MMT, zooming in on lines of interest"
   ]
  },
  {
   "cell_type": "markdown",
   "metadata": {},
   "source": [
    "### important relevant python packages"
   ]
  },
  {
   "cell_type": "code",
   "execution_count": 43,
   "metadata": {},
   "outputs": [],
   "source": [
    "from matplotlib.backends.backend_pdf import PdfPages\n",
    "import numpy as np\n",
    "import matplotlib.pyplot as plt\n",
    "from os import listdir\n",
    "from astropy.io import fits"
   ]
  },
  {
   "cell_type": "markdown",
   "metadata": {},
   "source": [
    "### define function to get names for sdss spectra (from cb code)"
   ]
  },
  {
   "cell_type": "code",
   "execution_count": 44,
   "metadata": {},
   "outputs": [],
   "source": [
    "def get_plot_title(filepath):\n",
    "    fits_file = fits.open(filepath)\n",
    "\n",
    "    file_char_list = list(filepath)\n",
    "    spec_pos = filepath.find('spec-')\n",
    "    title_list = file_char_list[spec_pos:-5]\n",
    "    title = ''.join(title_list)\n",
    "    headers = fits_file['PRIMARY'].header\n",
    "    hh = str(int(headers['PLUG_RA'] * (24/360)))\n",
    "    if not (len(hh) == 2):\n",
    "        hh = '0' + hh\n",
    "    mm = str(int((headers['PLUG_RA'] * (24/360) * 60) % 60))\n",
    "    if not (len(mm) == 2):\n",
    "        mm = '0' + mm\n",
    "    ss = str(np.round((headers['PLUG_RA'] * (24/360) * 60 * 60) % 60, decimals=2))\n",
    "    if not (len(str(int(np.round((headers['PLUG_RA'] * (24/360) * 60 * 60) % 60)))) == 2):\n",
    "        ss = '0' + ss\n",
    "    title = title + '/J' + hh + mm + ss\n",
    "    return title"
   ]
  },
  {
   "cell_type": "markdown",
   "metadata": {},
   "source": [
    "### identify relevant directory and fits files for sdss spectra"
   ]
  },
  {
   "cell_type": "code",
   "execution_count": 45,
   "metadata": {
    "scrolled": true
   },
   "outputs": [
    {
     "name": "stdout",
     "output_type": "stream",
     "text": [
      "['spec-0913-52433-0300.fits', 'spec-1054-52516-0153.fits', 'spec-0986-52443-0580.fits', 'spec-0977-52410-0257.fits', 'spec-1305-52757-0191.fits', 'spec-1577-53495-0564.fits', 'spec-1627-53473-0154.fits', 'spec-1675-53466-0512.fits', 'spec-0326-52375-0382.fits', 'spec-6712-56421-0114.fits', 'spec-0483-51924-0628.fits', 'spec-0518-52282-0605.fits', 'spec-0566-52238-0319.fits', 'spec-0639-52146-0388.fits', 'spec-0581-52356-0196.fits', 'spec-0732-52221-0445.fits', 'spec-0761-54524-0409.fits']\n"
     ]
    }
   ],
   "source": [
    "galfolpath = 'galaxies_fits_DR15/'\n",
    "fitsfiles = [f for f in listdir(galfolpath)]\n",
    "print(fitsfiles)"
   ]
  },
  {
   "cell_type": "markdown",
   "metadata": {},
   "source": [
    "### make a plot of sdss spectra"
   ]
  },
  {
   "cell_type": "code",
   "execution_count": 46,
   "metadata": {},
   "outputs": [],
   "source": [
    "filename = 'sdss_specta.pdf'\n",
    "\n",
    "with PdfPages(filename) as pdf:\n",
    "    \n",
    "    for i in range(1,len(fitsfiles)):\n",
    "    \n",
    "        # read in fits file\n",
    "        hdu = fits.open(galfolpath+fitsfiles[i])\n",
    "\n",
    "        coadd = hdu['COADD'].data\n",
    "        fluxdata = coadd['flux']\n",
    "        wavelength = 10 ** coadd['loglam']\n",
    "        \n",
    "        z = float(hdu[2].data['Z'])\n",
    "    \n",
    "        # plot the whole spectrum\n",
    "        fig = plt.figure()\n",
    "        ax = fig.add_subplot(1,1,1)\n",
    "    \n",
    "        ax.plot(wavelength, fluxdata, linewidth=0.1)\n",
    "    \n",
    "        ax.set_xlim(3800, 9200)\n",
    "        ax.set_ylim(0,20)\n",
    "        ax.set_xlabel(r'Wavelength [$\\AA$]', fontsize=13)\n",
    "        ax.set_ylabel(r'$F_{\\lambda}$ [$10^{-17}$ erg s$^{-1}$ cm$^{-2}$ $\\AA^{-1}$]', fontsize=13)\n",
    "        ax.set_title(get_plot_title(galfolpath+fitsfiles[i]))\n",
    "    \n",
    "        pdf.savefig()\n",
    "        plt.close()\n",
    "        \n",
    "        # plot the [O II] line\n",
    "        fig = plt.figure()\n",
    "        ax = fig.add_subplot(4,2,1)\n",
    "        \n",
    "        o2 = 3727*(1+z)\n",
    "        lo = o2-o2*1000/3e5\n",
    "        hi = o2+o2*1000/3e5\n",
    "        \n",
    "        ax.plot(wavelength, fluxdata, linewidth=0.5)\n",
    "        ax.set_xlim(lo, hi)\n",
    "        ax.set_ylim(0,20)\n",
    "        ax.set_title('[O II]')\n",
    "        \n",
    "        # plot the Hbeta line\n",
    "        ax = fig.add_subplot(4,2,2)\n",
    "        hb = 4861*(1+z)\n",
    "        lo = hb-hb*1000/3e5\n",
    "        hi = hb+hb*1000/3e5\n",
    "        \n",
    "        ax.plot(wavelength, fluxdata, linewidth=0.5)\n",
    "        ax.set_xlim(lo, hi)\n",
    "        ax.set_ylim(0,20)\n",
    "        ax.set_title(r'H $\\beta$')\n",
    "        \n",
    "        # plot the Mg II line\n",
    "        ax = fig.add_subplot(4,2,5)\n",
    "        mg2 = 2800*(1+z)\n",
    "        lo = mg2-mg2*3000/3e5\n",
    "        hi = mg2+mg2*3000/3e5\n",
    "        \n",
    "        ax.plot(wavelength, fluxdata, linewidth=0.5)\n",
    "        ax.set_xlim(lo, hi)\n",
    "        ax.set_ylim(0,20)\n",
    "        ax.set_title('Mg II')   \n",
    "        \n",
    "        pdf.savefig()\n",
    "        plt.close()"
   ]
  },
  {
   "cell_type": "markdown",
   "metadata": {},
   "source": [
    "### identify relevant directory and fits files for mmt spectra"
   ]
  },
  {
   "cell_type": "code",
   "execution_count": 47,
   "metadata": {},
   "outputs": [
    {
     "name": "stdout",
     "output_type": "stream",
     "text": [
      "['J1125-0145_MMT.fit', 'J1450+4621_MMT.fit', 'J1219+0336_MMT.fit', 'J1506+5402_MMT.fit', 'J1613+2834_MMT.fit', 'J1558+3957_MMT.fit', 'J1713+2817_MMT.fit', 'J2116-0634_MMT.fit', 'J0826+4305_MMT.fit', 'J2140+1209_MMT.fit', 'J2118+0017_MMT.fit', 'J0901+0314_MMT.fit', 'J0905+5759_MMT.fit', 'J0944+0930_MMT.fit']\n"
     ]
    }
   ],
   "source": [
    "mmtgalfol = 'hizea/MMT/'\n",
    "mmtfiles = [f for f in listdir(mmtgalfol)]\n",
    "print(mmtfiles)"
   ]
  },
  {
   "cell_type": "code",
   "execution_count": 48,
   "metadata": {},
   "outputs": [],
   "source": [
    "filename = 'mmt_specta.pdf'\n",
    "\n",
    "with PdfPages(filename) as pdf:\n",
    "    \n",
    "    for i in range(0,len(mmtfiles)):\n",
    "    \n",
    "        hdu = fits.open(mmtgalfol+mmtfiles[i])\n",
    "\n",
    "        maintable = hdu[1].data\n",
    "        fluxdata = maintable['FLUX'][0]\n",
    "        wavelength = maintable['WAVE'][0]\n",
    "        \n",
    "        name = maintable['SHORT_NAME'][0]\n",
    "        \n",
    "        fig = plt.figure()\n",
    "        ax = fig.add_subplot(1,1,1)\n",
    "    \n",
    "        ax.plot(wavelength, fluxdata)\n",
    "    \n",
    "        #ax.set_xlim(3800, 9200)\n",
    "        #ax.set_ylim(0,20)\n",
    "        ax.set_xlabel(r'Wavelength [$\\AA$]', fontsize=13)\n",
    "        ax.set_ylabel(r'$F_{\\lambda}$ [$10^{-17}$ erg s$^{-1}$ cm$^{-2}$ $\\AA^{-1}$]', fontsize=13)\n",
    "        ax.set_title(name)\n",
    "    \n",
    "        pdf.savefig()\n",
    "        plt.close()\n",
    "        \n",
    "        "
   ]
  }
 ],
 "metadata": {
  "kernelspec": {
   "display_name": "Python 3",
   "language": "python",
   "name": "python3"
  },
  "language_info": {
   "codemirror_mode": {
    "name": "ipython",
    "version": 3
   },
   "file_extension": ".py",
   "mimetype": "text/x-python",
   "name": "python",
   "nbconvert_exporter": "python",
   "pygments_lexer": "ipython3",
   "version": "3.7.1"
  }
 },
 "nbformat": 4,
 "nbformat_minor": 2
}
