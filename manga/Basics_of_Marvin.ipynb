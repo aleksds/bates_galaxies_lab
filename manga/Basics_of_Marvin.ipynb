{
 "cells": [
  {
   "cell_type": "markdown",
   "metadata": {},
   "source": [
    "# Basics of Marvin\n",
    "\n",
    "In this notebook, you will learn the common core functionality across many of the Marvin Tools.  This includes the basics of accessing and handling MaNGA data from different locations, as well as a beginners guide of interacting with data via the core tools of Cubes and Maps.  Much of this information can be found in the [Getting Started section](https://sdss-marvin.readthedocs.io/en/stable/getting-started.html) of the Marvin documentation.  \n",
    "\n",
    "## Table of Contents\n",
    "- [Data Access Modes](#modes) <br>\n",
    "- [Interacting with Data Content](#interaction) <br>\n",
    " - [Object Datamodels](#datamodel) <br>\n",
    " - [Extracting Data](#extract) <br> \n",
    " - [Accessing Associated Objects](#associates)<br>\n",
    " - [Quality and Target Flags](#flags)<br>\n",
    " - [NSA and DAPall Metadata](#mixin)<br>\n",
    " - [Downloading Files](#download)<br>\n",
    "- [Interacting with Spaxels](#spaxels)<br>"
   ]
  },
  {
   "cell_type": "markdown",
   "metadata": {},
   "source": [
    "<a id=\"common\"></a>\n",
    "## Common Core Functionality \n",
    "\n",
    "Marvin Tools provides the core functionality for accessing MaNGA data with Marvin. At the lowest level they are class wrappers around data products or elements (datacubes, maps, and spaxels). Their purpose is to provide a more natural way to interact with the data, unconstrained by specific data storage architectures such as files or databases, or by data location such as a laptop or remote server.  \n",
    "\n",
    "All Marvin Tools are built off a set of common core functionalities and features, and thus behave in very similar ways.  There are four main classes provided in Marvin: the ``Cube``, the ``RSS``, the ``Maps``, and the ``ModelCube``.\n",
    "We will start by focusing on a Marvin Cube to demonstrate the common features and handling of Marvin Tools.  Everything discussed here also applies to any of the other available Marvin Tools listed above.   \n",
    "  \n",
    "Let's start by importing the Marvin Cube class."
   ]
  },
  {
   "cell_type": "code",
   "execution_count": 13,
   "metadata": {},
   "outputs": [],
   "source": [
    "from marvin.tools import Cube"
   ]
  },
  {
   "cell_type": "markdown",
   "metadata": {},
   "source": [
    "You may see the info message `No release version set. Setting default to DR15`.  The default data release Marvin uses is DR15. For this tutorial, we will be using DR15 data so there is no need to do anything further.  In general, to change which release Marvin uses, we can use the Marvin `config.setRelease` method on the `config` object.   "
   ]
  },
  {
   "cell_type": "code",
   "execution_count": 14,
   "metadata": {},
   "outputs": [],
   "source": [
    "from marvin import config\n",
    "# set the release to DR15\n",
    "config.setRelease(\"DR15\")"
   ]
  },
  {
   "cell_type": "markdown",
   "metadata": {},
   "source": [
    "<a id=\"modes\"></a>\n",
    "### Data Access Modes"
   ]
  },
  {
   "cell_type": "markdown",
   "metadata": {},
   "source": [
    "Let's instantiate our first cube, for galaxy with plate-IFU designation 8485-1901.  Each marvin tool takes a string id input and can one of: a string filepath and name, a plate-IFU designation, or a manga-ID designation.  Marvin will attempt to identify the input format and properly load the target data."
   ]
  },
  {
   "cell_type": "code",
   "execution_count": 18,
   "metadata": {},
   "outputs": [
    {
     "data": {
      "text/plain": [
       "<Marvin Cube (plateifu='8485-1901', mode='local', data_origin='file')>"
      ]
     },
     "execution_count": 18,
     "metadata": {},
     "output_type": "execute_result"
    }
   ],
   "source": [
    "# instantiate a cube for 8485-1901\n",
    "cube = Cube('8485-1901')\n",
    "cube"
   ]
  },
  {
   "cell_type": "markdown",
   "metadata": {},
   "source": [
    "Once instantiated, each marvin tool indicates a **mode** and a **data-origin**.  Note that `mode=\"local\"` and  `data_origin=\"file\"`.  This indicates that we have accessed a file from our local filesystem.  Our cube now has a ``filename`` attribute indicating its location on disk. "
   ]
  },
  {
   "cell_type": "code",
   "execution_count": 20,
   "metadata": {},
   "outputs": [
    {
     "data": {
      "text/plain": [
       "'/Users/Brian/Work/sdss/sas/dr15/manga/spectro/redux/v2_4_3/8485/stack/manga-8485-1901-LOGCUBE.fits.gz'"
      ]
     },
     "execution_count": 20,
     "metadata": {},
     "output_type": "execute_result"
    }
   ],
   "source": [
    "# print the local filename\n",
    "cube.filename"
   ]
  },
  {
   "cell_type": "markdown",
   "metadata": {},
   "source": [
    "What if we won't have the MaNGa data products for our target of interest?  We can specify the **plateifu** or **mangaid** of the target and Marvin will access it remotely.  Let's open a cube for 8485-1902."
   ]
  },
  {
   "cell_type": "code",
   "execution_count": 132,
   "metadata": {},
   "outputs": [
    {
     "data": {
      "text/plain": [
       "<Marvin Cube (plateifu='8485-1902', mode='remote', data_origin='api')>"
      ]
     },
     "execution_count": 132,
     "metadata": {},
     "output_type": "execute_result"
    }
   ],
   "source": [
    "remote_cube = Cube('8485-1902')\n",
    "remote_cube"
   ]
  },
  {
   "cell_type": "markdown",
   "metadata": {},
   "source": [
    "Now note that ``mode=\"remote\"`` and ``data_origin=\"api\"``.  This indicates the cube has been remotely loaded using the built-in Marvin API.  By specifying an input **plateifu** or **mangaid**, marvin will always first try to access the data locally, and then fall back to remote access.  You can also explicitly load a file using the ``filename`` keyword argument.    "
   ]
  },
  {
   "cell_type": "code",
   "execution_count": 23,
   "metadata": {},
   "outputs": [
    {
     "data": {
      "text/plain": [
       "<Marvin Cube (plateifu='8485-1901', mode='local', data_origin='file')>"
      ]
     },
     "execution_count": 23,
     "metadata": {},
     "output_type": "execute_result"
    }
   ],
   "source": [
    "# Explicitly load a cube from a file on disk \n",
    "filename = '/Users/Brian/Work/sdss/sas/dr15/manga/spectro/redux/v2_4_3/8485/stack/manga-8485-1901-LOGCUBE.fits.gz'\n",
    "cube = Cube(filename=filename)\n",
    "cube"
   ]
  },
  {
   "cell_type": "markdown",
   "metadata": {},
   "source": [
    "<a id=\"interaction\"></a>\n",
    "### Interacting with Data Content\n",
    "\n",
    "Regardless of how you load an object, the way we interact with all the tools, and the way they behave, is the same.  They also all provide some quick access to basic metadata, like coordinates, header information, and WCS.\n",
    "<a id=\"metadata\"></a>"
   ]
  },
  {
   "cell_type": "code",
   "execution_count": 42,
   "metadata": {},
   "outputs": [
    {
     "name": "stdout",
     "output_type": "stream",
     "text": [
      "Target Coordindates: 232.544703894 48.6902009334\n",
      "Header:\n"
     ]
    },
    {
     "data": {
      "text/plain": [
       "XTENSION= 'IMAGE   '           / IMAGE extension                                \n",
       "BITPIX  =                  -32 / Number of bits per data pixel                  \n",
       "NAXIS   =                    3 / Number of data axes                            \n",
       "NAXIS1  =                   34 /                                                \n",
       "NAXIS2  =                   34 /                                                \n",
       "NAXIS3  =                 4563 /                                                \n",
       "PCOUNT  =                    0 / No Group Parameters                            \n",
       "GCOUNT  =                    1 / One Data Group                                 \n",
       "AUTHOR  = 'Brian Cherinka & David Law <bcherin1@jhu.edu, dlaw@stsci.edu>' /     \n",
       "VERSDRP2= 'v2_4_3  '           / MaNGA DRP version (2d processing)              \n",
       "VERSDRP3= 'v2_4_3  '           / MaNGA DRP Version (3d processing)              \n",
       "VERSPLDS= 'v2_52   '           / Platedesign Version                            \n",
       "VERSFLAT= 'v1_31   '           / Specflat Version                               \n",
       "VERSCORE= 'v1_6_2  '           / MaNGAcore Version                              \n",
       "VERSPRIM= 'v2_5    '           / MaNGA Preimaging Version                       \n",
       "VERSUTIL= 'v5_5_32 '           / Version of idlutils                            \n",
       "VERSIDL = 'x86_64 linux unix linux 7.1.1 Aug 21 2009 64 64 ' / Version of IDL   \n",
       "BSCALE  =              1.00000 / Intensity unit scaling                         \n",
       "BZERO   =              0.00000 / Intensity zeropoint                            \n",
       "BUNIT   = '1E-17 erg/s/cm^2/Ang/spaxel' / Specific intensity (per spaxel)       \n",
       "MASKNAME= 'MANGA_DRP3PIXMASK'  / Bits in sdssMaskbits.par used by mask extension\n",
       "TELESCOP= 'SDSS 2.5-M'         / Sloan Digital Sky Survey                       \n",
       "INSTRUME= 'MaNGA   '           / SDSS-IV MaNGA IFU                              \n",
       "SRVYMODE= 'MaNGA dither'       / Survey leading this observation and its mode   \n",
       "PLATETYP= 'APOGEE-2&MaNGA'     / Type of plate (e.g. MaNGA, APOGEE-2&MANGA)     \n",
       "OBJSYS  = 'ICRS    '           / The TCC objSys                                 \n",
       "EQUINOX =              2000.00 /                                                \n",
       "RADESYS = 'FK5     '           /                                                \n",
       "LAMPLIST= 'lamphgcdne.dat'     /                                                \n",
       "TPLDATA = 'BOSZ_3000-11000A.fits' /                                             \n",
       "NEXP    =                    9 / Total number of exposures                      \n",
       "EXPTIME =              8100.87 / Total exposure time (seconds)                  \n",
       "BLUESN2 =              19.9834 / Total SN2 in blue channel                      \n",
       "REDSN2  =              42.7417 / Total SN2 in red channel                       \n",
       "AIRMSMIN=              1.03987 / Minimum airmass                                \n",
       "AIRMSMED=              1.04708 / Median airmass                                 \n",
       "AIRMSMAX=              1.08221 / Maximum airmass                                \n",
       "SEEMIN  =              1.17790 / Best guider seeing                             \n",
       "SEEMED  =              1.30425 / Median guider seeing                           \n",
       "SEEMAX  =              1.42179 / Worst guider seeing                            \n",
       "TRANSMIN=             0.802254 / Worst guider transparency                      \n",
       "TRANSMED=             0.831209 / Median guider transparency                     \n",
       "TRANSMAX=             0.839501 / Best guider transparency                       \n",
       "MJDMIN  =                57132 / MJD of first exposure                          \n",
       "MJDMED  =                57132 / MJD of median exposure                         \n",
       "MJDMAX  =                57132 / MJD of last exposure                           \n",
       "DATE-OBS= '2015-04-20'         / Date of median exposure                        \n",
       "MJDRED  =                58198 / MJD of the reduction                           \n",
       "DATERED = '2018-03-21'         / Date of the reduction                          \n",
       "MNGTARG1=                 2336 / manga_target1 maskbit                          \n",
       "MNGTARG2=                    0 / manga_target2 maskbit                          \n",
       "MNGTARG3=                    0 / manga_target3 maskbit                          \n",
       "IFURA   =        232.544700000 / IFU R.A. (J2000 deg.)                          \n",
       "IFUDEC  =        48.6902010000 / IFU Dec. (J2000 deg.)                          \n",
       "OBJRA   =        232.544703894 / Object R.A. (J2000 deg.)                       \n",
       "OBJDEC  =        48.6902009334 / Object Dec. (J2000 deg.)                       \n",
       "CENRA   =        234.064260000 / Plate center R.A. (J2000 deg.)                 \n",
       "CENDEC  =        48.5898740000 / Plate center Dec. (J2000 deg.)                 \n",
       "PLATEID =                 8485 / Current plate                                  \n",
       "DESIGNID=                 8980 / Current design                                 \n",
       "IFUDSGN =                 1901 / ifuDesign                                      \n",
       "FRLPLUG =                   29 / Plugged ferrule                                \n",
       "PLATEIFU= '8485-1901'          / PLATEID-ifuDesign                              \n",
       "CARTID  = '3       '           / Cart(s) used                                   \n",
       "HARNAME = 'ma060   '           / Harness name(s)                                \n",
       "METFILE = 'ma060-56887-1.par'  / IFU metrology file(s)                          \n",
       "MANGAID = '1-209232'           / MaNGA ID number                                \n",
       "CATIDNUM= '1       '           / Primary target input catalog                   \n",
       "PLTTARG = 'plateTargets-1.par' / plateTarget reference file                     \n",
       "DRP3QUAL=                    0 / DRP-3d quality bitmask                         \n",
       "IFUGLON =        78.9550411299 / IFU Galactic longitude (deg)                   \n",
       "IFUGLAT =        52.6212190954 / IFU Galactic latitude (deg)                    \n",
       "EBVGAL  =            0.0144335 / Galactic reddening E(B-V)                      \n",
       "GFWHM   =              2.46769 / Reconstructed FWHM in g-band (arcsec)          \n",
       "RFWHM   =              2.47181 / Reconstructed FWHM in r-band (arcsec)          \n",
       "IFWHM   =              2.45516 / Reconstructed FWHM in i-band (arcsec)          \n",
       "ZFWHM   =              2.43769 / Reconstructed FWHM in z-band (arcsec)          \n",
       "CTYPE3  = 'WAVE-LOG'           /                                                \n",
       "CRPIX3  =                    1 / Starting pixel (1-indexed)                     \n",
       "CRVAL3  =        3621.59598486 / Central wavelength of first pixel              \n",
       "CD3_3   =       0.833903304339 / Initial dispersion per pixel                   \n",
       "CUNIT3  = 'Angstrom'           /                                                \n",
       "CRPIX1  =              18.0000 /Reference pixel (1-indexed)                     \n",
       "CRPIX2  =              18.0000 /Reference pixel (1-indexed)                     \n",
       "CRVAL1  =        232.544700000 /                                                \n",
       "CRVAL2  =        48.6902010000 /                                                \n",
       "CD1_1   =         -0.000138889 /                                                \n",
       "CD2_2   =          0.000138889 /                                                \n",
       "CTYPE1  = 'RA---TAN'           /                                                \n",
       "CTYPE2  = 'DEC--TAN'           /                                                \n",
       "CUNIT1  = 'deg     '           /                                                \n",
       "CUNIT2  = 'deg     '           /                                                \n",
       "HDUCLASS= 'SDSS    '           /SDSS format class                               \n",
       "HDUCLAS1= 'CUBE    '           /                                                \n",
       "HDUCLAS2= 'DATA    '           /                                                \n",
       "ERRDATA = 'IVAR    '           / Error extension name                           \n",
       "QUALDATA= 'MASK    '           / Mask extension name                            \n",
       "EXTNAME = 'FLUX    '           /                                                \n",
       "DATASUM = '2745070007'         / data unit checksum updated 2018-03-21T06:08:47 \n",
       "CHECKSUM= 'KZaaKYRXKYXaKYXU'   / HDU checksum updated 2018-03-21T06:08:47       "
      ]
     },
     "execution_count": 42,
     "metadata": {},
     "output_type": "execute_result"
    }
   ],
   "source": [
    "print('Target Coordindates:', cube.ra, cube.dec)\n",
    "print('Header:')\n",
    "\n",
    "# access the PRIMARY header for the current object\n",
    "cube.header"
   ]
  },
  {
   "cell_type": "code",
   "execution_count": 43,
   "metadata": {},
   "outputs": [
    {
     "data": {
      "text/plain": [
       "WCS Keywords\n",
       "\n",
       "Number of WCS axes: 3\n",
       "CTYPE : 'RA---TAN'  'DEC--TAN'  'WAVE-LOG'  \n",
       "CRVAL : 232.5447  48.690201  3.62159598486e-07  \n",
       "CRPIX : 18.0  18.0  1.0  \n",
       "CD1_1 CD1_2 CD1_3  : -0.000138889  0.0  0.0  \n",
       "CD2_1 CD2_2 CD2_3  : 0.0  0.000138889  0.0  \n",
       "CD3_1 CD3_2 CD3_3  : 0.0  0.0  8.33903304339e-11  \n",
       "NAXIS : 34  34  4563"
      ]
     },
     "execution_count": 43,
     "metadata": {},
     "output_type": "execute_result"
    }
   ],
   "source": [
    "# show the WCS for the current object\n",
    "cube.wcs"
   ]
  },
  {
   "cell_type": "markdown",
   "metadata": {},
   "source": [
    "<a id=\"datamodel\"></a>\n",
    "### Object Datamodels\n",
    "Every Marvin object comes with a built-in **datamodel**, which shows us what extensions are available, how they are names, and what they contain.  "
   ]
  },
  {
   "cell_type": "code",
   "execution_count": 47,
   "metadata": {},
   "outputs": [
    {
     "data": {
      "text/plain": [
       "<DRPCubeDataModel release='DR15', n_datacubes=3, n_spectra=2>"
      ]
     },
     "execution_count": 47,
     "metadata": {},
     "output_type": "execute_result"
    }
   ],
   "source": [
    "# look up the cube datmaodel\n",
    "datamodel = cube.datamodel\n",
    "datamodel"
   ]
  },
  {
   "cell_type": "markdown",
   "metadata": {},
   "source": [
    "The datamodel for a cube contains 3 datacube extensions and 2 spectral extensions.  Let's look at them more closely.   "
   ]
  },
  {
   "cell_type": "code",
   "execution_count": 62,
   "metadata": {},
   "outputs": [
    {
     "name": "stdout",
     "output_type": "stream",
     "text": [
      "Datacubes:\n"
     ]
    },
    {
     "data": {
      "text/plain": [
       "[<DataCube 'flux', release='DR15', unit='1e-17 erg / (Angstrom cm2 s spaxel)'>,\n",
       " <DataCube 'dispersion', release='DR15', unit='Angstrom'>,\n",
       " <DataCube 'dispersion_prepixel', release='DR15', unit='Angstrom'>]"
      ]
     },
     "execution_count": 62,
     "metadata": {},
     "output_type": "execute_result"
    }
   ],
   "source": [
    "# see what datacubes are available\n",
    "print('Datacubes:')\n",
    "datamodel.datacubes"
   ]
  },
  {
   "cell_type": "code",
   "execution_count": 63,
   "metadata": {},
   "outputs": [
    {
     "name": "stdout",
     "output_type": "stream",
     "text": [
      "Spectra:\n"
     ]
    },
    {
     "data": {
      "text/plain": [
       "[<Spectrum 'spectral_resolution', release='DR15', unit='Angstrom'>,\n",
       " <Spectrum 'spectral_resolution_prepixel', release='DR15', unit='Angstrom'>]"
      ]
     },
     "execution_count": 63,
     "metadata": {},
     "output_type": "execute_result"
    }
   ],
   "source": [
    "# see what additional spectral extensions are available\n",
    "print('Spectra:')\n",
    "datamodel.spectra"
   ]
  },
  {
   "cell_type": "markdown",
   "metadata": {},
   "source": [
    "This tells us that this cube has three associated 3D datacubes, ``flux``, ``dispersion``, and ``dispersion_prepixel``, and two associated spectra, ``spectral_resolution`` and ``spectral_resolution_prepixel``, as well as their associated units. The ``description`` attribute provides information on what the extension is.  "
   ]
  },
  {
   "cell_type": "code",
   "execution_count": 64,
   "metadata": {},
   "outputs": [
    {
     "name": "stdout",
     "output_type": "stream",
     "text": [
      "Flux description: 3D rectified cube\n",
      "Spectral Resolution description: Median spectral resolution as a function of wavelength for the fibers in this IFU\n"
     ]
    }
   ],
   "source": [
    "print('Flux description:', datamodel.datacubes.flux.description)\n",
    "print('Spectral Resolution description:', datamodel.spectra.spectral_resolution.description)"
   ]
  },
  {
   "cell_type": "markdown",
   "metadata": {},
   "source": [
    "The names of each of the datacubes and spectral extensions are available as object attributes and can be used to access the associated data quantity.  Let's access the ``flux`` for our current cube.  "
   ]
  },
  {
   "cell_type": "code",
   "execution_count": 66,
   "metadata": {},
   "outputs": [
    {
     "data": {
      "text/latex": [
       "$[[[0,~0,~0,~\\dots,~0,~0,~0],~\n",
       "  [0,~0,~0,~\\dots,~0,~0,~0],~\n",
       "  [0,~0,~0,~\\dots,~0,~0,~0],~\n",
       "  \\dots,~\n",
       "  [0,~0,~0,~\\dots,~0,~0,~0],~\n",
       "  [0,~0,~0,~\\dots,~0,~0,~0],~\n",
       "  [0,~0,~0,~\\dots,~0,~0,~0]],~\n",
       "\n",
       " [[0,~0,~0,~\\dots,~0,~0,~0],~\n",
       "  [0,~0,~0,~\\dots,~0,~0,~0],~\n",
       "  [0,~0,~0,~\\dots,~0,~0,~0],~\n",
       "  \\dots,~\n",
       "  [0,~0,~0,~\\dots,~0,~0,~0],~\n",
       "  [0,~0,~0,~\\dots,~0,~0,~0],~\n",
       "  [0,~0,~0,~\\dots,~0,~0,~0]],~\n",
       "\n",
       " [[0,~0,~0,~\\dots,~0,~0,~0],~\n",
       "  [0,~0,~0,~\\dots,~0,~0,~0],~\n",
       "  [0,~0,~0,~\\dots,~0,~0,~0],~\n",
       "  \\dots,~\n",
       "  [0,~0,~0,~\\dots,~0,~0,~0],~\n",
       "  [0,~0,~0,~\\dots,~0,~0,~0],~\n",
       "  [0,~0,~0,~\\dots,~0,~0,~0]],~\n",
       "\n",
       " \\dots,~\n",
       "\n",
       " [[0,~0,~0,~\\dots,~0,~0,~0],~\n",
       "  [0,~0,~0,~\\dots,~0,~0,~0],~\n",
       "  [0,~0,~0,~\\dots,~0,~0,~0],~\n",
       "  \\dots,~\n",
       "  [0,~0,~0,~\\dots,~0,~0,~0],~\n",
       "  [0,~0,~0,~\\dots,~0,~0,~0],~\n",
       "  [0,~0,~0,~\\dots,~0,~0,~0]],~\n",
       "\n",
       " [[0,~0,~0,~\\dots,~0,~0,~0],~\n",
       "  [0,~0,~0,~\\dots,~0,~0,~0],~\n",
       "  [0,~0,~0,~\\dots,~0,~0,~0],~\n",
       "  \\dots,~\n",
       "  [0,~0,~0,~\\dots,~0,~0,~0],~\n",
       "  [0,~0,~0,~\\dots,~0,~0,~0],~\n",
       "  [0,~0,~0,~\\dots,~0,~0,~0]],~\n",
       "\n",
       " [[0,~0,~0,~\\dots,~0,~0,~0],~\n",
       "  [0,~0,~0,~\\dots,~0,~0,~0],~\n",
       "  [0,~0,~0,~\\dots,~0,~0,~0],~\n",
       "  \\dots,~\n",
       "  [0,~0,~0,~\\dots,~0,~0,~0],~\n",
       "  [0,~0,~0,~\\dots,~0,~0,~0],~\n",
       "  [0,~0,~0,~\\dots,~0,~0,~0]]] \\; \\mathrm{1 \\times 10^{-17}\\,\\frac{erg}{\\mathring{A}\\,s\\,spaxel\\,cm^{2}}}$"
      ],
      "text/plain": [
       "<DataCube [[[0., 0., 0., ..., 0., 0., 0.],\n",
       "            [0., 0., 0., ..., 0., 0., 0.],\n",
       "            [0., 0., 0., ..., 0., 0., 0.],\n",
       "            ...,\n",
       "            [0., 0., 0., ..., 0., 0., 0.],\n",
       "            [0., 0., 0., ..., 0., 0., 0.],\n",
       "            [0., 0., 0., ..., 0., 0., 0.]],\n",
       "\n",
       "           [[0., 0., 0., ..., 0., 0., 0.],\n",
       "            [0., 0., 0., ..., 0., 0., 0.],\n",
       "            [0., 0., 0., ..., 0., 0., 0.],\n",
       "            ...,\n",
       "            [0., 0., 0., ..., 0., 0., 0.],\n",
       "            [0., 0., 0., ..., 0., 0., 0.],\n",
       "            [0., 0., 0., ..., 0., 0., 0.]],\n",
       "\n",
       "           [[0., 0., 0., ..., 0., 0., 0.],\n",
       "            [0., 0., 0., ..., 0., 0., 0.],\n",
       "            [0., 0., 0., ..., 0., 0., 0.],\n",
       "            ...,\n",
       "            [0., 0., 0., ..., 0., 0., 0.],\n",
       "            [0., 0., 0., ..., 0., 0., 0.],\n",
       "            [0., 0., 0., ..., 0., 0., 0.]],\n",
       "\n",
       "           ...,\n",
       "\n",
       "           [[0., 0., 0., ..., 0., 0., 0.],\n",
       "            [0., 0., 0., ..., 0., 0., 0.],\n",
       "            [0., 0., 0., ..., 0., 0., 0.],\n",
       "            ...,\n",
       "            [0., 0., 0., ..., 0., 0., 0.],\n",
       "            [0., 0., 0., ..., 0., 0., 0.],\n",
       "            [0., 0., 0., ..., 0., 0., 0.]],\n",
       "\n",
       "           [[0., 0., 0., ..., 0., 0., 0.],\n",
       "            [0., 0., 0., ..., 0., 0., 0.],\n",
       "            [0., 0., 0., ..., 0., 0., 0.],\n",
       "            ...,\n",
       "            [0., 0., 0., ..., 0., 0., 0.],\n",
       "            [0., 0., 0., ..., 0., 0., 0.],\n",
       "            [0., 0., 0., ..., 0., 0., 0.]],\n",
       "\n",
       "           [[0., 0., 0., ..., 0., 0., 0.],\n",
       "            [0., 0., 0., ..., 0., 0., 0.],\n",
       "            [0., 0., 0., ..., 0., 0., 0.],\n",
       "            ...,\n",
       "            [0., 0., 0., ..., 0., 0., 0.],\n",
       "            [0., 0., 0., ..., 0., 0., 0.],\n",
       "            [0., 0., 0., ..., 0., 0., 0.]]] 1e-17 erg / (Angstrom cm2 s spaxel)>"
      ]
     },
     "execution_count": 66,
     "metadata": {},
     "output_type": "execute_result"
    }
   ],
   "source": [
    "flux = cube.flux\n",
    "flux"
   ]
  },
  {
   "cell_type": "markdown",
   "metadata": {},
   "source": [
    "The flux is represented as a 3D array with units. We can also access the inverse variance and the mask using ``flux.ivar`` and ``flux.mask``, respectively.  Marvin uses [Astropy quantities](https://sdss-marvin.readthedocs.io/en/stable/getting-started.html#marvin-quantities) to represent all internal multidimensional data, e.g. 3-d datacube and 2-d map arrays, or 1-d spectral data.  \n",
    "\n",
    "<a id=\"extract\"></a>\n",
    "### Extracting data\n",
    "All marvin arrays can be sliced to extract subsets of data.  Slices of datacubes produce new datacubes.  Slices of spectra produce new spectra.  A single slice from a datacube extracts a spectrum.  Each spectrum can be easily displayed with its ``plot`` attribute.        "
   ]
  },
  {
   "cell_type": "code",
   "execution_count": 81,
   "metadata": {},
   "outputs": [
    {
     "data": {
      "text/latex": [
       "$[[[-0.091659956,~-0.057862502,~-0.069440775,~\\dots,~0.053298473,~0.062018514,~0.061692294],~\n",
       "  [-0.039790876,~0.0012025207,~0.020654099,~\\dots,~0.10088551,~0.086681418,~0.077831492],~\n",
       "  [0.019458937,~0.077283047,~0.10514027,~\\dots,~0.20350538,~0.14156495,~0.095826343],~\n",
       "  \\dots,~\n",
       "  [0.11238833,~0.210729,~0.26030195,~\\dots,~0.31280893,~0.15664732,~0.045407701],~\n",
       "  [0.10175533,~0.16688073,~0.1919646,~\\dots,~0.25600749,~0.17017685,~0.085642852],~\n",
       "  [0.054798402,~0.090783022,~0.094782196,~\\dots,~0.19204016,~0.14744423,~0.092620544]],~\n",
       "\n",
       " [[0.082437925,~0.13506371,~0.15769725,~\\dots,~-0.017692961,~-0.0091365296,~-0.011535237],~\n",
       "  [0.08238145,~0.14059068,~0.20465873,~\\dots,~0.00030586062,~0.015362157,~0.02579339],~\n",
       "  [0.10742286,~0.19580711,~0.26307943,~\\dots,~0.090322539,~0.099070497,~0.10215754],~\n",
       "  \\dots,~\n",
       "  [0.13724391,~0.24727274,~0.32436091,~\\dots,~0.20887852,~0.1519153,~0.08934544],~\n",
       "  [0.071373947,~0.18353277,~0.279935,~\\dots,~0.19906537,~0.19028623,~0.14837392],~\n",
       "  [0.03953917,~0.1445726,~0.23140128,~\\dots,~0.19428748,~0.18247326,~0.14610548]],~\n",
       "\n",
       " [[0.080393434,~0.15365259,~0.17991598,~\\dots,~0.11157861,~0.14622529,~0.13381542],~\n",
       "  [0.063174374,~0.13302146,~0.19359955,~\\dots,~0.092888884,~0.12845202,~0.13867338],~\n",
       "  [0.073336095,~0.15482704,~0.22972785,~\\dots,~0.12644014,~0.12638213,~0.12386632],~\n",
       "  \\dots,~\n",
       "  [0.13358407,~0.20693749,~0.2933836,~\\dots,~0.29559252,~0.25168392,~0.22717273],~\n",
       "  [0.068491481,~0.16247286,~0.27922529,~\\dots,~0.2724455,~0.24940087,~0.24897653],~\n",
       "  [0.025780736,~0.14267682,~0.24933307,~\\dots,~0.25498557,~0.22155441,~0.18757398]],~\n",
       "\n",
       " \\dots,~\n",
       "\n",
       " [[0,~0,~0,~\\dots,~0,~0,~0],~\n",
       "  [0,~0,~0,~\\dots,~0,~0,~0],~\n",
       "  [0,~0,~0,~\\dots,~0,~0,~0],~\n",
       "  \\dots,~\n",
       "  [0,~0,~0,~\\dots,~0,~0,~0],~\n",
       "  [0,~0,~0,~\\dots,~0,~0,~0],~\n",
       "  [0,~0,~0,~\\dots,~0,~0,~0]],~\n",
       "\n",
       " [[0,~0,~0,~\\dots,~0,~0,~0],~\n",
       "  [0,~0,~0,~\\dots,~0,~0,~0],~\n",
       "  [0,~0,~0,~\\dots,~0,~0,~0],~\n",
       "  \\dots,~\n",
       "  [0,~0,~0,~\\dots,~0,~0,~0],~\n",
       "  [0,~0,~0,~\\dots,~0,~0,~0],~\n",
       "  [0,~0,~0,~\\dots,~0,~0,~0]],~\n",
       "\n",
       " [[0,~0,~0,~\\dots,~0,~0,~0],~\n",
       "  [0,~0,~0,~\\dots,~0,~0,~0],~\n",
       "  [0,~0,~0,~\\dots,~0,~0,~0],~\n",
       "  \\dots,~\n",
       "  [0,~0,~0,~\\dots,~0,~0,~0],~\n",
       "  [0,~0,~0,~\\dots,~0,~0,~0],~\n",
       "  [0,~0,~0,~\\dots,~0,~0,~0]]] \\; \\mathrm{1 \\times 10^{-17}\\,\\frac{erg}{\\mathring{A}\\,s\\,spaxel\\,cm^{2}}}$"
      ],
      "text/plain": [
       "<DataCube [[[-9.16599557e-02, -5.78625016e-02, -6.94407746e-02, ...,\n",
       "              5.32984734e-02,  6.20185137e-02,  6.16922937e-02],\n",
       "            [-3.97908762e-02,  1.20252068e-03,  2.06540991e-02, ...,\n",
       "              1.00885510e-01,  8.66814181e-02,  7.78314918e-02],\n",
       "            [ 1.94589365e-02,  7.72830471e-02,  1.05140269e-01, ...,\n",
       "              2.03505382e-01,  1.41564950e-01,  9.58263427e-02],\n",
       "            ...,\n",
       "            [ 1.12388328e-01,  2.10729003e-01,  2.60301948e-01, ...,\n",
       "              3.12808931e-01,  1.56647325e-01,  4.54077013e-02],\n",
       "            [ 1.01755328e-01,  1.66880727e-01,  1.91964597e-01, ...,\n",
       "              2.56007493e-01,  1.70176849e-01,  8.56428519e-02],\n",
       "            [ 5.47984019e-02,  9.07830223e-02,  9.47821960e-02, ...,\n",
       "              1.92040160e-01,  1.47444233e-01,  9.26205441e-02]],\n",
       "\n",
       "           [[ 8.24379250e-02,  1.35063708e-01,  1.57697245e-01, ...,\n",
       "             -1.76929608e-02, -9.13652964e-03, -1.15352366e-02],\n",
       "            [ 8.23814496e-02,  1.40590683e-01,  2.04658732e-01, ...,\n",
       "              3.05860623e-04,  1.53621566e-02,  2.57933903e-02],\n",
       "            [ 1.07422858e-01,  1.95807114e-01,  2.63079435e-01, ...,\n",
       "              9.03225392e-02,  9.90704969e-02,  1.02157541e-01],\n",
       "            ...,\n",
       "            [ 1.37243912e-01,  2.47272745e-01,  3.24360907e-01, ...,\n",
       "              2.08878517e-01,  1.51915297e-01,  8.93454403e-02],\n",
       "            [ 7.13739470e-02,  1.83532774e-01,  2.79935002e-01, ...,\n",
       "              1.99065372e-01,  1.90286234e-01,  1.48373917e-01],\n",
       "            [ 3.95391695e-02,  1.44572601e-01,  2.31401280e-01, ...,\n",
       "              1.94287479e-01,  1.82473257e-01,  1.46105483e-01]],\n",
       "\n",
       "           [[ 8.03934336e-02,  1.53652593e-01,  1.79915980e-01, ...,\n",
       "              1.11578606e-01,  1.46225289e-01,  1.33815423e-01],\n",
       "            [ 6.31743744e-02,  1.33021459e-01,  1.93599552e-01, ...,\n",
       "              9.28888842e-02,  1.28452018e-01,  1.38673380e-01],\n",
       "            [ 7.33360946e-02,  1.54827043e-01,  2.29727849e-01, ...,\n",
       "              1.26440138e-01,  1.26382127e-01,  1.23866320e-01],\n",
       "            ...,\n",
       "            [ 1.33584067e-01,  2.06937492e-01,  2.93383598e-01, ...,\n",
       "              2.95592517e-01,  2.51683921e-01,  2.27172732e-01],\n",
       "            [ 6.84914812e-02,  1.62472859e-01,  2.79225290e-01, ...,\n",
       "              2.72445500e-01,  2.49400869e-01,  2.48976529e-01],\n",
       "            [ 2.57807355e-02,  1.42676815e-01,  2.49333069e-01, ...,\n",
       "              2.54985571e-01,  2.21554413e-01,  1.87573984e-01]],\n",
       "\n",
       "           ...,\n",
       "\n",
       "           [[ 0.00000000e+00,  0.00000000e+00,  0.00000000e+00, ...,\n",
       "              0.00000000e+00,  0.00000000e+00,  0.00000000e+00],\n",
       "            [ 0.00000000e+00,  0.00000000e+00,  0.00000000e+00, ...,\n",
       "              0.00000000e+00,  0.00000000e+00,  0.00000000e+00],\n",
       "            [ 0.00000000e+00,  0.00000000e+00,  0.00000000e+00, ...,\n",
       "              0.00000000e+00,  0.00000000e+00,  0.00000000e+00],\n",
       "            ...,\n",
       "            [ 0.00000000e+00,  0.00000000e+00,  0.00000000e+00, ...,\n",
       "              0.00000000e+00,  0.00000000e+00,  0.00000000e+00],\n",
       "            [ 0.00000000e+00,  0.00000000e+00,  0.00000000e+00, ...,\n",
       "              0.00000000e+00,  0.00000000e+00,  0.00000000e+00],\n",
       "            [ 0.00000000e+00,  0.00000000e+00,  0.00000000e+00, ...,\n",
       "              0.00000000e+00,  0.00000000e+00,  0.00000000e+00]],\n",
       "\n",
       "           [[ 0.00000000e+00,  0.00000000e+00,  0.00000000e+00, ...,\n",
       "              0.00000000e+00,  0.00000000e+00,  0.00000000e+00],\n",
       "            [ 0.00000000e+00,  0.00000000e+00,  0.00000000e+00, ...,\n",
       "              0.00000000e+00,  0.00000000e+00,  0.00000000e+00],\n",
       "            [ 0.00000000e+00,  0.00000000e+00,  0.00000000e+00, ...,\n",
       "              0.00000000e+00,  0.00000000e+00,  0.00000000e+00],\n",
       "            ...,\n",
       "            [ 0.00000000e+00,  0.00000000e+00,  0.00000000e+00, ...,\n",
       "              0.00000000e+00,  0.00000000e+00,  0.00000000e+00],\n",
       "            [ 0.00000000e+00,  0.00000000e+00,  0.00000000e+00, ...,\n",
       "              0.00000000e+00,  0.00000000e+00,  0.00000000e+00],\n",
       "            [ 0.00000000e+00,  0.00000000e+00,  0.00000000e+00, ...,\n",
       "              0.00000000e+00,  0.00000000e+00,  0.00000000e+00]],\n",
       "\n",
       "           [[ 0.00000000e+00,  0.00000000e+00,  0.00000000e+00, ...,\n",
       "              0.00000000e+00,  0.00000000e+00,  0.00000000e+00],\n",
       "            [ 0.00000000e+00,  0.00000000e+00,  0.00000000e+00, ...,\n",
       "              0.00000000e+00,  0.00000000e+00,  0.00000000e+00],\n",
       "            [ 0.00000000e+00,  0.00000000e+00,  0.00000000e+00, ...,\n",
       "              0.00000000e+00,  0.00000000e+00,  0.00000000e+00],\n",
       "            ...,\n",
       "            [ 0.00000000e+00,  0.00000000e+00,  0.00000000e+00, ...,\n",
       "              0.00000000e+00,  0.00000000e+00,  0.00000000e+00],\n",
       "            [ 0.00000000e+00,  0.00000000e+00,  0.00000000e+00, ...,\n",
       "              0.00000000e+00,  0.00000000e+00,  0.00000000e+00],\n",
       "            [ 0.00000000e+00,  0.00000000e+00,  0.00000000e+00, ...,\n",
       "              0.00000000e+00,  0.00000000e+00,  0.00000000e+00]]] 1e-17 erg / (Angstrom cm2 s spaxel)>"
      ]
     },
     "execution_count": 81,
     "metadata": {},
     "output_type": "execute_result"
    }
   ],
   "source": [
    "# create a small datacube subset in a 10x10 pixel region around the center of the target\n",
    "central_pixel = int(cube.flux.shape[1]/2)\n",
    "lo = central_pixel - 5\n",
    "hi = central_pixel + 5\n",
    "subset = flux[:, lo:hi, lo:hi]\n",
    "subset"
   ]
  },
  {
   "cell_type": "code",
   "execution_count": 84,
   "metadata": {},
   "outputs": [
    {
     "data": {
      "text/latex": [
       "$[0.51865631,~0.43517455,~0.41204447,~\\dots,~0,~0,~0] \\; \\mathrm{1 \\times 10^{-17}\\,\\frac{erg}{\\mathring{A}\\,s\\,spaxel\\,cm^{2}}}$"
      ],
      "text/plain": [
       "<Spectrum [0.5186563 , 0.43517455, 0.41204447, ..., 0.        , 0.        ,\n",
       "           0.        ] 1e-17 erg / (Angstrom cm2 s spaxel)>"
      ]
     },
     "execution_count": 84,
     "metadata": {},
     "output_type": "execute_result"
    }
   ],
   "source": [
    "# extract a single spectrum and display it\n",
    "spectrum = flux[:, 16, 17]\n",
    "spectrum"
   ]
  },
  {
   "cell_type": "code",
   "execution_count": 85,
   "metadata": {},
   "outputs": [
    {
     "name": "stderr",
     "output_type": "stream",
     "text": [
      "WARNING: AstropyDeprecationWarning: The truth value of a Quantity is ambiguous. In the future this will raise a ValueError. [astropy.units.quantity]\n"
     ]
    },
    {
     "data": {
      "text/plain": [
       "<matplotlib.axes._subplots.AxesSubplot at 0x11ceb8588>"
      ]
     },
     "execution_count": 85,
     "metadata": {},
     "output_type": "execute_result"
    },
    {
     "data": {
      "image/png": "[encoded data removed]",
      "text/plain": [
       "<Figure size 432x288 with 1 Axes>"
      ]
     },
     "metadata": {},
     "output_type": "display_data"
    }
   ],
   "source": [
    "spectrum.plot(show_std=True)"
   ]
  },
  {
   "cell_type": "markdown",
   "metadata": {},
   "source": [
    "<a id=\"associates\"></a>\n",
    "### Accessing Associated Objects\n",
    "\n",
    "For a given target galaxy, there are many associated MaNGA Data Products from both the reduction and analysis pipelines.  Marvin seamlessly connects these together so you don't have to access them individually.  Let's access the DAP Maps objects associated with our cube.  To do so we use the ``getMaps`` method on ``cube``.  All instances have ``getXXX`` methods that allow you to access associated data objects for a given target.  "
   ]
  },
  {
   "cell_type": "code",
   "execution_count": 87,
   "metadata": {},
   "outputs": [
    {
     "data": {
      "text/plain": [
       "<Marvin Maps (plateifu='8485-1901', mode='local', data_origin='file', bintype='HYB10', template='GAU-MILESHC')>"
      ]
     },
     "execution_count": 87,
     "metadata": {},
     "output_type": "execute_result"
    }
   ],
   "source": [
    "# access the Maps object from our cube\n",
    "maps = cube.getMaps()\n",
    "maps"
   ]
  },
  {
   "cell_type": "markdown",
   "metadata": {},
   "source": [
    "When accessing associated objects, Marvin also smartly determines whether to open the file locally or remotely grab it over the API.  In our case, the **mode** is local and **data_origin** is file.  DAP Maps have different bintypes.  The default binning is **HYB10**, a hybrid binning scheme to S/N~10.  To load a different bintype, use the ``bintype`` keyword argument in the ``cube.getMaps`` method.    \n",
    "\n",
    "A ``Maps`` behaves very similarly to a ``Cube`` and everything we have discussed above will still work. Instead of datacubes and spectra, a ``Maps`` object contains a set of 2D quantities called ``Map``, each one of them representing a different property measured by the DAP. One can get a full list of all the properties available using the datamodel."
   ]
  },
  {
   "cell_type": "code",
   "execution_count": 88,
   "metadata": {},
   "outputs": [
    {
     "data": {
      "text/plain": [
       "[<Property 'spx_skycoo', channel='on_sky_x', release='2.2.1', unit='arcsec'>,\n",
       " <Property 'spx_skycoo', channel='on_sky_y', release='2.2.1', unit='arcsec'>,\n",
       " <Property 'spx_ellcoo', channel='elliptical_radius', release='2.2.1', unit='arcsec'>,\n",
       " <Property 'spx_ellcoo', channel='r_re', release='2.2.1', unit=''>,\n",
       " <Property 'spx_ellcoo', channel='elliptical_azimuth', release='2.2.1', unit='deg'>,\n",
       " <Property 'spx_mflux', channel='None', release='2.2.1', unit='1e-17 erg / (cm2 s spaxel)'>,\n",
       " <Property 'spx_snr', channel='None', release='2.2.1', unit=''>,\n",
       " <Property 'binid', channel='binned_spectra', release='2.2.1', unit=''>,\n",
       " <Property 'binid', channel='stellar_continua', release='2.2.1', unit=''>,\n",
       " <Property 'binid', channel='em_line_moments', release='2.2.1', unit=''>,\n",
       " <Property 'binid', channel='em_line_models', release='2.2.1', unit=''>,\n",
       " <Property 'binid', channel='spectral_indices', release='2.2.1', unit=''>,\n",
       " <Property 'bin_lwskycoo', channel='lum_weighted_on_sky_x', release='2.2.1', unit='arcsec'>,\n",
       " <Property 'bin_lwskycoo', channel='lum_weighted_on_sky_y', release='2.2.1', unit='arcsec'>,\n",
       " <Property 'bin_lwellcoo', channel='lum_weighted_elliptical_radius', release='2.2.1', unit='arcsec'>,\n",
       " <Property 'bin_lwellcoo', channel='r_re', release='2.2.1', unit=''>,\n",
       " <Property 'bin_lwellcoo', channel='lum_weighted_elliptical_azimuth', release='2.2.1', unit='deg'>,\n",
       " <Property 'bin_area', channel='None', release='2.2.1', unit='arcsec2'>,\n",
       " <Property 'bin_farea', channel='None', release='2.2.1', unit=''>,\n",
       " <Property 'bin_mflux', channel='None', release='2.2.1', unit='1e-17 erg / (cm2 s spaxel)'>,\n",
       " <Property 'bin_snr', channel='None', release='2.2.1', unit=''>,\n",
       " <Property 'stellar_vel', channel='None', release='2.2.1', unit='km / s'>,\n",
       " <Property 'stellar_sigma', channel='None', release='2.2.1', unit='km / s'>,\n",
       " <Property 'stellar_sigmacorr', channel='None', release='2.2.1', unit='km / s'>,\n",
       " <Property 'stellar_cont_fresid', channel='68th_percentile', release='2.2.1', unit=''>,\n",
       " <Property 'stellar_cont_fresid', channel='99th_percentile', release='2.2.1', unit=''>,\n",
       " <Property 'stellar_cont_rchi2', channel='None', release='2.2.1', unit=''>,\n",
       " <Property 'emline_sflux', channel='oiid_3728', release='2.2.1', unit='1e-17 erg / (cm2 s spaxel)'>,\n",
       " <Property 'emline_sflux', channel='oii_3729', release='2.2.1', unit='1e-17 erg / (cm2 s spaxel)'>,\n",
       " <Property 'emline_sflux', channel='hthe_3798', release='2.2.1', unit='1e-17 erg / (cm2 s spaxel)'>,\n",
       " <Property 'emline_sflux', channel='heta_3836', release='2.2.1', unit='1e-17 erg / (cm2 s spaxel)'>,\n",
       " <Property 'emline_sflux', channel='neiii_3869', release='2.2.1', unit='1e-17 erg / (cm2 s spaxel)'>,\n",
       " <Property 'emline_sflux', channel='hzet_3890', release='2.2.1', unit='1e-17 erg / (cm2 s spaxel)'>,\n",
       " <Property 'emline_sflux', channel='neiii_3968', release='2.2.1', unit='1e-17 erg / (cm2 s spaxel)'>,\n",
       " <Property 'emline_sflux', channel='heps_3971', release='2.2.1', unit='1e-17 erg / (cm2 s spaxel)'>,\n",
       " <Property 'emline_sflux', channel='hdel_4102', release='2.2.1', unit='1e-17 erg / (cm2 s spaxel)'>,\n",
       " <Property 'emline_sflux', channel='hgam_4341', release='2.2.1', unit='1e-17 erg / (cm2 s spaxel)'>,\n",
       " <Property 'emline_sflux', channel='heii_4687', release='2.2.1', unit='1e-17 erg / (cm2 s spaxel)'>,\n",
       " <Property 'emline_sflux', channel='hb_4862', release='2.2.1', unit='1e-17 erg / (cm2 s spaxel)'>,\n",
       " <Property 'emline_sflux', channel='oiii_4960', release='2.2.1', unit='1e-17 erg / (cm2 s spaxel)'>,\n",
       " <Property 'emline_sflux', channel='oiii_5008', release='2.2.1', unit='1e-17 erg / (cm2 s spaxel)'>,\n",
       " <Property 'emline_sflux', channel='hei_5877', release='2.2.1', unit='1e-17 erg / (cm2 s spaxel)'>,\n",
       " <Property 'emline_sflux', channel='oi_6302', release='2.2.1', unit='1e-17 erg / (cm2 s spaxel)'>,\n",
       " <Property 'emline_sflux', channel='oi_6365', release='2.2.1', unit='1e-17 erg / (cm2 s spaxel)'>,\n",
       " <Property 'emline_sflux', channel='nii_6549', release='2.2.1', unit='1e-17 erg / (cm2 s spaxel)'>,\n",
       " <Property 'emline_sflux', channel='ha_6564', release='2.2.1', unit='1e-17 erg / (cm2 s spaxel)'>,\n",
       " <Property 'emline_sflux', channel='nii_6585', release='2.2.1', unit='1e-17 erg / (cm2 s spaxel)'>,\n",
       " <Property 'emline_sflux', channel='sii_6718', release='2.2.1', unit='1e-17 erg / (cm2 s spaxel)'>,\n",
       " <Property 'emline_sflux', channel='sii_6732', release='2.2.1', unit='1e-17 erg / (cm2 s spaxel)'>,\n",
       " <Property 'emline_sew', channel='oiid_3728', release='2.2.1', unit='Angstrom'>,\n",
       " <Property 'emline_sew', channel='oii_3729', release='2.2.1', unit='Angstrom'>,\n",
       " <Property 'emline_sew', channel='hthe_3798', release='2.2.1', unit='Angstrom'>,\n",
       " <Property 'emline_sew', channel='heta_3836', release='2.2.1', unit='Angstrom'>,\n",
       " <Property 'emline_sew', channel='neiii_3869', release='2.2.1', unit='Angstrom'>,\n",
       " <Property 'emline_sew', channel='hzet_3890', release='2.2.1', unit='Angstrom'>,\n",
       " <Property 'emline_sew', channel='neiii_3968', release='2.2.1', unit='Angstrom'>,\n",
       " <Property 'emline_sew', channel='heps_3971', release='2.2.1', unit='Angstrom'>,\n",
       " <Property 'emline_sew', channel='hdel_4102', release='2.2.1', unit='Angstrom'>,\n",
       " <Property 'emline_sew', channel='hgam_4341', release='2.2.1', unit='Angstrom'>,\n",
       " <Property 'emline_sew', channel='heii_4687', release='2.2.1', unit='Angstrom'>,\n",
       " <Property 'emline_sew', channel='hb_4862', release='2.2.1', unit='Angstrom'>,\n",
       " <Property 'emline_sew', channel='oiii_4960', release='2.2.1', unit='Angstrom'>,\n",
       " <Property 'emline_sew', channel='oiii_5008', release='2.2.1', unit='Angstrom'>,\n",
       " <Property 'emline_sew', channel='hei_5877', release='2.2.1', unit='Angstrom'>,\n",
       " <Property 'emline_sew', channel='oi_6302', release='2.2.1', unit='Angstrom'>,\n",
       " <Property 'emline_sew', channel='oi_6365', release='2.2.1', unit='Angstrom'>,\n",
       " <Property 'emline_sew', channel='nii_6549', release='2.2.1', unit='Angstrom'>,\n",
       " <Property 'emline_sew', channel='ha_6564', release='2.2.1', unit='Angstrom'>,\n",
       " <Property 'emline_sew', channel='nii_6585', release='2.2.1', unit='Angstrom'>,\n",
       " <Property 'emline_sew', channel='sii_6718', release='2.2.1', unit='Angstrom'>,\n",
       " <Property 'emline_sew', channel='sii_6732', release='2.2.1', unit='Angstrom'>,\n",
       " <Property 'emline_gflux', channel='oii_3727', release='2.2.1', unit='1e-17 erg / (cm2 s spaxel)'>,\n",
       " <Property 'emline_gflux', channel='oii_3729', release='2.2.1', unit='1e-17 erg / (cm2 s spaxel)'>,\n",
       " <Property 'emline_gflux', channel='hthe_3798', release='2.2.1', unit='1e-17 erg / (cm2 s spaxel)'>,\n",
       " <Property 'emline_gflux', channel='heta_3836', release='2.2.1', unit='1e-17 erg / (cm2 s spaxel)'>,\n",
       " <Property 'emline_gflux', channel='neiii_3869', release='2.2.1', unit='1e-17 erg / (cm2 s spaxel)'>,\n",
       " <Property 'emline_gflux', channel='hzet_3890', release='2.2.1', unit='1e-17 erg / (cm2 s spaxel)'>,\n",
       " <Property 'emline_gflux', channel='neiii_3968', release='2.2.1', unit='1e-17 erg / (cm2 s spaxel)'>,\n",
       " <Property 'emline_gflux', channel='heps_3971', release='2.2.1', unit='1e-17 erg / (cm2 s spaxel)'>,\n",
       " <Property 'emline_gflux', channel='hdel_4102', release='2.2.1', unit='1e-17 erg / (cm2 s spaxel)'>,\n",
       " <Property 'emline_gflux', channel='hgam_4341', release='2.2.1', unit='1e-17 erg / (cm2 s spaxel)'>,\n",
       " <Property 'emline_gflux', channel='heii_4687', release='2.2.1', unit='1e-17 erg / (cm2 s spaxel)'>,\n",
       " <Property 'emline_gflux', channel='hb_4862', release='2.2.1', unit='1e-17 erg / (cm2 s spaxel)'>,\n",
       " <Property 'emline_gflux', channel='oiii_4960', release='2.2.1', unit='1e-17 erg / (cm2 s spaxel)'>,\n",
       " <Property 'emline_gflux', channel='oiii_5008', release='2.2.1', unit='1e-17 erg / (cm2 s spaxel)'>,\n",
       " <Property 'emline_gflux', channel='hei_5877', release='2.2.1', unit='1e-17 erg / (cm2 s spaxel)'>,\n",
       " <Property 'emline_gflux', channel='oi_6302', release='2.2.1', unit='1e-17 erg / (cm2 s spaxel)'>,\n",
       " <Property 'emline_gflux', channel='oi_6365', release='2.2.1', unit='1e-17 erg / (cm2 s spaxel)'>,\n",
       " <Property 'emline_gflux', channel='nii_6549', release='2.2.1', unit='1e-17 erg / (cm2 s spaxel)'>,\n",
       " <Property 'emline_gflux', channel='ha_6564', release='2.2.1', unit='1e-17 erg / (cm2 s spaxel)'>,\n",
       " <Property 'emline_gflux', channel='nii_6585', release='2.2.1', unit='1e-17 erg / (cm2 s spaxel)'>,\n",
       " <Property 'emline_gflux', channel='sii_6718', release='2.2.1', unit='1e-17 erg / (cm2 s spaxel)'>,\n",
       " <Property 'emline_gflux', channel='sii_6732', release='2.2.1', unit='1e-17 erg / (cm2 s spaxel)'>,\n",
       " <Property 'emline_gvel', channel='oii_3727', release='2.2.1', unit='km / s'>,\n",
       " <Property 'emline_gvel', channel='oii_3729', release='2.2.1', unit='km / s'>,\n",
       " <Property 'emline_gvel', channel='hthe_3798', release='2.2.1', unit='km / s'>,\n",
       " <Property 'emline_gvel', channel='heta_3836', release='2.2.1', unit='km / s'>,\n",
       " <Property 'emline_gvel', channel='neiii_3869', release='2.2.1', unit='km / s'>,\n",
       " <Property 'emline_gvel', channel='hzet_3890', release='2.2.1', unit='km / s'>,\n",
       " <Property 'emline_gvel', channel='neiii_3968', release='2.2.1', unit='km / s'>,\n",
       " <Property 'emline_gvel', channel='heps_3971', release='2.2.1', unit='km / s'>,\n",
       " <Property 'emline_gvel', channel='hdel_4102', release='2.2.1', unit='km / s'>,\n",
       " <Property 'emline_gvel', channel='hgam_4341', release='2.2.1', unit='km / s'>,\n",
       " <Property 'emline_gvel', channel='heii_4687', release='2.2.1', unit='km / s'>,\n",
       " <Property 'emline_gvel', channel='hb_4862', release='2.2.1', unit='km / s'>,\n",
       " <Property 'emline_gvel', channel='oiii_4960', release='2.2.1', unit='km / s'>,\n",
       " <Property 'emline_gvel', channel='oiii_5008', release='2.2.1', unit='km / s'>,\n",
       " <Property 'emline_gvel', channel='hei_5877', release='2.2.1', unit='km / s'>,\n",
       " <Property 'emline_gvel', channel='oi_6302', release='2.2.1', unit='km / s'>,\n",
       " <Property 'emline_gvel', channel='oi_6365', release='2.2.1', unit='km / s'>,\n",
       " <Property 'emline_gvel', channel='nii_6549', release='2.2.1', unit='km / s'>,\n",
       " <Property 'emline_gvel', channel='ha_6564', release='2.2.1', unit='km / s'>,\n",
       " <Property 'emline_gvel', channel='nii_6585', release='2.2.1', unit='km / s'>,\n",
       " <Property 'emline_gvel', channel='sii_6718', release='2.2.1', unit='km / s'>,\n",
       " <Property 'emline_gvel', channel='sii_6732', release='2.2.1', unit='km / s'>,\n",
       " <Property 'emline_gew', channel='oii_3727', release='2.2.1', unit='Angstrom'>,\n",
       " <Property 'emline_gew', channel='oii_3729', release='2.2.1', unit='Angstrom'>,\n",
       " <Property 'emline_gew', channel='hthe_3798', release='2.2.1', unit='Angstrom'>,\n",
       " <Property 'emline_gew', channel='heta_3836', release='2.2.1', unit='Angstrom'>,\n",
       " <Property 'emline_gew', channel='neiii_3869', release='2.2.1', unit='Angstrom'>,\n",
       " <Property 'emline_gew', channel='hzet_3890', release='2.2.1', unit='Angstrom'>,\n",
       " <Property 'emline_gew', channel='neiii_3968', release='2.2.1', unit='Angstrom'>,\n",
       " <Property 'emline_gew', channel='heps_3971', release='2.2.1', unit='Angstrom'>,\n",
       " <Property 'emline_gew', channel='hdel_4102', release='2.2.1', unit='Angstrom'>,\n",
       " <Property 'emline_gew', channel='hgam_4341', release='2.2.1', unit='Angstrom'>,\n",
       " <Property 'emline_gew', channel='heii_4687', release='2.2.1', unit='Angstrom'>,\n",
       " <Property 'emline_gew', channel='hb_4862', release='2.2.1', unit='Angstrom'>,\n",
       " <Property 'emline_gew', channel='oiii_4960', release='2.2.1', unit='Angstrom'>,\n",
       " <Property 'emline_gew', channel='oiii_5008', release='2.2.1', unit='Angstrom'>,\n",
       " <Property 'emline_gew', channel='hei_5877', release='2.2.1', unit='Angstrom'>,\n",
       " <Property 'emline_gew', channel='oi_6302', release='2.2.1', unit='Angstrom'>,\n",
       " <Property 'emline_gew', channel='oi_6365', release='2.2.1', unit='Angstrom'>,\n",
       " <Property 'emline_gew', channel='nii_6549', release='2.2.1', unit='Angstrom'>,\n",
       " <Property 'emline_gew', channel='ha_6564', release='2.2.1', unit='Angstrom'>,\n",
       " <Property 'emline_gew', channel='nii_6585', release='2.2.1', unit='Angstrom'>,\n",
       " <Property 'emline_gew', channel='sii_6718', release='2.2.1', unit='Angstrom'>,\n",
       " <Property 'emline_gew', channel='sii_6732', release='2.2.1', unit='Angstrom'>,\n",
       " <Property 'emline_gsigma', channel='oii_3727', release='2.2.1', unit='km / s'>,\n",
       " <Property 'emline_gsigma', channel='oii_3729', release='2.2.1', unit='km / s'>,\n",
       " <Property 'emline_gsigma', channel='hthe_3798', release='2.2.1', unit='km / s'>,\n",
       " <Property 'emline_gsigma', channel='heta_3836', release='2.2.1', unit='km / s'>,\n",
       " <Property 'emline_gsigma', channel='neiii_3869', release='2.2.1', unit='km / s'>,\n",
       " <Property 'emline_gsigma', channel='hzet_3890', release='2.2.1', unit='km / s'>,\n",
       " <Property 'emline_gsigma', channel='neiii_3968', release='2.2.1', unit='km / s'>,\n",
       " <Property 'emline_gsigma', channel='heps_3971', release='2.2.1', unit='km / s'>,\n",
       " <Property 'emline_gsigma', channel='hdel_4102', release='2.2.1', unit='km / s'>,\n",
       " <Property 'emline_gsigma', channel='hgam_4341', release='2.2.1', unit='km / s'>,\n",
       " <Property 'emline_gsigma', channel='heii_4687', release='2.2.1', unit='km / s'>,\n",
       " <Property 'emline_gsigma', channel='hb_4862', release='2.2.1', unit='km / s'>,\n",
       " <Property 'emline_gsigma', channel='oiii_4960', release='2.2.1', unit='km / s'>,\n",
       " <Property 'emline_gsigma', channel='oiii_5008', release='2.2.1', unit='km / s'>,\n",
       " <Property 'emline_gsigma', channel='hei_5877', release='2.2.1', unit='km / s'>,\n",
       " <Property 'emline_gsigma', channel='oi_6302', release='2.2.1', unit='km / s'>,\n",
       " <Property 'emline_gsigma', channel='oi_6365', release='2.2.1', unit='km / s'>,\n",
       " <Property 'emline_gsigma', channel='nii_6549', release='2.2.1', unit='km / s'>,\n",
       " <Property 'emline_gsigma', channel='ha_6564', release='2.2.1', unit='km / s'>,\n",
       " <Property 'emline_gsigma', channel='nii_6585', release='2.2.1', unit='km / s'>,\n",
       " <Property 'emline_gsigma', channel='sii_6718', release='2.2.1', unit='km / s'>,\n",
       " <Property 'emline_gsigma', channel='sii_6732', release='2.2.1', unit='km / s'>,\n",
       " <Property 'emline_instsigma', channel='oii_3727', release='2.2.1', unit='km / s'>,\n",
       " <Property 'emline_instsigma', channel='oii_3729', release='2.2.1', unit='km / s'>,\n",
       " <Property 'emline_instsigma', channel='hthe_3798', release='2.2.1', unit='km / s'>,\n",
       " <Property 'emline_instsigma', channel='heta_3836', release='2.2.1', unit='km / s'>,\n",
       " <Property 'emline_instsigma', channel='neiii_3869', release='2.2.1', unit='km / s'>,\n",
       " <Property 'emline_instsigma', channel='hzet_3890', release='2.2.1', unit='km / s'>,\n",
       " <Property 'emline_instsigma', channel='neiii_3968', release='2.2.1', unit='km / s'>,\n",
       " <Property 'emline_instsigma', channel='heps_3971', release='2.2.1', unit='km / s'>,\n",
       " <Property 'emline_instsigma', channel='hdel_4102', release='2.2.1', unit='km / s'>,\n",
       " <Property 'emline_instsigma', channel='hgam_4341', release='2.2.1', unit='km / s'>,\n",
       " <Property 'emline_instsigma', channel='heii_4687', release='2.2.1', unit='km / s'>,\n",
       " <Property 'emline_instsigma', channel='hb_4862', release='2.2.1', unit='km / s'>,\n",
       " <Property 'emline_instsigma', channel='oiii_4960', release='2.2.1', unit='km / s'>,\n",
       " <Property 'emline_instsigma', channel='oiii_5008', release='2.2.1', unit='km / s'>,\n",
       " <Property 'emline_instsigma', channel='hei_5877', release='2.2.1', unit='km / s'>,\n",
       " <Property 'emline_instsigma', channel='oi_6302', release='2.2.1', unit='km / s'>,\n",
       " <Property 'emline_instsigma', channel='oi_6365', release='2.2.1', unit='km / s'>,\n",
       " <Property 'emline_instsigma', channel='nii_6549', release='2.2.1', unit='km / s'>,\n",
       " <Property 'emline_instsigma', channel='ha_6564', release='2.2.1', unit='km / s'>,\n",
       " <Property 'emline_instsigma', channel='nii_6585', release='2.2.1', unit='km / s'>,\n",
       " <Property 'emline_instsigma', channel='sii_6718', release='2.2.1', unit='km / s'>,\n",
       " <Property 'emline_instsigma', channel='sii_6732', release='2.2.1', unit='km / s'>,\n",
       " <Property 'emline_tplsigma', channel='oii_3727', release='2.2.1', unit='km / s'>,\n",
       " <Property 'emline_tplsigma', channel='oii_3729', release='2.2.1', unit='km / s'>,\n",
       " <Property 'emline_tplsigma', channel='hthe_3798', release='2.2.1', unit='km / s'>,\n",
       " <Property 'emline_tplsigma', channel='heta_3836', release='2.2.1', unit='km / s'>,\n",
       " <Property 'emline_tplsigma', channel='neiii_3869', release='2.2.1', unit='km / s'>,\n",
       " <Property 'emline_tplsigma', channel='hzet_3890', release='2.2.1', unit='km / s'>,\n",
       " <Property 'emline_tplsigma', channel='neiii_3968', release='2.2.1', unit='km / s'>,\n",
       " <Property 'emline_tplsigma', channel='heps_3971', release='2.2.1', unit='km / s'>,\n",
       " <Property 'emline_tplsigma', channel='hdel_4102', release='2.2.1', unit='km / s'>,\n",
       " <Property 'emline_tplsigma', channel='hgam_4341', release='2.2.1', unit='km / s'>,\n",
       " <Property 'emline_tplsigma', channel='heii_4687', release='2.2.1', unit='km / s'>,\n",
       " <Property 'emline_tplsigma', channel='hb_4862', release='2.2.1', unit='km / s'>,\n",
       " <Property 'emline_tplsigma', channel='oiii_4960', release='2.2.1', unit='km / s'>,\n",
       " <Property 'emline_tplsigma', channel='oiii_5008', release='2.2.1', unit='km / s'>,\n",
       " <Property 'emline_tplsigma', channel='hei_5877', release='2.2.1', unit='km / s'>,\n",
       " <Property 'emline_tplsigma', channel='oi_6302', release='2.2.1', unit='km / s'>,\n",
       " <Property 'emline_tplsigma', channel='oi_6365', release='2.2.1', unit='km / s'>,\n",
       " <Property 'emline_tplsigma', channel='nii_6549', release='2.2.1', unit='km / s'>,\n",
       " <Property 'emline_tplsigma', channel='ha_6564', release='2.2.1', unit='km / s'>,\n",
       " <Property 'emline_tplsigma', channel='nii_6585', release='2.2.1', unit='km / s'>,\n",
       " <Property 'emline_tplsigma', channel='sii_6718', release='2.2.1', unit='km / s'>,\n",
       " <Property 'emline_tplsigma', channel='sii_6732', release='2.2.1', unit='km / s'>,\n",
       " <Property 'specindex', channel='cn1', release='2.2.1', unit='mag'>,\n",
       " <Property 'specindex', channel='cn2', release='2.2.1', unit='mag'>,\n",
       " <Property 'specindex', channel='ca4227', release='2.2.1', unit='Angstrom'>,\n",
       " <Property 'specindex', channel='g4300', release='2.2.1', unit='Angstrom'>,\n",
       " <Property 'specindex', channel='fe4383', release='2.2.1', unit='Angstrom'>,\n",
       " <Property 'specindex', channel='ca4455', release='2.2.1', unit='Angstrom'>,\n",
       " <Property 'specindex', channel='fe4531', release='2.2.1', unit='Angstrom'>,\n",
       " <Property 'specindex', channel='c24668', release='2.2.1', unit='Angstrom'>,\n",
       " <Property 'specindex', channel='hb', release='2.2.1', unit='Angstrom'>,\n",
       " <Property 'specindex', channel='fe5015', release='2.2.1', unit='Angstrom'>,\n",
       " <Property 'specindex', channel='mg1', release='2.2.1', unit='mag'>,\n",
       " <Property 'specindex', channel='mg2', release='2.2.1', unit='mag'>,\n",
       " <Property 'specindex', channel='mgb', release='2.2.1', unit='Angstrom'>,\n",
       " <Property 'specindex', channel='fe5270', release='2.2.1', unit='Angstrom'>,\n",
       " <Property 'specindex', channel='fe5335', release='2.2.1', unit='Angstrom'>,\n",
       " <Property 'specindex', channel='fe5406', release='2.2.1', unit='Angstrom'>,\n",
       " <Property 'specindex', channel='fe5709', release='2.2.1', unit='Angstrom'>,\n",
       " <Property 'specindex', channel='fe5782', release='2.2.1', unit='Angstrom'>,\n",
       " <Property 'specindex', channel='nad', release='2.2.1', unit='Angstrom'>,\n",
       " <Property 'specindex', channel='tio1', release='2.2.1', unit='mag'>,\n",
       " <Property 'specindex', channel='tio2', release='2.2.1', unit='mag'>,\n",
       " <Property 'specindex', channel='hdeltaa', release='2.2.1', unit='Angstrom'>,\n",
       " <Property 'specindex', channel='hgammaa', release='2.2.1', unit='Angstrom'>,\n",
       " <Property 'specindex', channel='hdeltaf', release='2.2.1', unit='Angstrom'>,\n",
       " <Property 'specindex', channel='hgammaf', release='2.2.1', unit='Angstrom'>,\n",
       " <Property 'specindex', channel='cahk', release='2.2.1', unit='Angstrom'>,\n",
       " <Property 'specindex', channel='caii1', release='2.2.1', unit='Angstrom'>,\n",
       " <Property 'specindex', channel='caii2', release='2.2.1', unit='Angstrom'>,\n",
       " <Property 'specindex', channel='caii3', release='2.2.1', unit='Angstrom'>,\n",
       " <Property 'specindex', channel='pa17', release='2.2.1', unit='Angstrom'>,\n",
       " <Property 'specindex', channel='pa14', release='2.2.1', unit='Angstrom'>,\n",
       " <Property 'specindex', channel='pa12', release='2.2.1', unit='Angstrom'>,\n",
       " <Property 'specindex', channel='mgicvd', release='2.2.1', unit='Angstrom'>,\n",
       " <Property 'specindex', channel='naicvd', release='2.2.1', unit='Angstrom'>,\n",
       " <Property 'specindex', channel='mgiir', release='2.2.1', unit='Angstrom'>,\n",
       " <Property 'specindex', channel='fehcvd', release='2.2.1', unit='Angstrom'>,\n",
       " <Property 'specindex', channel='nai', release='2.2.1', unit='Angstrom'>,\n",
       " <Property 'specindex', channel='btio', release='2.2.1', unit='mag'>,\n",
       " <Property 'specindex', channel='atio', release='2.2.1', unit='mag'>,\n",
       " <Property 'specindex', channel='cah1', release='2.2.1', unit='mag'>,\n",
       " <Property 'specindex', channel='cah2', release='2.2.1', unit='mag'>,\n",
       " <Property 'specindex', channel='naisdss', release='2.2.1', unit='Angstrom'>,\n",
       " <Property 'specindex', channel='tio2sdss', release='2.2.1', unit='Angstrom'>,\n",
       " <Property 'specindex', channel='d4000', release='2.2.1', unit=''>,\n",
       " <Property 'specindex', channel='dn4000', release='2.2.1', unit=''>,\n",
       " <Property 'specindex', channel='tiocvd', release='2.2.1', unit=''>,\n",
       " <Property 'specindex_corr', channel='cn1', release='2.2.1', unit='mag'>,\n",
       " <Property 'specindex_corr', channel='cn2', release='2.2.1', unit='mag'>,\n",
       " <Property 'specindex_corr', channel='ca4227', release='2.2.1', unit='Angstrom'>,\n",
       " <Property 'specindex_corr', channel='g4300', release='2.2.1', unit='Angstrom'>,\n",
       " <Property 'specindex_corr', channel='fe4383', release='2.2.1', unit='Angstrom'>,\n",
       " <Property 'specindex_corr', channel='ca4455', release='2.2.1', unit='Angstrom'>,\n",
       " <Property 'specindex_corr', channel='fe4531', release='2.2.1', unit='Angstrom'>,\n",
       " <Property 'specindex_corr', channel='c24668', release='2.2.1', unit='Angstrom'>,\n",
       " <Property 'specindex_corr', channel='hb', release='2.2.1', unit='Angstrom'>,\n",
       " <Property 'specindex_corr', channel='fe5015', release='2.2.1', unit='Angstrom'>,\n",
       " <Property 'specindex_corr', channel='mg1', release='2.2.1', unit='mag'>,\n",
       " <Property 'specindex_corr', channel='mg2', release='2.2.1', unit='mag'>,\n",
       " <Property 'specindex_corr', channel='mgb', release='2.2.1', unit='Angstrom'>,\n",
       " <Property 'specindex_corr', channel='fe5270', release='2.2.1', unit='Angstrom'>,\n",
       " <Property 'specindex_corr', channel='fe5335', release='2.2.1', unit='Angstrom'>,\n",
       " <Property 'specindex_corr', channel='fe5406', release='2.2.1', unit='Angstrom'>,\n",
       " <Property 'specindex_corr', channel='fe5709', release='2.2.1', unit='Angstrom'>,\n",
       " <Property 'specindex_corr', channel='fe5782', release='2.2.1', unit='Angstrom'>,\n",
       " <Property 'specindex_corr', channel='nad', release='2.2.1', unit='Angstrom'>,\n",
       " <Property 'specindex_corr', channel='tio1', release='2.2.1', unit='mag'>,\n",
       " <Property 'specindex_corr', channel='tio2', release='2.2.1', unit='mag'>,\n",
       " <Property 'specindex_corr', channel='hdeltaa', release='2.2.1', unit='Angstrom'>,\n",
       " <Property 'specindex_corr', channel='hgammaa', release='2.2.1', unit='Angstrom'>,\n",
       " <Property 'specindex_corr', channel='hdeltaf', release='2.2.1', unit='Angstrom'>,\n",
       " <Property 'specindex_corr', channel='hgammaf', release='2.2.1', unit='Angstrom'>,\n",
       " <Property 'specindex_corr', channel='cahk', release='2.2.1', unit='Angstrom'>,\n",
       " <Property 'specindex_corr', channel='caii1', release='2.2.1', unit='Angstrom'>,\n",
       " <Property 'specindex_corr', channel='caii2', release='2.2.1', unit='Angstrom'>,\n",
       " <Property 'specindex_corr', channel='caii3', release='2.2.1', unit='Angstrom'>,\n",
       " <Property 'specindex_corr', channel='pa17', release='2.2.1', unit='Angstrom'>,\n",
       " <Property 'specindex_corr', channel='pa14', release='2.2.1', unit='Angstrom'>,\n",
       " <Property 'specindex_corr', channel='pa12', release='2.2.1', unit='Angstrom'>,\n",
       " <Property 'specindex_corr', channel='mgicvd', release='2.2.1', unit='Angstrom'>,\n",
       " <Property 'specindex_corr', channel='naicvd', release='2.2.1', unit='Angstrom'>,\n",
       " <Property 'specindex_corr', channel='mgiir', release='2.2.1', unit='Angstrom'>,\n",
       " <Property 'specindex_corr', channel='fehcvd', release='2.2.1', unit='Angstrom'>,\n",
       " <Property 'specindex_corr', channel='nai', release='2.2.1', unit='Angstrom'>,\n",
       " <Property 'specindex_corr', channel='btio', release='2.2.1', unit='mag'>,\n",
       " <Property 'specindex_corr', channel='atio', release='2.2.1', unit='mag'>,\n",
       " <Property 'specindex_corr', channel='cah1', release='2.2.1', unit='mag'>,\n",
       " <Property 'specindex_corr', channel='cah2', release='2.2.1', unit='mag'>,\n",
       " <Property 'specindex_corr', channel='naisdss', release='2.2.1', unit='Angstrom'>,\n",
       " <Property 'specindex_corr', channel='tio2sdss', release='2.2.1', unit='Angstrom'>,\n",
       " <Property 'specindex_corr', channel='d4000', release='2.2.1', unit=''>,\n",
       " <Property 'specindex_corr', channel='dn4000', release='2.2.1', unit=''>,\n",
       " <Property 'specindex_corr', channel='tiocvd', release='2.2.1', unit=''>]"
      ]
     },
     "execution_count": 88,
     "metadata": {},
     "output_type": "execute_result"
    }
   ],
   "source": [
    "# look at the datamodel for the maps\n",
    "maps.datamodel"
   ]
  },
  {
   "cell_type": "markdown",
   "metadata": {},
   "source": [
    "Note that some properties such as ``spx_skycoo`` have multiple channels (in this case the ``on-sky`` ``x`` and ``y`` coordinates). To access the individual property, simply combine the property name and the channel name with an underscore, i.e. ``spx_skycoo_on_sky_x``.  As before, we can get more information about a property using the ``description`` attribute.  "
   ]
  },
  {
   "cell_type": "code",
   "execution_count": 91,
   "metadata": {},
   "outputs": [
    {
     "name": "stdout",
     "output_type": "stream",
     "text": [
      "spx_skycoo_on_sky_x:  Offsets of each spaxel from the galaxy center. Channel = On-sky X.\n"
     ]
    }
   ],
   "source": [
    "print('spx_skycoo_on_sky_x: ', maps.datamodel.spx_skycoo_on_sky_x.description)"
   ]
  },
  {
   "cell_type": "markdown",
   "metadata": {},
   "source": [
    "More information about Marvin datamodels can be found [here](https://sdss-marvin.readthedocs.io/en/stable/datamodel/datamodels.html).  See the [DR15 Datamodel](https://sdss-marvin.readthedocs.io/en/stable/datamodel/dr15.html#datamodel-dr15) for a full description of the available datamodels for DR15.  \n",
    "\n",
    "We can retrieve the map associated to a specific property directly from the Maps instance. For example, let’s get the Hα emission line flux (fitted by a Gaussian).  As ``Map`` quantities are similar to ``DataCube``, we can easily plot the 2d map. "
   ]
  },
  {
   "cell_type": "code",
   "execution_count": 101,
   "metadata": {},
   "outputs": [
    {
     "data": {
      "text/latex": [
       "$[[0,~0,~0,~\\dots,~0,~0,~0],~\n",
       " [0,~0,~0,~\\dots,~0,~0,~0],~\n",
       " [0,~0,~0,~\\dots,~0,~0,~0],~\n",
       " \\dots,~\n",
       " [0,~0,~0,~\\dots,~0,~0,~0],~\n",
       " [0,~0,~0,~\\dots,~0,~0,~0],~\n",
       " [0,~0,~0,~\\dots,~0,~0,~0]] \\; \\mathrm{1 \\times 10^{-17}\\,\\frac{erg}{s\\,spaxel\\,cm^{2}}}$"
      ],
      "text/plain": [
       "<Marvin Map (property='emline_gflux_ha_6564')>\n",
       "[[0. 0. 0. ... 0. 0. 0.]\n",
       " [0. 0. 0. ... 0. 0. 0.]\n",
       " [0. 0. 0. ... 0. 0. 0.]\n",
       " ...\n",
       " [0. 0. 0. ... 0. 0. 0.]\n",
       " [0. 0. 0. ... 0. 0. 0.]\n",
       " [0. 0. 0. ... 0. 0. 0.]] 1e-17 erg / (cm2 s spaxel)"
      ]
     },
     "execution_count": 101,
     "metadata": {},
     "output_type": "execute_result"
    }
   ],
   "source": [
    "# grab the map of H-alpha emission line flux\n",
    "ha = maps.emline_gflux_ha_6564\n",
    "ha"
   ]
  },
  {
   "cell_type": "code",
   "execution_count": 100,
   "metadata": {},
   "outputs": [
    {
     "data": {
      "image/png": "[encoded data removed]",
      "text/plain": [
       "<Figure size 432x288 with 2 Axes>"
      ]
     },
     "metadata": {},
     "output_type": "display_data"
    }
   ],
   "source": [
    "# plot the H-alpha map\n",
    "fig, ax = ha.plot()"
   ]
  },
  {
   "cell_type": "markdown",
   "metadata": {},
   "source": [
    "Note that the ``plot`` method returns the matplotlib ``Figure`` and ``Axes`` for the plot. We can use those to modify or save the plot. Marvin plotting routines try to select the best parameters, colour maps, and dynamic ranges. You can modify those by passing extra arguments to plot. You can learn more in the [Map plotting section](https://sdss-marvin.readthedocs.io/en/stable/tools/utils/plot-map.html#marvin-utils-plot-map). We will talk about the Map class in detail in Working with [Astropy Quantities](https://sdss-marvin.readthedocs.io/en/stable/getting-started.html#marvin-quantities) and in [Map](https://sdss-marvin.readthedocs.io/en/stable/tools/map.html#marvin-map).\n",
    "\n",
    "Remember that all associated objects are connected together.  They can be accessed either from within an object instance or loaded independently from the class itself.  From within an instance, the core tools, ``Maps``, ``RSS``, and ``ModelCube`` are available using the ``getXXX`` methods, as well as additional auxillary tools and object data, such as ``Image``.         "
   ]
  },
  {
   "cell_type": "code",
   "execution_count": 145,
   "metadata": {},
   "outputs": [],
   "source": [
    "# load the same Maps object by itself\n",
    "from marvin.tools import Maps\n",
    "my_maps = Maps('8485-1901')\n",
    "my_maps\n",
    "\n",
    "# get the stellar velocity map\n",
    "stvel = my_maps.stellar_velocity"
   ]
  },
  {
   "cell_type": "code",
   "execution_count": 146,
   "metadata": {},
   "outputs": [
    {
     "data": {
      "text/plain": [
       "<astropy.visualization.wcsaxes.core.WCSAxes at 0x1584312e8>"
      ]
     },
     "execution_count": 146,
     "metadata": {},
     "output_type": "execute_result"
    },
    {
     "data": {
      "image/png": "[encoded data removed]",
      "text/plain": [
       "<Figure size 432x432 with 1 Axes>"
      ]
     },
     "metadata": {
      "needs_background": "light"
     },
     "output_type": "display_data"
    }
   ],
   "source": [
    "# load an auxilliary tool, the gri color image of the target galaxy using the Marvin Image tool\n",
    "\n",
    "# get the Image of the galaxy and plot it\n",
    "image = cube.getImage()\n",
    "image.plot()"
   ]
  },
  {
   "cell_type": "markdown",
   "metadata": {},
   "source": [
    "<a id=\"flags\"></a>\n",
    "### Quality and Target Flags and Maskbits\n",
    "Each MaNGA target has associated quality assurance flags as well targeting flags.  Quality flags indiciate the overall quality of the data and/or any problems with the data discovered during the reduction and analysis pipeline runs.    "
   ]
  },
  {
   "cell_type": "code",
   "execution_count": 114,
   "metadata": {},
   "outputs": [
    {
     "data": {
      "text/plain": [
       "<Maskbit 'MANGA_DRP3QUAL' []>"
      ]
     },
     "execution_count": 114,
     "metadata": {},
     "output_type": "execute_result"
    }
   ],
   "source": [
    "# look at the overall cube quality flags\n",
    "cube.quality_flag"
   ]
  },
  {
   "cell_type": "markdown",
   "metadata": {},
   "source": [
    "In this case the MANGA_DRP3QUAL maskbit does not have any bit activated, which means the data is safe to use. See the [Maskbits](https://sdss-marvin.readthedocs.io/en/stable/tools/utils/maskbit.html#marvin-maskbit) section for more information on how to interact with Marvin Maskbits.\n",
    "\n",
    "The targeting flags highlight the **targeting bits** set for this galaxy and tell you which sample the target belongs to."
   ]
  },
  {
   "cell_type": "code",
   "execution_count": 115,
   "metadata": {},
   "outputs": [
    {
     "data": {
      "text/plain": [
       "[<Maskbit 'MANGA_TARGET1' ['SECONDARY_v1_1_0', 'SECONDARY_COM2', 'SECONDARY_v1_2_0']>,\n",
       " <Maskbit 'MANGA_TARGET2' []>,\n",
       " <Maskbit 'MANGA_TARGET3' []>]"
      ]
     },
     "execution_count": 115,
     "metadata": {},
     "output_type": "execute_result"
    }
   ],
   "source": [
    "# look at the targeting flags for this galaxy\n",
    "cube.target_flags"
   ]
  },
  {
   "cell_type": "markdown",
   "metadata": {},
   "source": [
    "Note that in this case the galaxy belongs to the secondary sample from the final target selection (``SECONDARY_v1_2_0``) as well as to the secondary samples from several commissioning target selections. The galaxy does not have any ancillary bit (**manga_target3**).  An **manga_target3** bit set indicates the target belongs to one of the [MaNGA Ancillary programs](https://www.sdss.org/dr15/manga/manga-target-selection/ancillary-targets/).  "
   ]
  },
  {
   "cell_type": "markdown",
   "metadata": {},
   "source": [
    "<a id=\"mixin\"></a>\n",
    "### NSA, DAPall, and Value-Added catalog data\n",
    "For each target we can also access additional catalog data: the associated parameters from the [NASA Sloan Atlas](http://nsatlas.org/), and the [DAPall](https://www.sdss.org/dr15/manga/manga-data/catalogs/#DAPALLFile) file.  The NSA catalog contains measured global galaxy photometric and shape profile information, while the DAPall catalog contains aggregrate statistics as measured by the MaNGA DAP pipeline.  NSA properties are available on all Marvin objects under the ``nsa`` attribute.  DAPall properties are available on all Marvin ``Maps`` and ``Modelcube`` objects.  "
   ]
  },
  {
   "cell_type": "code",
   "execution_count": 125,
   "metadata": {},
   "outputs": [
    {
     "data": {
      "text/plain": [
       "{'camcol': 2,\n",
       " 'elpetro_absmag': [-14.3422,\n",
       "  -15.7994,\n",
       "  -17.0133,\n",
       "  -18.1788,\n",
       "  -18.775,\n",
       "  -19.1125,\n",
       "  -19.3132],\n",
       " 'elpetro_amivar': [1.39298,\n",
       "  52.442,\n",
       "  188.696,\n",
       "  2311.74,\n",
       "  2362.19,\n",
       "  2158.28,\n",
       "  909.175],\n",
       " 'elpetro_ba': 0.87454,\n",
       " 'elpetro_flux': [2.9988, 10.9678, 33.184, 104.279, 189.074, 266.311, 329.502],\n",
       " 'elpetro_flux_ivar': [0.183006,\n",
       "  0.560983,\n",
       "  0.382391,\n",
       "  3.32798,\n",
       "  1.41304,\n",
       "  0.262453,\n",
       "  0.0543157],\n",
       " 'elpetro_mass': 3676850000.0,\n",
       " 'elpetro_phi': 154.873,\n",
       " 'elpetro_th50_r': 1.33067,\n",
       " 'extinction': [0.11668,\n",
       "  0.115132,\n",
       "  0.0725557,\n",
       "  0.0533858,\n",
       "  0.0387198,\n",
       "  0.0293601,\n",
       "  0.0208166],\n",
       " 'field': 145,\n",
       " 'iauname': 'J153010.73+484124.8',\n",
       " 'nsaid': 221394,\n",
       " 'nsaid_v1b': -999,\n",
       " 'petro_flux': [2.42345, 7.63147, 33.5316, 103.177, 187.303, 266.833, 320.63],\n",
       " 'petro_flux_ivar': [0.261188,\n",
       "  0.978818,\n",
       "  0.357724,\n",
       "  4.59488,\n",
       "  1.37015,\n",
       "  0.156463,\n",
       "  0.0512794],\n",
       " 'petro_th50': 1.32995,\n",
       " 'run': 3225,\n",
       " 'sersic_absmag': [-14.2599,\n",
       "  -15.9543,\n",
       "  -17.0904,\n",
       "  -18.2817,\n",
       "  -18.9128,\n",
       "  -19.2697,\n",
       "  -19.5088],\n",
       " 'sersic_ba': 0.773047,\n",
       " 'sersic_flux': [2.7631, 12.5968, 35.5298, 114.376, 213.438, 306.252, 391.783],\n",
       " 'sersic_flux_ivar': [0.234907,\n",
       "  0.390875,\n",
       "  1.03359,\n",
       "  2.70403,\n",
       "  1.11227,\n",
       "  0.504806,\n",
       "  0.0975765],\n",
       " 'sersic_mass': 4259420000.0,\n",
       " 'sersic_n': 3.29617,\n",
       " 'sersic_phi': 163.295,\n",
       " 'sersic_th50': 1.27748,\n",
       " 'version': 'v1_0_1',\n",
       " 'z': 0.0407447,\n",
       " 'zdist': 0.0412014}"
      ]
     },
     "execution_count": 125,
     "metadata": {},
     "output_type": "execute_result"
    }
   ],
   "source": [
    "# look at the NSA properties for this galaxy from the cube instance\n",
    "nsa = cube.nsa\n",
    "nsa"
   ]
  },
  {
   "cell_type": "code",
   "execution_count": 126,
   "metadata": {},
   "outputs": [
    {
     "data": {
      "text/plain": [
       "{'adist_nsa_z': 116.28242,\n",
       " 'adist_z': 116.28242,\n",
       " 'bin_r_n_1': 21.0,\n",
       " 'bin_r_n_2': 36.0,\n",
       " 'bin_r_n_3': 40.0,\n",
       " 'bin_r_snr_1': 31.444183,\n",
       " 'bin_r_snr_2': 26.358574,\n",
       " 'bin_r_snr_3': 12.533445,\n",
       " 'bin_rmax': 3.5165226,\n",
       " 'binkey': 'HYB10',\n",
       " 'binsnr': 10.0,\n",
       " 'bintype': 'voronoi',\n",
       " 'dapbins': 393,\n",
       " 'dapdone': True,\n",
       " 'dapqual': 0,\n",
       " 'daptype': 'HYB10-GAU-MILESHC',\n",
       " 'datedap': '2018-07-21',\n",
       " 'drp3qual': 0,\n",
       " 'drpallindx': 3991,\n",
       " 'elfkey': 'EFITMDB',\n",
       " 'elmkey': 'EMOMM',\n",
       " 'emline_gew_1re_ha_6564': 27.498219,\n",
       " 'emline_gew_1re_hb_4862': 6.1061563,\n",
       " 'emline_gew_1re_hdel_4102': 1.3583332,\n",
       " 'emline_gew_1re_hei_5877': 0.7100007,\n",
       " 'emline_gew_1re_heii_4687': 0.06504237,\n",
       " 'emline_gew_1re_heps_3971': 0.80449516,\n",
       " 'emline_gew_1re_heta_3836': 0.3896089,\n",
       " 'emline_gew_1re_hgam_4341': 2.8444698,\n",
       " 'emline_gew_1re_hthe_3798': 0.65047354,\n",
       " 'emline_gew_1re_hzet_3890': 1.2700435,\n",
       " 'emline_gew_1re_neiii_3869': 0.14080524,\n",
       " 'emline_gew_1re_neiii_3968': 0.001792379,\n",
       " 'emline_gew_1re_nii_6549': 3.5805068,\n",
       " 'emline_gew_1re_nii_6585': 10.961037,\n",
       " 'emline_gew_1re_oi_6302': 0.43432698,\n",
       " 'emline_gew_1re_oi_6365': 0.13930151,\n",
       " 'emline_gew_1re_oii_3727': 4.2655497,\n",
       " 'emline_gew_1re_oii_3729': 5.457714,\n",
       " 'emline_gew_1re_oiii_4960': 0.47679856,\n",
       " 'emline_gew_1re_oiii_5008': 1.4359674,\n",
       " 'emline_gew_1re_sii_6718': 4.303934,\n",
       " 'emline_gew_1re_sii_6732': 3.0316718,\n",
       " 'emline_gew_peak_ha_6564': 38.932842,\n",
       " 'emline_gew_peak_hb_4862': 16.031044,\n",
       " 'emline_gew_peak_hdel_4102': 15.133765,\n",
       " 'emline_gew_peak_hei_5877': 12.108011,\n",
       " 'emline_gew_peak_heii_4687': 15.555817,\n",
       " 'emline_gew_peak_heps_3971': 19.180122,\n",
       " 'emline_gew_peak_heta_3836': 19.870707,\n",
       " 'emline_gew_peak_hgam_4341': 14.521507,\n",
       " 'emline_gew_peak_hthe_3798': 25.816128,\n",
       " 'emline_gew_peak_hzet_3890': 57.001114,\n",
       " 'emline_gew_peak_neiii_3869': 39.4136,\n",
       " 'emline_gew_peak_neiii_3968': 10.767518,\n",
       " 'emline_gew_peak_nii_6549': 4.0757356,\n",
       " 'emline_gew_peak_nii_6585': 12.755485,\n",
       " 'emline_gew_peak_oi_6302': 3.7761304,\n",
       " 'emline_gew_peak_oi_6365': 1.3595514,\n",
       " 'emline_gew_peak_oii_3727': 81.769936,\n",
       " 'emline_gew_peak_oii_3729': 47.940876,\n",
       " 'emline_gew_peak_oiii_4960': 3.5188925,\n",
       " 'emline_gew_peak_oiii_5008': 9.513018,\n",
       " 'emline_gew_peak_sii_6718': 8.063611,\n",
       " 'emline_gew_peak_sii_6732': 11.514327,\n",
       " 'emline_gflux_1re_ha_6564': 518.4598,\n",
       " 'emline_gflux_1re_hb_4862': 112.42022,\n",
       " 'emline_gflux_1re_hdel_4102': 21.380278,\n",
       " 'emline_gflux_1re_hei_5877': 12.862995,\n",
       " 'emline_gflux_1re_heii_4687': 1.1992174,\n",
       " 'emline_gflux_1re_heps_3971': 11.629765,\n",
       " 'emline_gflux_1re_heta_3836': 5.229859,\n",
       " 'emline_gflux_1re_hgam_4341': 47.112793,\n",
       " 'emline_gflux_1re_hthe_3798': 8.3632555,\n",
       " 'emline_gflux_1re_hzet_3890': 17.749779,\n",
       " 'emline_gflux_1re_neiii_3869': 1.9424094,\n",
       " 'emline_gflux_1re_neiii_3968': 0.024020921,\n",
       " 'emline_gflux_1re_nii_6549': 67.45055,\n",
       " 'emline_gflux_1re_nii_6585': 206.27078,\n",
       " 'emline_gflux_1re_oi_6302': 8.000183,\n",
       " 'emline_gflux_1re_oi_6365': 2.62406,\n",
       " 'emline_gflux_1re_oii_3727': 44.304893,\n",
       " 'emline_gflux_1re_oii_3729': 57.342915,\n",
       " 'emline_gflux_1re_oiii_4960': 8.812629,\n",
       " 'emline_gflux_1re_oiii_5008': 25.919497,\n",
       " 'emline_gflux_1re_sii_6718': 80.26501,\n",
       " 'emline_gflux_1re_sii_6732': 56.71939,\n",
       " 'emline_gflux_cen_ha_6564': 518.4598,\n",
       " 'emline_gflux_cen_hb_4862': 112.42022,\n",
       " 'emline_gflux_cen_hdel_4102': 21.380278,\n",
       " 'emline_gflux_cen_hei_5877': 12.862995,\n",
       " 'emline_gflux_cen_heii_4687': 1.1992174,\n",
       " 'emline_gflux_cen_heps_3971': 11.629765,\n",
       " 'emline_gflux_cen_heta_3836': 5.229859,\n",
       " 'emline_gflux_cen_hgam_4341': 47.112793,\n",
       " 'emline_gflux_cen_hthe_3798': 8.3632555,\n",
       " 'emline_gflux_cen_hzet_3890': 17.749779,\n",
       " 'emline_gflux_cen_neiii_3869': 1.9424094,\n",
       " 'emline_gflux_cen_neiii_3968': 0.024020921,\n",
       " 'emline_gflux_cen_nii_6549': 67.45055,\n",
       " 'emline_gflux_cen_nii_6585': 206.27078,\n",
       " 'emline_gflux_cen_oi_6302': 8.000183,\n",
       " 'emline_gflux_cen_oi_6365': 2.62406,\n",
       " 'emline_gflux_cen_oii_3727': 44.304893,\n",
       " 'emline_gflux_cen_oii_3729': 57.342915,\n",
       " 'emline_gflux_cen_oiii_4960': 8.812629,\n",
       " 'emline_gflux_cen_oiii_5008': 25.919497,\n",
       " 'emline_gflux_cen_sii_6718': 80.26501,\n",
       " 'emline_gflux_cen_sii_6732': 56.71939,\n",
       " 'emline_gflux_tot_ha_6564': 1361.6647,\n",
       " 'emline_gflux_tot_hb_4862': 318.3752,\n",
       " 'emline_gflux_tot_hdel_4102': 68.51021,\n",
       " 'emline_gflux_tot_hei_5877': 41.265724,\n",
       " 'emline_gflux_tot_heii_4687': 24.926678,\n",
       " 'emline_gflux_tot_heps_3971': 38.877518,\n",
       " 'emline_gflux_tot_heta_3836': 27.327614,\n",
       " 'emline_gflux_tot_hgam_4341': 132.94618,\n",
       " 'emline_gflux_tot_hthe_3798': 32.712917,\n",
       " 'emline_gflux_tot_hzet_3890': 56.146633,\n",
       " 'emline_gflux_tot_neiii_3869': 19.969725,\n",
       " 'emline_gflux_tot_neiii_3968': 5.9532337,\n",
       " 'emline_gflux_tot_nii_6549': 185.20743,\n",
       " 'emline_gflux_tot_nii_6585': 566.38385,\n",
       " 'emline_gflux_tot_oi_6302': 35.631546,\n",
       " 'emline_gflux_tot_oi_6365': 11.68715,\n",
       " 'emline_gflux_tot_oii_3727': 153.15848,\n",
       " 'emline_gflux_tot_oii_3729': 204.93419,\n",
       " 'emline_gflux_tot_oiii_4960': 28.799543,\n",
       " 'emline_gflux_tot_oiii_5008': 84.70451,\n",
       " 'emline_gflux_tot_sii_6718': 237.78206,\n",
       " 'emline_gflux_tot_sii_6732': 162.72934,\n",
       " 'emline_gsb_1re_ha_6564': 24.68856,\n",
       " 'emline_gsb_1re_hb_4862': 5.353344,\n",
       " 'emline_gsb_1re_hdel_4102': 1.0181085,\n",
       " 'emline_gsb_1re_hei_5877': 0.61252356,\n",
       " 'emline_gsb_1re_heii_4687': 0.057105593,\n",
       " 'emline_gsb_1re_heps_3971': 0.5537983,\n",
       " 'emline_gsb_1re_heta_3836': 0.2490409,\n",
       " 'emline_gsb_1re_hgam_4341': 2.2434664,\n",
       " 'emline_gsb_1re_hthe_3798': 0.39825025,\n",
       " 'emline_gsb_1re_hzet_3890': 0.84522754,\n",
       " 'emline_gsb_1re_neiii_3869': 0.09249569,\n",
       " 'emline_gsb_1re_neiii_3968': 0.0011438534,\n",
       " 'emline_gsb_1re_nii_6549': 3.2119308,\n",
       " 'emline_gsb_1re_nii_6585': 9.822418,\n",
       " 'emline_gsb_1re_oi_6302': 0.3809611,\n",
       " 'emline_gsb_1re_oi_6365': 0.12495524,\n",
       " 'emline_gsb_1re_oii_3727': 2.109757,\n",
       " 'emline_gsb_1re_oii_3729': 2.730615,\n",
       " 'emline_gsb_1re_oiii_4960': 0.41964898,\n",
       " 'emline_gsb_1re_oiii_5008': 1.2342618,\n",
       " 'emline_gsb_1re_sii_6718': 3.822143,\n",
       " 'emline_gsb_1re_sii_6732': 2.7009234,\n",
       " 'emline_gsb_peak_ha_6564': 32.130814,\n",
       " 'emline_gsb_peak_hb_4862': 6.729493,\n",
       " 'emline_gsb_peak_hdel_4102': 1.2454971,\n",
       " 'emline_gsb_peak_hei_5877': 0.81370413,\n",
       " 'emline_gsb_peak_heii_4687': 0.2812441,\n",
       " 'emline_gsb_peak_heps_3971': 0.72898835,\n",
       " 'emline_gsb_peak_heta_3836': 0.4459554,\n",
       " 'emline_gsb_peak_hgam_4341': 2.8376071,\n",
       " 'emline_gsb_peak_hthe_3798': 0.5431222,\n",
       " 'emline_gsb_peak_hzet_3890': 1.1030834,\n",
       " 'emline_gsb_peak_neiii_3869': 0.48630247,\n",
       " 'emline_gsb_peak_neiii_3968': 0.16095476,\n",
       " 'emline_gsb_peak_nii_6549': 4.100286,\n",
       " 'emline_gsb_peak_nii_6585': 12.539102,\n",
       " 'emline_gsb_peak_oi_6302': 0.45632312,\n",
       " 'emline_gsb_peak_oi_6365': 0.14967398,\n",
       " 'emline_gsb_peak_oii_3727': 2.4997134,\n",
       " 'emline_gsb_peak_oii_3729': 3.518587,\n",
       " 'emline_gsb_peak_oiii_4960': 0.5353756,\n",
       " 'emline_gsb_peak_oiii_5008': 1.5746341,\n",
       " 'emline_gsb_peak_sii_6718': 4.7994447,\n",
       " 'emline_gsb_peak_sii_6732': 3.5544295,\n",
       " 'emline_sew_1re_ha_6564': 27.390146,\n",
       " 'emline_sew_1re_hb_4862': 6.206489,\n",
       " 'emline_sew_1re_hdel_4102': 1.150524,\n",
       " 'emline_sew_1re_hei_5877': 0.64392686,\n",
       " 'emline_sew_1re_heii_4687': -0.17607133,\n",
       " 'emline_sew_1re_heps_3971': 0.94543386,\n",
       " 'emline_sew_1re_heta_3836': -0.2824071,\n",
       " 'emline_sew_1re_hgam_4341': 2.7655118,\n",
       " 'emline_sew_1re_hthe_3798': 0.48443457,\n",
       " 'emline_sew_1re_hzet_3890': 1.0155623,\n",
       " 'emline_sew_1re_neiii_3869': -0.22516635,\n",
       " 'emline_sew_1re_neiii_3968': 1.0079005,\n",
       " 'emline_sew_1re_nii_6549': 3.5470846,\n",
       " 'emline_sew_1re_nii_6585': 11.102756,\n",
       " 'emline_sew_1re_oi_6302': 0.38920906,\n",
       " 'emline_sew_1re_oi_6365': 0.07573469,\n",
       " 'emline_sew_1re_oii_3729': -999.0,\n",
       " 'emline_sew_1re_oiid_3728': 10.446977,\n",
       " 'emline_sew_1re_oiii_4960': 0.4875546,\n",
       " 'emline_sew_1re_oiii_5008': 1.631077,\n",
       " 'emline_sew_1re_sii_6718': 4.2352896,\n",
       " 'emline_sew_1re_sii_6732': 2.9410377,\n",
       " 'emline_sew_peak_ha_6564': 36.61824,\n",
       " 'emline_sew_peak_hb_4862': 16.381104,\n",
       " 'emline_sew_peak_hdel_4102': 35.858673,\n",
       " 'emline_sew_peak_hei_5877': 7.4755464,\n",
       " 'emline_sew_peak_heii_4687': 16.448965,\n",
       " 'emline_sew_peak_heps_3971': 21.757128,\n",
       " 'emline_sew_peak_heta_3836': 93.69317,\n",
       " 'emline_sew_peak_hgam_4341': 9.010911,\n",
       " 'emline_sew_peak_hthe_3798': 42.653828,\n",
       " 'emline_sew_peak_hzet_3890': 109.95577,\n",
       " 'emline_sew_peak_neiii_3869': 49.09403,\n",
       " 'emline_sew_peak_neiii_3968': 26.516947,\n",
       " 'emline_sew_peak_nii_6549': 7.722923,\n",
       " 'emline_sew_peak_nii_6585': 14.361592,\n",
       " 'emline_sew_peak_oi_6302': 27.917864,\n",
       " 'emline_sew_peak_oi_6365': 6.318035,\n",
       " 'emline_sew_peak_oii_3729': -999.0,\n",
       " 'emline_sew_peak_oiid_3728': 138.72752,\n",
       " 'emline_sew_peak_oiii_4960': 9.007727,\n",
       " 'emline_sew_peak_oiii_5008': 9.377492,\n",
       " 'emline_sew_peak_sii_6718': 8.540775,\n",
       " 'emline_sew_peak_sii_6732': 6.5237107,\n",
       " 'emline_sflux_1re_ha_6564': 516.3007,\n",
       " 'emline_sflux_1re_hb_4862': 114.247505,\n",
       " 'emline_sflux_1re_hdel_4102': 17.843182,\n",
       " 'emline_sflux_1re_hei_5877': 11.667008,\n",
       " 'emline_sflux_1re_heii_4687': -3.065474,\n",
       " 'emline_sflux_1re_heps_3971': 13.718588,\n",
       " 'emline_sflux_1re_heta_3836': -3.9439018,\n",
       " 'emline_sflux_1re_hgam_4341': 45.73389,\n",
       " 'emline_sflux_1re_hthe_3798': 6.2887335,\n",
       " 'emline_sflux_1re_hzet_3890': 14.105891,\n",
       " 'emline_sflux_1re_neiii_3869': -3.129478,\n",
       " 'emline_sflux_1re_neiii_3968': 14.486424,\n",
       " 'emline_sflux_1re_nii_6549': 66.72829,\n",
       " 'emline_sflux_1re_nii_6585': 208.84776,\n",
       " 'emline_sflux_1re_oi_6302': 7.2487226,\n",
       " 'emline_sflux_1re_oi_6365': 1.3686633,\n",
       " 'emline_sflux_1re_oii_3729': -999.0,\n",
       " 'emline_sflux_1re_oiid_3728': 109.3201,\n",
       " 'emline_sflux_1re_oiii_4960': 8.973248,\n",
       " 'emline_sflux_1re_oiii_5008': 29.46506,\n",
       " 'emline_sflux_1re_sii_6718': 78.89978,\n",
       " 'emline_sflux_1re_sii_6732': 54.994053,\n",
       " 'emline_sflux_cen_ha_6564': 516.3007,\n",
       " 'emline_sflux_cen_hb_4862': 114.247505,\n",
       " 'emline_sflux_cen_hdel_4102': 17.843182,\n",
       " 'emline_sflux_cen_hei_5877': 11.667008,\n",
       " 'emline_sflux_cen_heii_4687': -3.065474,\n",
       " 'emline_sflux_cen_heps_3971': 13.718588,\n",
       " 'emline_sflux_cen_heta_3836': -3.9439018,\n",
       " 'emline_sflux_cen_hgam_4341': 45.73389,\n",
       " 'emline_sflux_cen_hthe_3798': 6.2887335,\n",
       " 'emline_sflux_cen_hzet_3890': 14.105891,\n",
       " 'emline_sflux_cen_neiii_3869': -3.129478,\n",
       " 'emline_sflux_cen_neiii_3968': 14.486424,\n",
       " 'emline_sflux_cen_nii_6549': 66.72829,\n",
       " 'emline_sflux_cen_nii_6585': 208.84776,\n",
       " 'emline_sflux_cen_oi_6302': 7.2487226,\n",
       " 'emline_sflux_cen_oi_6365': 1.3686633,\n",
       " 'emline_sflux_cen_oii_3729': -999.0,\n",
       " 'emline_sflux_cen_oiid_3728': 109.3201,\n",
       " 'emline_sflux_cen_oiii_4960': 8.973248,\n",
       " 'emline_sflux_cen_oiii_5008': 29.46506,\n",
       " 'emline_sflux_cen_sii_6718': 78.89978,\n",
       " 'emline_sflux_cen_sii_6732': 54.994053,\n",
       " 'emline_sflux_tot_ha_6564': 1351.6582,\n",
       " 'emline_sflux_tot_hb_4862': 325.56708,\n",
       " 'emline_sflux_tot_hdel_4102': 71.18532,\n",
       " 'emline_sflux_tot_hei_5877': 11.650391,\n",
       " 'emline_sflux_tot_heii_4687': 9.703766,\n",
       " 'emline_sflux_tot_heps_3971': 28.350378,\n",
       " 'emline_sflux_tot_heta_3836': 3.1166573,\n",
       " 'emline_sflux_tot_hgam_4341': 121.193794,\n",
       " 'emline_sflux_tot_hthe_3798': 26.55513,\n",
       " 'emline_sflux_tot_hzet_3890': 59.658585,\n",
       " 'emline_sflux_tot_neiii_3869': 11.57201,\n",
       " 'emline_sflux_tot_neiii_3968': 34.55008,\n",
       " 'emline_sflux_tot_nii_6549': 189.18219,\n",
       " 'emline_sflux_tot_nii_6585': 563.47064,\n",
       " 'emline_sflux_tot_oi_6302': 12.422502,\n",
       " 'emline_sflux_tot_oi_6365': 2.6049273,\n",
       " 'emline_sflux_tot_oii_3729': -999.0,\n",
       " 'emline_sflux_tot_oiid_3728': 373.35123,\n",
       " 'emline_sflux_tot_oiii_4960': 33.708405,\n",
       " 'emline_sflux_tot_oiii_5008': 91.77788,\n",
       " 'emline_sflux_tot_sii_6718': 229.86024,\n",
       " 'emline_sflux_tot_sii_6732': 147.31511,\n",
       " 'emline_ssb_1re_ha_6564': 24.585749,\n",
       " 'emline_ssb_1re_hb_4862': 5.440357,\n",
       " 'emline_ssb_1re_hdel_4102': 0.8496753,\n",
       " 'emline_ssb_1re_hei_5877': 0.55557185,\n",
       " 'emline_ssb_1re_heii_4687': -0.14597495,\n",
       " 'emline_ssb_1re_heps_3971': 0.6532661,\n",
       " 'emline_ssb_1re_heta_3836': -0.18780485,\n",
       " 'emline_ssb_1re_hgam_4341': 2.1778042,\n",
       " 'emline_ssb_1re_hthe_3798': 0.2994635,\n",
       " 'emline_ssb_1re_hzet_3890': 0.6717091,\n",
       " 'emline_ssb_1re_neiii_3869': -0.14902276,\n",
       " 'emline_ssb_1re_neiii_3968': 0.6898297,\n",
       " 'emline_ssb_1re_nii_6549': 3.1775374,\n",
       " 'emline_ssb_1re_nii_6585': 9.945131,\n",
       " 'emline_ssb_1re_oi_6302': 0.34517726,\n",
       " 'emline_ssb_1re_oi_6365': 0.065174446,\n",
       " 'emline_ssb_1re_oii_3729': -999.0,\n",
       " 'emline_ssb_1re_oiid_3728': 5.205719,\n",
       " 'emline_ssb_1re_oiii_4960': 0.4272975,\n",
       " 'emline_ssb_1re_oiii_5008': 1.4030981,\n",
       " 'emline_ssb_1re_sii_6718': 3.7571323,\n",
       " 'emline_ssb_1re_sii_6732': 2.6187644,\n",
       " 'emline_ssb_peak_ha_6564': 31.868652,\n",
       " 'emline_ssb_peak_hb_4862': 6.8731008,\n",
       " 'emline_ssb_peak_hdel_4102': 1.1216679,\n",
       " 'emline_ssb_peak_hei_5877': 0.7711617,\n",
       " 'emline_ssb_peak_heii_4687': 0.31739423,\n",
       " 'emline_ssb_peak_heps_3971': 0.91349566,\n",
       " 'emline_ssb_peak_heta_3836': 0.33681902,\n",
       " 'emline_ssb_peak_hgam_4341': 2.769505,\n",
       " 'emline_ssb_peak_hthe_3798': 0.4718025,\n",
       " 'emline_ssb_peak_hzet_3890': 0.8520103,\n",
       " 'emline_ssb_peak_neiii_3869': 0.3048002,\n",
       " 'emline_ssb_peak_neiii_3968': 0.9720679,\n",
       " 'emline_ssb_peak_nii_6549': 4.120372,\n",
       " 'emline_ssb_peak_nii_6585': 12.650413,\n",
       " 'emline_ssb_peak_oi_6302': 0.6804554,\n",
       " 'emline_ssb_peak_oi_6365': 0.3308851,\n",
       " 'emline_ssb_peak_oii_3729': -999.0,\n",
       " 'emline_ssb_peak_oiid_3728': 6.397572,\n",
       " 'emline_ssb_peak_oiii_4960': 0.609163,\n",
       " 'emline_ssb_peak_oiii_5008': 1.8636974,\n",
       " 'emline_ssb_peak_sii_6718': 4.6782374,\n",
       " 'emline_ssb_peak_sii_6732': 3.4148548,\n",
       " 'ha_gsigma_1re': 68.02177,\n",
       " 'ha_gsigma_hi': 71.87889,\n",
       " 'ha_gsigma_hi_clip': 69.07364,\n",
       " 'ha_gvel_hi': 101.71413,\n",
       " 'ha_gvel_hi_clip': 101.71413,\n",
       " 'ha_gvel_lo': -102.10004,\n",
       " 'ha_gvel_lo_clip': -102.10004,\n",
       " 'ha_z': 0.040754627,\n",
       " 'ifudec': 48.6902,\n",
       " 'ifudesign': 1901,\n",
       " 'ifura': 232.5447,\n",
       " 'ldist_nsa_z': 125.95125,\n",
       " 'ldist_z': 125.95125,\n",
       " 'mangaid': '1-209232',\n",
       " 'mngtarg1': 2336,\n",
       " 'mngtarg2': 0,\n",
       " 'mngtarg3': 0,\n",
       " 'mode': 'CUBE',\n",
       " 'nsa_elpetro_ba': 0.87454,\n",
       " 'nsa_elpetro_phi': 154.873,\n",
       " 'nsa_elpetro_th50_r': 1.33067,\n",
       " 'nsa_sersic_ba': 0.773047,\n",
       " 'nsa_sersic_n': 3.29617,\n",
       " 'nsa_sersic_phi': 163.295,\n",
       " 'nsa_sersic_th50': 1.27748,\n",
       " 'nsa_z': 0.0407447,\n",
       " 'nsa_zdist': 0.0412014,\n",
       " 'objdec': 48.6902,\n",
       " 'objra': 232.54471,\n",
       " 'plate': 8485,\n",
       " 'plateifu': '8485-1901',\n",
       " 'rcov90': 4.593927,\n",
       " 'rdxqakey': 'SNRG',\n",
       " 'sb_1re': 0.7397315,\n",
       " 'sckey': 'GAU-MILESHC',\n",
       " 'sfr_1re': 0.052848306,\n",
       " 'sfr_tot': 0.13879897,\n",
       " 'sikey': 'INDXEN',\n",
       " 'snr_med_1': 23.818922,\n",
       " 'snr_med_2': 31.974985,\n",
       " 'snr_med_3': 36.93258,\n",
       " 'snr_med_4': 29.912338,\n",
       " 'snr_ring_1': 43.22005,\n",
       " 'snr_ring_2': 54.946964,\n",
       " 'snr_ring_3': 68.299904,\n",
       " 'snr_ring_4': 40.68281,\n",
       " 'specindex_1re_atio': 0.0055130944,\n",
       " 'specindex_1re_btio': 0.0035524892,\n",
       " 'specindex_1re_c24668': 4.1051598,\n",
       " 'specindex_1re_ca4227': 0.5814394,\n",
       " 'specindex_1re_ca4455': 0.86386544,\n",
       " 'specindex_1re_cah1': 0.0027957938,\n",
       " 'specindex_1re_cah2': 0.011549883,\n",
       " 'specindex_1re_cahk': 11.244532,\n",
       " 'specindex_1re_caii1': 1.2633883,\n",
       " 'specindex_1re_caii2': 4.1861773,\n",
       " 'specindex_1re_caii3': 2.8871956,\n",
       " 'specindex_1re_cn1': -0.08640129,\n",
       " 'specindex_1re_cn2': -0.0437025,\n",
       " 'specindex_1re_d4000': 1.5241088,\n",
       " 'specindex_1re_dn4000': 1.3374544,\n",
       " 'specindex_1re_fe4383': 2.8076222,\n",
       " 'specindex_1re_fe4531': 2.3227534,\n",
       " 'specindex_1re_fe5015': 2.7222157,\n",
       " 'specindex_1re_fe5270': 1.5268862,\n",
       " 'specindex_1re_fe5335': -999.0,\n",
       " 'specindex_1re_fe5406': 1.3877692,\n",
       " 'specindex_1re_fe5709': 0.86984617,\n",
       " 'specindex_1re_fe5782': 1.121057,\n",
       " 'specindex_1re_fehcvd': -999.0,\n",
       " 'specindex_1re_g4300': 2.198671,\n",
       " 'specindex_1re_hb': 3.240003,\n",
       " 'specindex_1re_hdeltaa': 4.0503592,\n",
       " 'specindex_1re_hdeltaf': 3.57781,\n",
       " 'specindex_1re_hgammaa': 1.6787565,\n",
       " 'specindex_1re_hgammaf': 2.7013273,\n",
       " 'specindex_1re_mg1': 0.040176533,\n",
       " 'specindex_1re_mg2': 0.11580241,\n",
       " 'specindex_1re_mgb': 2.42074,\n",
       " 'specindex_1re_mgicvd': 2.8958685,\n",
       " 'specindex_1re_mgiir': 0.6450525,\n",
       " 'specindex_1re_nad': 1.9727253,\n",
       " 'specindex_1re_nai': 0.9842906,\n",
       " 'specindex_1re_naicvd': 0.30560908,\n",
       " 'specindex_1re_naisdss': 0.4465879,\n",
       " 'specindex_1re_pa12': 0.6469185,\n",
       " 'specindex_1re_pa14': 0.13523296,\n",
       " 'specindex_1re_pa17': 0.082407184,\n",
       " 'specindex_1re_tio1': 0.02312117,\n",
       " 'specindex_1re_tio2': 0.051430404,\n",
       " 'specindex_1re_tio2sdss': 0.05941378,\n",
       " 'specindex_1re_tiocvd': 1.0534573,\n",
       " 'specindex_hi_atio': 0.18232621,\n",
       " 'specindex_hi_btio': 0.13323237,\n",
       " 'specindex_hi_c24668': 13.145877,\n",
       " 'specindex_hi_ca4227': 7.470146,\n",
       " 'specindex_hi_ca4455': 7.579963,\n",
       " 'specindex_hi_cah1': 0.18345265,\n",
       " 'specindex_hi_cah2': 0.134479,\n",
       " 'specindex_hi_cahk': 39.694824,\n",
       " 'specindex_hi_caii1': 0.0,\n",
       " 'specindex_hi_caii2': 0.0,\n",
       " 'specindex_hi_caii3': 0.0,\n",
       " 'specindex_hi_clip_atio': 0.12031085,\n",
       " 'specindex_hi_clip_btio': 0.13429171,\n",
       " 'specindex_hi_clip_c24668': 11.559466,\n",
       " 'specindex_hi_clip_ca4227': 5.70183,\n",
       " 'specindex_hi_clip_ca4455': 5.8970137,\n",
       " 'specindex_hi_clip_cah1': 0.1814796,\n",
       " 'specindex_hi_clip_cah2': 0.12494275,\n",
       " 'specindex_hi_clip_cahk': 29.477184,\n",
       " 'specindex_hi_clip_caii1': 0.0,\n",
       " 'specindex_hi_clip_caii2': 0.0,\n",
       " 'specindex_hi_clip_caii3': 0.0,\n",
       " 'specindex_hi_clip_cn1': 0.03848137,\n",
       " 'specindex_hi_clip_cn2': 0.110505216,\n",
       " 'specindex_hi_clip_d4000': 2.8179746,\n",
       " 'specindex_hi_clip_dn4000': 2.5910015,\n",
       " 'specindex_hi_clip_fe4383': 12.733747,\n",
       " 'specindex_hi_clip_fe4531': 10.478491,\n",
       " 'specindex_hi_clip_fe5015': 10.268717,\n",
       " 'specindex_hi_clip_fe5270': 6.442884,\n",
       " 'specindex_hi_clip_fe5335': -999.0,\n",
       " 'specindex_hi_clip_fe5406': 5.7971134,\n",
       " 'specindex_hi_clip_fe5709': 5.739539,\n",
       " 'specindex_hi_clip_fe5782': 7.0338426,\n",
       " 'specindex_hi_clip_fehcvd': -999.0,\n",
       " 'specindex_hi_clip_g4300': 12.858058,\n",
       " 'specindex_hi_clip_hb': 6.3344836,\n",
       " 'specindex_hi_clip_hdeltaa': 11.696167,\n",
       " 'specindex_hi_clip_hdeltaf': 7.363281,\n",
       " 'specindex_hi_clip_hgammaa': 11.439256,\n",
       " 'specindex_hi_clip_hgammaf': 7.3267484,\n",
       " 'specindex_hi_clip_mg1': 0.16603558,\n",
       " 'specindex_hi_clip_mg2': 0.18487155,\n",
       " 'specindex_hi_clip_mgb': 6.9796433,\n",
       " 'specindex_hi_clip_mgicvd': 7.97149,\n",
       " 'specindex_hi_clip_mgiir': 0.0,\n",
       " 'specindex_hi_clip_nad': 7.651409,\n",
       " 'specindex_hi_clip_nai': 0.0,\n",
       " 'specindex_hi_clip_naicvd': 0.0,\n",
       " 'specindex_hi_clip_naisdss': 0.0,\n",
       " 'specindex_hi_clip_pa12': 0.0,\n",
       " 'specindex_hi_clip_pa14': 0.0,\n",
       " 'specindex_hi_clip_pa17': 0.0,\n",
       " 'specindex_hi_clip_tio1': 0.15529612,\n",
       " 'specindex_hi_clip_tio2': 0.19362745,\n",
       " 'specindex_hi_clip_tio2sdss': 0.17072938,\n",
       " 'specindex_hi_clip_tiocvd': 1.199695,\n",
       " 'specindex_hi_cn1': 0.13124722,\n",
       " 'specindex_hi_cn2': 0.13624196,\n",
       " 'specindex_hi_d4000': 3.6134193,\n",
       " 'specindex_hi_dn4000': 3.3198805,\n",
       " 'specindex_hi_fe4383': 19.225418,\n",
       " 'specindex_hi_fe4531': 14.033874,\n",
       " 'specindex_hi_fe5015': 10.447021,\n",
       " 'specindex_hi_fe5270': 7.0438824,\n",
       " 'specindex_hi_fe5335': -999.0,\n",
       " 'specindex_hi_fe5406': 6.769316,\n",
       " 'specindex_hi_fe5709': 7.8267226,\n",
       " 'specindex_hi_fe5782': 7.715983,\n",
       " 'specindex_hi_fehcvd': -999.0,\n",
       " 'specindex_hi_g4300': 13.199309,\n",
       " 'specindex_hi_hb': 9.765947,\n",
       " 'specindex_hi_hdeltaa': 13.315697,\n",
       " 'specindex_hi_hdeltaf': 8.133986,\n",
       " 'specindex_hi_hgammaa': 12.889933,\n",
       " 'specindex_hi_hgammaf': 8.241569,\n",
       " 'specindex_hi_mg1': 0.17528483,\n",
       " 'specindex_hi_mg2': 0.18594217,\n",
       " 'specindex_hi_mgb': 7.8064184,\n",
       " 'specindex_hi_mgicvd': 11.277573,\n",
       " 'specindex_hi_mgiir': 0.0,\n",
       " 'specindex_hi_nad': 8.078163,\n",
       " 'specindex_hi_nai': 0.0,\n",
       " 'specindex_hi_naicvd': 0.0,\n",
       " 'specindex_hi_naisdss': 0.0,\n",
       " 'specindex_hi_pa12': 0.0,\n",
       " 'specindex_hi_pa14': 0.0,\n",
       " 'specindex_hi_pa17': 0.0,\n",
       " 'specindex_hi_tio1': 0.17581758,\n",
       " 'specindex_hi_tio2': 0.22457242,\n",
       " 'specindex_hi_tio2sdss': 0.22362435,\n",
       " 'specindex_hi_tiocvd': 1.2137107,\n",
       " 'specindex_lo_atio': -0.09773963,\n",
       " 'specindex_lo_btio': -0.3110191,\n",
       " 'specindex_lo_c24668': -21.919329,\n",
       " 'specindex_lo_ca4227': -6.4965906,\n",
       " 'specindex_lo_ca4455': -9.576805,\n",
       " 'specindex_lo_cah1': -0.17542453,\n",
       " 'specindex_lo_cah2': -0.2115286,\n",
       " 'specindex_lo_cahk': -40.765045,\n",
       " 'specindex_lo_caii1': 0.0,\n",
       " 'specindex_lo_caii2': 0.0,\n",
       " 'specindex_lo_caii3': 0.0,\n",
       " 'specindex_lo_clip_atio': -0.098941304,\n",
       " 'specindex_lo_clip_btio': -0.2334966,\n",
       " 'specindex_lo_clip_c24668': -10.48352,\n",
       " 'specindex_lo_clip_ca4227': -3.1533794,\n",
       " 'specindex_lo_clip_ca4455': -5.247075,\n",
       " 'specindex_lo_clip_cah1': -0.17553627,\n",
       " 'specindex_lo_clip_cah2': -0.12197615,\n",
       " 'specindex_lo_clip_cahk': -3.206794,\n",
       " 'specindex_lo_clip_caii1': 0.0,\n",
       " 'specindex_lo_clip_caii2': 0.0,\n",
       " 'specindex_lo_clip_caii3': 0.0,\n",
       " 'specindex_lo_clip_cn1': -0.28052378,\n",
       " 'specindex_lo_clip_cn2': -0.30325928,\n",
       " 'specindex_lo_clip_d4000': 2.2906063,\n",
       " 'specindex_lo_clip_dn4000': 2.1369634,\n",
       " 'specindex_lo_clip_fe4383': -7.074122,\n",
       " 'specindex_lo_clip_fe4531': -4.7090836,\n",
       " 'specindex_lo_clip_fe5015': -7.476422,\n",
       " 'specindex_lo_clip_fe5270': -4.5851026,\n",
       " 'specindex_lo_clip_fe5335': -999.0,\n",
       " 'specindex_lo_clip_fe5406': -2.3742986,\n",
       " 'specindex_lo_clip_fe5709': -4.472775,\n",
       " 'specindex_lo_clip_fe5782': -6.253817,\n",
       " 'specindex_lo_clip_fehcvd': -999.0,\n",
       " 'specindex_lo_clip_g4300': -4.7669578,\n",
       " 'specindex_lo_clip_hb': -0.5814569,\n",
       " 'specindex_lo_clip_hdeltaa': -1.1341102,\n",
       " 'specindex_lo_clip_hdeltaf': -0.19643383,\n",
       " 'specindex_lo_clip_hgammaa': -9.221306,\n",
       " 'specindex_lo_clip_hgammaf': -0.45533746,\n",
       " 'specindex_lo_clip_mg1': -0.0719978,\n",
       " 'specindex_lo_clip_mg2': -0.030249458,\n",
       " 'specindex_lo_clip_mgb': -1.8905766,\n",
       " 'specindex_lo_clip_mgicvd': -3.1088808,\n",
       " 'specindex_lo_clip_mgiir': 0.0,\n",
       " 'specindex_lo_clip_nad': -4.248341,\n",
       " 'specindex_lo_clip_nai': 0.0,\n",
       " 'specindex_lo_clip_naicvd': 0.0,\n",
       " 'specindex_lo_clip_naisdss': 0.0,\n",
       " 'specindex_lo_clip_pa12': 0.0,\n",
       " 'specindex_lo_clip_pa14': 0.0,\n",
       " 'specindex_lo_clip_pa17': 0.0,\n",
       " 'specindex_lo_clip_tio1': -0.12913258,\n",
       " 'specindex_lo_clip_tio2': 0.0031668446,\n",
       " 'specindex_lo_clip_tio2sdss': -0.017870137,\n",
       " 'specindex_lo_clip_tiocvd': 0.7384483,\n",
       " 'specindex_lo_cn1': -0.38581884,\n",
       " 'specindex_lo_cn2': -0.4855681,\n",
       " 'specindex_lo_d4000': 2.2926426,\n",
       " 'specindex_lo_dn4000': 2.1320908,\n",
       " 'specindex_lo_fe4383': -8.182995,\n",
       " 'specindex_lo_fe4531': -6.772291,\n",
       " 'specindex_lo_fe5015': -22.142231,\n",
       " 'specindex_lo_fe5270': -10.728889,\n",
       " 'specindex_lo_fe5335': -999.0,\n",
       " 'specindex_lo_fe5406': -7.101056,\n",
       " 'specindex_lo_fe5709': -11.745926,\n",
       " 'specindex_lo_fe5782': -8.231678,\n",
       " 'specindex_lo_fehcvd': -999.0,\n",
       " 'specindex_lo_g4300': -4.7642274,\n",
       " 'specindex_lo_hb': -3.283807,\n",
       " 'specindex_lo_hdeltaa': -2.2277663,\n",
       " 'specindex_lo_hdeltaf': -2.327436,\n",
       " 'specindex_lo_hgammaa': -13.2703,\n",
       " 'specindex_lo_hgammaf': -0.46250376,\n",
       " 'specindex_lo_mg1': -0.08722681,\n",
       " 'specindex_lo_mg2': -0.105767705,\n",
       " 'specindex_lo_mgb': -2.209138,\n",
       " 'specindex_lo_mgicvd': -5.943578,\n",
       " 'specindex_lo_mgiir': 0.0,\n",
       " 'specindex_lo_nad': -10.772675,\n",
       " 'specindex_lo_nai': 0.0,\n",
       " 'specindex_lo_naicvd': 0.0,\n",
       " 'specindex_lo_naisdss': 0.0,\n",
       " 'specindex_lo_pa12': 0.0,\n",
       " 'specindex_lo_pa14': 0.0,\n",
       " 'specindex_lo_pa17': 0.0,\n",
       " 'specindex_lo_tio1': -0.14582819,\n",
       " 'specindex_lo_tio2': 0.0048940494,\n",
       " 'specindex_lo_tio2sdss': -0.02482577,\n",
       " 'specindex_lo_tiocvd': 0.7096045,\n",
       " 'stellar_cont_rchi2_1re': 1.582368,\n",
       " 'stellar_sigma_1re': 76.32441,\n",
       " 'stellar_vel_hi': 51.786217,\n",
       " 'stellar_vel_hi_clip': 49.862907,\n",
       " 'stellar_vel_lo': -105.37463,\n",
       " 'stellar_vel_lo_clip': -58.098408,\n",
       " 'stellar_z': 0.040770844,\n",
       " 'tplkey': 'MILESHC',\n",
       " 'verscore': 'v1_6_2',\n",
       " 'versdap': '2.2.1',\n",
       " 'versdrp2': 'v2_4_3',\n",
       " 'versdrp3': 'v2_4_3',\n",
       " 'versutil': 'v5_5_32',\n",
       " 'z': 0.0407447}"
      ]
     },
     "execution_count": 126,
     "metadata": {},
     "output_type": "execute_result"
    }
   ],
   "source": [
    "# look at the DAP all properties from the maps instance\n",
    "maps.dapall"
   ]
  },
  {
   "cell_type": "markdown",
   "metadata": {},
   "source": [
    "SDSS members produce Value-Added Catalogs (VACS) of MaNGA products.  These products can be incorporated into Marvin.  Any incorporated VACS in Marvin are contained in the ``vacs`` attribute attached to each tool.  More information on VACs in Marvin can be found [here](https://sdss-marvin.readthedocs.io/en/stable/tools/catalogues.html#value-added-catalogs-vacs).  Currently the MaNGA-HI VAC for DR15 has been contributed into Marvin.  Let's take a look at it.  "
   ]
  },
  {
   "cell_type": "code",
   "execution_count": 147,
   "metadata": {},
   "outputs": [
    {
     "data": {
      "text/plain": [
       "<VACContainer ('mangahi')>"
      ]
     },
     "execution_count": 147,
     "metadata": {},
     "output_type": "execute_result"
    }
   ],
   "source": [
    "# access the available VACs for this object\n",
    "vacs = cube.vacs\n",
    "vacs"
   ]
  },
  {
   "cell_type": "markdown",
   "metadata": {},
   "source": [
    "**vacs** is a container (list) of all names of the vacs contributed into Marvin.  These names are dottable to access to vac data.  These contributed custom products can be of any format chosen by the VAC owner, a Python class, a dictionary, an array, etc.  "
   ]
  },
  {
   "cell_type": "code",
   "execution_count": 153,
   "metadata": {},
   "outputs": [
    {
     "name": "stdout",
     "output_type": "stream",
     "text": [
      "HI(8485-1901)\n",
      "data type: <class 'marvin.contrib.vacs.mangahi.HIData'>\n"
     ]
    },
    {
     "data": {
      "text/plain": [
       "'No HI data exists for 8485-1901'"
      ]
     },
     "execution_count": 153,
     "metadata": {},
     "output_type": "execute_result"
    }
   ],
   "source": [
    "# access the mangahi vac\n",
    "hi = vacs.mangahi\n",
    "print(hi)\n",
    "print('data type:', type(hi))\n",
    "\n",
    "# access any HI data available for 8485-1901\n",
    "hi.data"
   ]
  },
  {
   "cell_type": "markdown",
   "metadata": {},
   "source": [
    "<a id='download'></a>\n",
    "### Downloading files\n",
    "While Marvin allows you to access data remotely, frequently you will find that you want to download the file associated to an object so that you can access it more quickly in the future. We can do that using the ``download`` method attached to all marvin core tools. Let’s try to load a cube that we know we do not have in out hard drive, and download it. "
   ]
  },
  {
   "cell_type": "code",
   "execution_count": 133,
   "metadata": {},
   "outputs": [
    {
     "data": {
      "text/plain": [
       "<Marvin Cube (plateifu='8485-1902', mode='remote', data_origin='api')>"
      ]
     },
     "execution_count": 133,
     "metadata": {},
     "output_type": "execute_result"
    }
   ],
   "source": [
    "# Check our remote cube we loaded earlier \n",
    "remote_cube"
   ]
  },
  {
   "cell_type": "code",
   "execution_count": 134,
   "metadata": {},
   "outputs": [],
   "source": [
    "# download the remote cube\n",
    "# remote_cube.download()"
   ]
  },
  {
   "cell_type": "code",
   "execution_count": 136,
   "metadata": {},
   "outputs": [
    {
     "data": {
      "text/plain": [
       "<Marvin Cube (plateifu='8485-1902', mode='remote', data_origin='api')>"
      ]
     },
     "execution_count": 136,
     "metadata": {},
     "output_type": "execute_result"
    }
   ],
   "source": [
    "# loading the cube a second time loads it from the new file\n",
    "new_cube = Cube('8485-1902')\n",
    "new_cube"
   ]
  },
  {
   "cell_type": "markdown",
   "metadata": {},
   "source": [
    "Each tool contains a ``download`` method to download that individual file.  If you want to download a list of targets in bulk, you can use the ``downloadList`` utility function.  This function uses the built-in Python product ``sdss_access`` to download files from the Utah SAS.  ``downloadList`` accepts as input a list of target ids, e.g. plateifus or mangaids.  The ``dltype`` keyword indicates the type of file you wish to download.  The default file is ``cube``.  Let's use the utility function to download a list of DAP MAPS files for three targets.  "
   ]
  },
  {
   "cell_type": "code",
   "execution_count": 139,
   "metadata": {},
   "outputs": [],
   "source": [
    "from marvin.utils.general import downloadList\n",
    "\n",
    "# create a list of target ids\n",
    "plateifus = ['8485-1901', '8485-1902', '7443-1901']\n",
    "\n",
    "# download the DAP 2d MAPS files for these targets\n",
    "# dllist = downloadList(plateifus, dltype='maps')"
   ]
  },
  {
   "cell_type": "markdown",
   "metadata": {},
   "source": [
    "<a id=\"spaxels\"></a>\n",
    "### Interacting with Spaxels\n",
    "All of the core Marvin Galaxy Tools have the ability to extract one ore more ``Spaxel`` objects.  ``Spaxel`` objects are special Marvin objects to make it easier to deal with individual spaxels in galaxies and access their properties.  See the [Getting Started with Spaxels](https://sdss-marvin.readthedocs.io/en/stable/tools/spaxel.html#marvin-spaxel) for more information on how to interact with ``Spaxels``.  We can either use the standard array slicing notation (0-indexed, origin of coordinates in the lower left corner of the array)"
   ]
  },
  {
   "cell_type": "code",
   "execution_count": 140,
   "metadata": {},
   "outputs": [
    {
     "data": {
      "text/plain": [
       "<Marvin Spaxel (plateifu=8485-1901, x=10, y=15; x_cen=-7, y_cen=-2, loaded=cube)>"
      ]
     },
     "execution_count": 140,
     "metadata": {},
     "output_type": "execute_result"
    }
   ],
   "source": [
    "# extract the spaxel at array index x=10, y=15\n",
    "spaxel = cube[15, 10]\n",
    "spaxel"
   ]
  },
  {
   "cell_type": "markdown",
   "metadata": {},
   "source": [
    "or we can use ``getSpaxel`` method, which accepts multiple arguments. Note that by default, (x, y) coordinates passed to ``getSpaxel`` are measured from the center of the array."
   ]
  },
  {
   "cell_type": "code",
   "execution_count": 142,
   "metadata": {},
   "outputs": [
    {
     "data": {
      "text/plain": [
       "<Marvin Spaxel (plateifu=8485-1901, x=17, y=17; x_cen=0, y_cen=0, loaded=cube)>"
      ]
     },
     "execution_count": 142,
     "metadata": {},
     "output_type": "execute_result"
    }
   ],
   "source": [
    "# get the spaxel at the center of the target galaxy\n",
    "central_spaxel = cube.getSpaxel(x=0, y=0)\n",
    "central_spaxel"
   ]
  },
  {
   "cell_type": "code",
   "execution_count": 144,
   "metadata": {},
   "outputs": [
    {
     "name": "stderr",
     "output_type": "stream",
     "text": [
      "WARNING: AstropyDeprecationWarning: The truth value of a Quantity is ambiguous. In the future this will raise a ValueError. [astropy.units.quantity]\n"
     ]
    },
    {
     "data": {
      "text/plain": [
       "<matplotlib.axes._subplots.AxesSubplot at 0x157f312b0>"
      ]
     },
     "execution_count": 144,
     "metadata": {},
     "output_type": "execute_result"
    },
    {
     "data": {
      "image/png": "[encoded data removed]",
      "text/plain": [
       "<Figure size 432x288 with 1 Axes>"
      ]
     },
     "metadata": {},
     "output_type": "display_data"
    }
   ],
   "source": [
    "# we can plot the spectrum of the spaxel\n",
    "spaxel.flux.plot()"
   ]
  },
  {
   "cell_type": "code",
   "execution_count": null,
   "metadata": {},
   "outputs": [],
   "source": []
  },
  {
   "cell_type": "markdown",
   "metadata": {},
   "source": [
    "### Additional Resources\n",
    "\n",
    "- Go through the [Lean Tutorial](https://sdss-marvin.readthedocs.io/en/latest/tutorials/lean-tutorial.html#marvin-lean-tutorial)\n",
    "- Learn more [Plotting Techniques](https://sdss-marvin.readthedocs.io/en/latest/tutorials/plotting-tutorial.html)\n",
    "- Dig into the [Galaxy Tools](https://sdss-marvin.readthedocs.io/en/latest/tools/index.html) in more detail.\n",
    "- Try out [Marvin Queries](https://sdss-marvin.readthedocs.io/en/latest/query/index.html)"
   ]
  },
  {
   "cell_type": "code",
   "execution_count": null,
   "metadata": {},
   "outputs": [],
   "source": []
  }
 ],
 "metadata": {
  "anaconda-cloud": {},
  "kernelspec": {
   "display_name": "Python [conda env:marvindev]",
   "language": "python",
   "name": "conda-env-marvindev-py"
  },
  "language_info": {
   "codemirror_mode": {
    "name": "ipython",
    "version": 3
   },
   "file_extension": ".py",
   "mimetype": "text/x-python",
   "name": "python",
   "nbconvert_exporter": "python",
   "pygments_lexer": "ipython3",
   "version": "3.5.2"
  }
 },
 "nbformat": 4,
 "nbformat_minor": 2
}
