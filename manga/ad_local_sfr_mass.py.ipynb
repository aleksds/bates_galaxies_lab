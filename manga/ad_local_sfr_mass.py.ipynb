{
 "cells": [
  {
   "cell_type": "markdown",
   "metadata": {},
   "source": [
    "# Import libraries and info needed to run"
   ]
  },
  {
   "cell_type": "code",
   "execution_count": 79,
   "metadata": {},
   "outputs": [],
   "source": [
    "import os\n",
    "import matplotlib.pyplot as plt\n",
    "from astropy.io import fits\n",
    "from matplotlib.backends.backend_pdf import PdfPages\n",
    "import numpy as np\n",
    "from astropy.coordinates import SkyCoord\n",
    "from astropy import units as u"
   ]
  },
  {
   "cell_type": "markdown",
   "metadata": {},
   "source": [
    "# Getting MPL8 and drpall"
   ]
  },
  {
   "cell_type": "code",
   "execution_count": 80,
   "metadata": {},
   "outputs": [],
   "source": [
    "# Ruinning this gives me a KeyError, MANGADIR_MPL8 maybe isn't in my system's dictionary? As a result, I don't think \n",
    "# subsequent cells will run.\n",
    "mpl8_dir = 'local/'#os.environ['MANGADIR_MPL8']\n",
    "drp = fits.open(mpl8_dir + 'drpall-v2_5_3.fits')\n",
    "drpdata = drp[1].data "
   ]
  },
  {
   "cell_type": "code",
   "execution_count": null,
   "metadata": {},
   "outputs": [],
   "source": []
  },
  {
   "cell_type": "code",
   "execution_count": 81,
   "metadata": {},
   "outputs": [],
   "source": [
    "ba = drpdata.field('nsa_sersic_ba')\n",
    "stellar_mass = drpdata.field('nsa_sersic_mass')\n",
    "absmag = drpdata.field('nsa_elpetro_absmag')\n",
    "gr= absmag[:,3] - absmag[:,4]\n",
    "filename = 'histograms.pdf'\n",
    "plateifu = drpdata.field('plateifu')"
   ]
  },
  {
   "cell_type": "markdown",
   "metadata": {},
   "source": [
    "# Getting information from the MPA-JHU catalog"
   ]
  },
  {
   "cell_type": "code",
   "execution_count": 82,
   "metadata": {},
   "outputs": [],
   "source": [
    "gal = fits.open(mpl8_dir + 'gal_info_dr7_v5_2.fit')\n",
    "galdata = gal[1].data\n",
    "sfr = fits.open(mpl8_dir + 'gal_totsfr_dr7_v5_2.fits')\n",
    "sfrdata = sfr[1].data\n",
    "mass = fits.open(mpl8_dir + 'gal_totsfr_dr7_v5_2.fits')\n",
    "massdata = mass[1].data"
   ]
  },
  {
   "cell_type": "markdown",
   "metadata": {},
   "source": [
    "# Read in information from NSA catalog"
   ]
  },
  {
   "cell_type": "code",
   "execution_count": 83,
   "metadata": {},
   "outputs": [],
   "source": [
    "nsa = fits.open(mpl8_dir + '1-nsa_v1_0_1.fits')\n",
    "nsa_data = nsa[1].data"
   ]
  },
  {
   "cell_type": "markdown",
   "metadata": {},
   "source": [
    "# Check on a galaxy of interest (note: this part is potentially not needed for making the plots?)"
   ]
  },
  {
   "cell_type": "code",
   "execution_count": 84,
   "metadata": {},
   "outputs": [
    {
     "name": "stdout",
     "output_type": "stream",
     "text": [
      "J220943.19+133802.9\n",
      "J220943.19+133802.9\n"
     ]
    }
   ],
   "source": [
    "plate = 7977\n",
    "galaxy = 12704\n",
    "match = np.where((drpdata.field('plate') == plate) & (drpdata.field('ifudsgn') == str(galaxy)))\n",
    "mangaid = drpdata[match].field('mangaid')[0]\n",
    "nsaid = drpdata[match].field('nsa_nsaid')[0]\n",
    "\n",
    "yo = np.where(nsa_data.field('NSAID') == nsaid)\n",
    "name = nsa_data[yo[0][0]].field('IAUNAME')\n",
    "print(name)\n",
    "what = drpdata[match].field('nsa_iauname')[0]\n",
    "print(what)"
   ]
  },
  {
   "cell_type": "markdown",
   "metadata": {},
   "source": [
    "# Match the NSA and MaNGA catalogs for right ascension and declination (this is the part mentioned for me to change)"
   ]
  },
  {
   "cell_type": "code",
   "execution_count": 85,
   "metadata": {},
   "outputs": [],
   "source": [
    "manga_ra = drpdata.field('objra')\n",
    "manga_dec = drpdata.field('objdec')\n",
    "nsa_ra = nsa_data.field('RA')\n",
    "nsa_dec = nsa_data.field('DEC')\n",
    "c = SkyCoord(ra=manga_ra*u.degree, dec=manga_dec*u.degree)\n",
    "catalog = SkyCoord(ra=nsa_ra*u.degree, dec=nsa_dec*u.degree)\n",
    "idx, d2d, d3d = c.match_to_catalog_sky(catalog) "
   ]
  },
  {
   "cell_type": "markdown",
   "metadata": {},
   "source": [
    "# Match the MPA-JHU and MaNGA catalogs on the basis of RA and DEC (actually maybe this was the part, i.e. the RA and DEC?)"
   ]
  },
  {
   "cell_type": "code",
   "execution_count": 86,
   "metadata": {},
   "outputs": [],
   "source": [
    "mpa_ra = galdata.field('RA')\n",
    "mpa_dec = galdata.field('DEC')\n",
    "bad = mpa_dec < -90\n",
    "mpa_dec[bad] = -90\n",
    "mpa_cat = SkyCoord(ra=mpa_ra*u.degree, dec=mpa_dec*u.degree)\n",
    "idx_mpa, d2d_mpa, d3d_mpa = c.match_to_catalog_sky(mpa_cat)  "
   ]
  },
  {
   "cell_type": "markdown",
   "metadata": {},
   "source": [
    "# define theta 50, theta 90, (RA and DEC related?) and concentration arrays"
   ]
  },
  {
   "cell_type": "code",
   "execution_count": 87,
   "metadata": {},
   "outputs": [],
   "source": [
    "th50 = nsa_data.field('ELPETRO_TH50_R')\n",
    "th90 = nsa_data.field('ELPETRO_TH90_R')\n",
    "\n",
    "th50_manga = th50[idx]\n",
    "th90_manga = th90[idx]\n",
    "c_manga = th90_manga / th50_manga\n",
    "\n",
    "sfr_manga = sfrdata.field('MEDIAN')[idx_mpa]\n",
    "mass_manga = massdata.field('MEDIAN')[idx_mpa]"
   ]
  },
  {
   "cell_type": "markdown",
   "metadata": {},
   "source": [
    "# Get just the MaNGA galaxies"
   ]
  },
  {
   "cell_type": "code",
   "execution_count": 88,
   "metadata": {},
   "outputs": [
    {
     "name": "stdout",
     "output_type": "stream",
     "text": [
      "6661\n"
     ]
    }
   ],
   "source": [
    "blah = drpdata.field('srvymode') == 'MaNGA dither'\n",
    "print(len(c_manga[blah]))"
   ]
  },
  {
   "cell_type": "markdown",
   "metadata": {},
   "source": [
    "# Update the concentration and ba arrays (I'm not sure what this really does)"
   ]
  },
  {
   "cell_type": "code",
   "execution_count": 89,
   "metadata": {},
   "outputs": [],
   "source": [
    "c_manga_gal = c_manga[blah]\n",
    "ba_gal = ba[blah]\n",
    "stellar_mass_gal = stellar_mass[blah]\n",
    "gr_gal = gr[blah]\n",
    "sfr_manga_gal = sfr_manga[blah]\n",
    "mass_manga_gal = mass_manga[blah]"
   ]
  },
  {
   "cell_type": "code",
   "execution_count": 90,
   "metadata": {},
   "outputs": [],
   "source": [
    "# find late-type manga galaxies"
   ]
  },
  {
   "cell_type": "code",
   "execution_count": 91,
   "metadata": {},
   "outputs": [],
   "source": [
    "late = c_manga_gal < 2.6"
   ]
  },
  {
   "cell_type": "code",
   "execution_count": 92,
   "metadata": {},
   "outputs": [],
   "source": [
    "# update concentration and ba arrays"
   ]
  },
  {
   "cell_type": "code",
   "execution_count": 93,
   "metadata": {},
   "outputs": [],
   "source": [
    "ba_gal_late = ba_gal[late]\n",
    "c_manga_gal_late = c_manga_gal[late]\n",
    "stellar_mass_gal_late = stellar_mass_gal[late]\n",
    "gr_gal_late = gr_gal[late]\n",
    "sfr_manga_gal_late = sfr_manga_gal[late]\n",
    "mass_manga_gal_late = mass_manga_gal[late]"
   ]
  },
  {
   "cell_type": "code",
   "execution_count": 94,
   "metadata": {},
   "outputs": [],
   "source": [
    "# find edge-one late-type galaxies"
   ]
  },
  {
   "cell_type": "code",
   "execution_count": 95,
   "metadata": {},
   "outputs": [],
   "source": [
    "edge = ba_gal_late < 0.3"
   ]
  },
  {
   "cell_type": "code",
   "execution_count": 96,
   "metadata": {},
   "outputs": [],
   "source": [
    "# update concentration and ba arrays"
   ]
  },
  {
   "cell_type": "code",
   "execution_count": 97,
   "metadata": {},
   "outputs": [
    {
     "name": "stdout",
     "output_type": "stream",
     "text": [
      "647\n",
      "647\n",
      "['10001-12703' '10001-12704' '10213-12703' '10214-12701' '10214-3701'\n",
      " '10215-9101' '10215-9102' '10216-6104' '10217-12702' '10217-12703'\n",
      " '10219-12705' '10219-6103' '10220-12701' '10220-12702' '10220-6104'\n",
      " '10221-3701' '10493-12702' '10493-12704' '10496-12701' '10496-12703'\n",
      " '10496-6101' '10497-3704' '10498-12701' '10499-9102' '10503-12702'\n",
      " '10503-12703' '10503-12704' '10503-3703' '10503-6102' '10506-12704'\n",
      " '10507-12704' '10507-1902' '10507-3702' '10508-12704' '10510-1902'\n",
      " '10510-9101' '10511-12701' '10511-6101' '10512-9102' '10514-12705'\n",
      " '10514-3701' '10517-12701' '10517-12702' '10517-12703' '10519-12702'\n",
      " '10519-6101' '7443-12704' '7444-12702' '7444-12705' '7444-3704'\n",
      " '7444-6101' '7444-6103' '7444-704' '7444-708' '7495-12702' '7495-3702'\n",
      " '7495-3703' '7495-6104' '7815-6101' '7957-6102' '7958-12702' '7958-12703'\n",
      " '7958-12704' '7960-12702' '7960-6103' '7962-12705' '7964-12704'\n",
      " '7964-12705' '7972-3701' '7975-12703' '7975-3701' '7975-9102'\n",
      " '7977-12704' '7979-12701' '7979-12704' '7979-12705' '7979-3703'\n",
      " '7979-6102' '7990-12702' '7990-12703' '7990-3702' '7990-6102' '7990-9101'\n",
      " '7990-9102' '7991-6102' '7991-6103' '7992-12703' '7992-3704' '7993-3701'\n",
      " '8077-12702' '8077-12703' '8077-6102' '8077-9101' '8078-12702'\n",
      " '8078-12704' '8078-9101' '8079-12701' '8079-9102' '8080-9102'\n",
      " '8081-12703' '8081-12704' '8081-1901' '8082-12703' '8082-3702'\n",
      " '8083-12701' '8083-3703' '8083-6101' '8084-12704' '8084-12705'\n",
      " '8085-3701' '8086-12702' '8086-12703' '8086-3704' '8097-12701'\n",
      " '8097-3702' '8131-12703' '8135-12705' '8137-12701' '8137-12705'\n",
      " '8137-3704' '8138-12702' '8138-12705' '8138-6101' '8138-6103'\n",
      " '8139-12701' '8139-12704' '8139-3703' '8139-6104' '8140-12702'\n",
      " '8141-12705' '8141-3701' '8143-12703' '8143-12705' '8143-9101'\n",
      " '8144-12702' '8144-12705' '8144-3704' '8144-9101' '8145-12701'\n",
      " '8145-12705' '8147-12705' '8148-6102' '8149-12701' '8149-12703'\n",
      " '8150-12705' '8150-6103' '8152-12702' '8155-1901' '8156-12705'\n",
      " '8156-9102' '8158-12701' '8158-12705' '8239-1902' '8239-6102'\n",
      " '8241-12703' '8244-12705' '8245-12701' '8247-12705' '8248-12701'\n",
      " '8248-12702' '8249-12701' '8249-12702' '8249-1901' '8249-9102'\n",
      " '8250-12705' '8252-12703' '8252-9101' '8253-12701' '8253-12704'\n",
      " '8254-12702' '8254-3703' '8255-12704' '8256-12701' '8257-12702'\n",
      " '8257-12705' '8257-9101' '8258-12703' '8259-12702' '8259-12703'\n",
      " '8259-6102' '8260-12705' '8260-6101' '8261-12704' '8262-12701'\n",
      " '8262-12702' '8262-12705' '8262-3704' '8263-12701' '8263-12702'\n",
      " '8274-12701' '8309-12701' '8309-12705' '8311-12704' '8312-6101'\n",
      " '8315-12704' '8317-6101' '8317-6104' '8318-12702' '8319-12705'\n",
      " '8320-12702' '8320-12703' '8323-6103' '8323-6104' '8323-9102'\n",
      " '8324-12701' '8324-12705' '8324-3702' '8324-6102' '8324-6103' '8324-6104'\n",
      " '8325-3701' '8325-3702' '8325-3703' '8326-12704' '8328-12705'\n",
      " '8329-12703' '8329-9102' '8330-12704' '8330-9102' '8331-1902' '8331-3703'\n",
      " '8332-3704' '8332-9102' '8333-12703' '8334-12704' '8336-3702' '8336-9101'\n",
      " '8337-12701' '8337-12704' '8337-9101' '8337-9102' '8338-12702'\n",
      " '8338-6103' '8341-12701' '8341-6103' '8439-6103' '8440-3704' '8440-9102'\n",
      " '8442-12701' '8442-6102' '8443-9102' '8444-12704' '8445-12704'\n",
      " '8445-12705' '8445-9102' '8446-12701' '8446-12702' '8446-12703'\n",
      " '8446-6101' '8448-12704' '8448-6102' '8449-12703' '8449-6104'\n",
      " '8450-12703' '8451-12705' '8452-12702' '8453-1902' '8455-12705'\n",
      " '8455-6102' '8456-12702' '8456-12705' '8458-3701' '8461-12705'\n",
      " '8462-9102' '8464-12703' '8465-12702' '8465-12703' '8465-12704'\n",
      " '8465-3703' '8465-9101' '8466-12701' '8466-12703' '8479-12702'\n",
      " '8479-12705' '8479-1902' '8479-3701' '8479-6102' '8480-12701'\n",
      " '8480-12703' '8480-1902' '8480-3702' '8480-6103' '8481-12702'\n",
      " '8481-12705' '8481-3701' '8483-12701' '8483-3704' '8484-12704'\n",
      " '8484-3704' '8484-6101' '8485-3704' '8485-6103' '8486-12703' '8486-12704'\n",
      " '8486-6104' '8547-12702' '8547-12704' '8547-12705' '8547-9102'\n",
      " '8548-12701' '8549-12704' '8550-3702' '8550-9101' '8551-12704'\n",
      " '8551-6104' '8552-12702' '8553-12701' '8555-12703' '8568-6103'\n",
      " '8588-12701' '8588-12704' '8588-12705' '8588-6104' '8591-12703'\n",
      " '8592-6104' '8595-3704' '8597-12705' '8597-6101' '8600-3701' '8600-6102'\n",
      " '8600-6104' '8601-6103' '8602-6101' '8602-9102' '8603-6103' '8606-3704'\n",
      " '8611-6104' '8612-12701' '8612-12703' '8612-12704' '8615-12702'\n",
      " '8615-9101' '8616-12705' '8618-12701' '8619-12704' '8623-12702'\n",
      " '8624-12702' '8624-12705' '8651-12701' '8655-12702' '8655-12703'\n",
      " '8655-6103' '8656-12701' '8657-12703' '8711-1902' '8712-9102'\n",
      " '8713-12703' '8713-3701' '8713-6101' '8714-12704' '8714-1901' '8715-6102'\n",
      " '8715-6103' '8716-12704' '8716-3702' '8716-3704' '8716-6102' '8717-12701'\n",
      " '8717-12704' '8717-12705' '8719-12701' '8719-12704' '8719-12705'\n",
      " '8719-6101' '8719-9102' '8720-12704' '8721-6102' '8724-12705' '8725-9101'\n",
      " '8726-12703' '8727-12703' '8727-12704' '8727-1902' '8727-6102'\n",
      " '8727-6104' '8728-6103' '8728-9101' '8931-12703' '8931-6101' '8932-12702'\n",
      " '8932-3703' '8932-3704' '8933-12701' '8934-1901' '8934-1902' '8934-6103'\n",
      " '8935-12701' '8935-12704' '8937-12701' '8937-12703' '8937-12704'\n",
      " '8937-6102' '8938-12705' '8939-6101' '8940-12703' '8940-12705'\n",
      " '8941-12704' '8941-6102' '8942-1901' '8942-6103' '8943-1901' '8944-12702'\n",
      " '8944-12705' '8944-3701' '8944-6101' '8945-12704' '8945-9101'\n",
      " '8946-12704' '8946-3702' '8947-12701' '8947-12705' '8950-12701'\n",
      " '8950-12705' '8950-1901' '8950-9101' '8953-12702' '8953-12703'\n",
      " '8953-1901' '8953-3701' '8953-6104' '8977-12701' '8977-12704'\n",
      " '8978-12701' '8978-12704' '8978-6102' '8979-6101' '8980-9101' '8980-9102'\n",
      " '8981-12704' '8981-1902' '8981-3703' '8981-9102' '8982-12701'\n",
      " '8982-12702' '8983-6103' '8984-6101' '8985-12704' '8986-12703'\n",
      " '8986-12705' '8987-12703' '8987-12704' '8987-12705' '8987-3704'\n",
      " '8987-6101' '8988-12702' '8988-12703' '8988-1901' '8988-3701'\n",
      " '8990-12701' '8990-12704' '8992-12701' '8992-12702' '8992-3703'\n",
      " '8993-6101' '8993-6102' '8993-6104' '8994-12704' '8995-9101' '8996-12701'\n",
      " '8996-12702' '8996-12704' '8996-6102' '8997-12703' '8997-6103'\n",
      " '8998-3703' '8998-6102' '8999-12705' '8999-3704' '8999-9101' '9000-12705'\n",
      " '9001-6102' '9002-9102' '9024-12702' '9024-9102' '9029-6104' '9030-1901'\n",
      " '9031-12704' '9032-3703' '9032-9102' '9033-3702' '9034-3703' '9034-6103'\n",
      " '9035-12704' '9035-3702' '9035-9102' '9037-12701' '9037-9102'\n",
      " '9038-12704' '9038-3701' '9038-9101' '9038-9102' '9040-12703'\n",
      " '9040-12704' '9042-12701' '9042-1902' '9047-12705' '9047-9101'\n",
      " '9048-12702' '9048-12703' '9050-12701' '9050-12703' '9051-12701'\n",
      " '9051-12705' '9051-3702' '9051-3703' '9051-6104' '9085-12702' '9085-9102'\n",
      " '9086-12701' '9086-12705' '9086-6102' '9087-12703' '9087-9102'\n",
      " '9088-12701' '9088-12703' '9089-3704' '9090-12703' '9090-1902'\n",
      " '9091-12703' '9091-12704' '9091-6103' '9091-9101' '9092-9101'\n",
      " '9094-12701' '9094-12705' '9095-6104' '9181-12705' '9181-9102'\n",
      " '9182-12702' '9182-12705' '9183-3701' '9184-12702' '9184-12703'\n",
      " '9184-3701' '9184-3704' '9184-6104' '9185-3704' '9186-12703' '9188-12701'\n",
      " '9188-12705' '9189-12701' '9189-6104' '9190-12702' '9190-12705'\n",
      " '9190-3703' '9190-9102' '9192-1901' '9193-12702' '9193-9102' '9194-12702'\n",
      " '9195-12701' '9195-12705' '9196-12704' '9485-12702' '9485-3701'\n",
      " '9486-12703' '9486-12704' '9486-9102' '9488-12701' '9488-12704'\n",
      " '9491-12702' '9491-12703' '9491-6102' '9493-3702' '9494-12701'\n",
      " '9494-12702' '9494-12703' '9494-12704' '9494-6102' '9495-12705'\n",
      " '9496-12702' '9496-12703' '9496-1901' '9497-12702' '9498-12703'\n",
      " '9499-12704' '9500-12703' '9500-3701' '9501-3703' '9502-12704'\n",
      " '9502-12705' '9502-1901' '9505-12702' '9505-3703' '9505-6102' '9505-9102'\n",
      " '9506-9102' '9507-12701' '9507-6104' '9509-12702' '9509-6101'\n",
      " '9510-12702' '9510-6101' '9512-9101' '9514-12705' '9677-3701' '9677-3702'\n",
      " '9677-3704' '9677-6104' '9678-12701' '9678-12702' '9678-3701' '9678-3702'\n",
      " '9678-3704' '9678-6104' '9865-6101' '9866-12702' '9866-9102' '9867-12701'\n",
      " '9867-12703' '9867-9102' '9868-1902' '9869-12701' '9869-12705'\n",
      " '9870-12704' '9870-12705' '9871-1902' '9871-3702' '9871-9101'\n",
      " '9872-12702' '9872-12705' '9872-6103' '9872-6104' '9877-3702' '9877-3703'\n",
      " '9878-12703' '9878-12704' '9879-12703' '9880-12705' '9884-12704'\n",
      " '9884-12705' '9885-12701' '9885-12704' '9885-12705' '9885-6103'\n",
      " '9886-1901' '9886-6102' '9886-6104' '9887-12701' '9889-12704' '9889-6101'\n",
      " '9891-6102' '9893-12704' '9893-6102' '9893-9102' '9894-12703'\n",
      " '9894-12705']\n"
     ]
    }
   ],
   "source": [
    "c_manga_gal_late_edge = c_manga_gal_late[edge]\n",
    "ba_gal_late_edge = ba_gal_late[edge]\n",
    "stellar_mass_gal_late_edge = stellar_mass_gal_late[edge]\n",
    "gr_gal_late_edge = gr_gal_late[edge]\n",
    "sfr_manga_gal_late_edge = sfr_manga_gal_late[edge]\n",
    "mass_manga_gal_late_edge = mass_manga_gal_late[edge]\n",
    "\n",
    "print(len(c_manga_gal_late_edge))\n",
    "print(len(ba_gal_late_edge))\n",
    "print(np.sort(plateifu[blah][late][edge]))"
   ]
  },
  {
   "cell_type": "markdown",
   "metadata": {},
   "source": [
    "# Making the Plots (maybe separate each plot for my own clarity?)"
   ]
  },
  {
   "cell_type": "code",
   "execution_count": 150,
   "metadata": {},
   "outputs": [
    {
     "name": "stderr",
     "output_type": "stream",
     "text": [
      "/Users/rileytheriault/anaconda3/lib/python3.7/site-packages/ipykernel_launcher.py:23: RuntimeWarning: invalid value encountered in log10\n",
      "/Users/rileytheriault/anaconda3/lib/python3.7/site-packages/ipykernel_launcher.py:26: RuntimeWarning: invalid value encountered in log10\n",
      "/Users/rileytheriault/anaconda3/lib/python3.7/site-packages/ipykernel_launcher.py:29: RuntimeWarning: invalid value encountered in log10\n",
      "/Users/rileytheriault/anaconda3/lib/python3.7/site-packages/ipykernel_launcher.py:91: RuntimeWarning: invalid value encountered in log10\n",
      "/Users/rileytheriault/anaconda3/lib/python3.7/site-packages/ipykernel_launcher.py:92: RuntimeWarning: invalid value encountered in log10\n",
      "/Users/rileytheriault/anaconda3/lib/python3.7/site-packages/ipykernel_launcher.py:93: RuntimeWarning: invalid value encountered in log10\n"
     ]
    },
    {
     "data": {
      "text/plain": [
       "0"
      ]
     },
     "execution_count": 150,
     "metadata": {},
     "output_type": "execute_result"
    },
    {
     "data": {
      "image/png": "[encoded data removed]",
      "text/plain": [
       "<Figure size 432x288 with 1 Axes>"
      ]
     },
     "metadata": {
      "needs_background": "light"
     },
     "output_type": "display_data"
    },
    {
     "data": {
      "image/png": "[encoded data removed]",
      "text/plain": [
       "<Figure size 432x288 with 1 Axes>"
      ]
     },
     "metadata": {
      "needs_background": "light"
     },
     "output_type": "display_data"
    },
    {
     "data": {
      "image/png": "[encoded data removed]",
      "text/plain": [
       "<Figure size 432x288 with 1 Axes>"
      ]
     },
     "metadata": {
      "needs_background": "light"
     },
     "output_type": "display_data"
    },
    {
     "data": {
      "image/png": "[encoded data removed]",
      "text/plain": [
       "<Figure size 432x288 with 1 Axes>"
      ]
     },
     "metadata": {
      "needs_background": "light"
     },
     "output_type": "display_data"
    },
    {
     "data": {
      "image/png": "[encoded data removed]",
      "text/plain": [
       "<Figure size 432x288 with 1 Axes>"
      ]
     },
     "metadata": {
      "needs_background": "light"
     },
     "output_type": "display_data"
    },
    {
     "data": {
      "image/png": "[encoded data removed]",
      "text/plain": [
       "<Figure size 432x288 with 1 Axes>"
      ]
     },
     "metadata": {
      "needs_background": "light"
     },
     "output_type": "display_data"
    },
    {
     "data": {
      "image/png": "[encoded data removed]",
      "text/plain": [
       "<Figure size 432x288 with 1 Axes>"
      ]
     },
     "metadata": {
      "needs_background": "light"
     },
     "output_type": "display_data"
    }
   ],
   "source": [
    "fraction = np.array([5/60, 3/59, 8/59, 3/59, 9/59, 8/59, 9/58, 16/59, 17/59, 23/60])\n",
    "unc = np.array([np.sqrt(7)/60, np.sqrt(3)/59, np.sqrt(8)/59, np.sqrt(3)/59, np.sqrt(9)/59, np.sqrt(8)/59, np.sqrt(9)/58,\n",
    "                    np.sqrt(16)/59, np.sqrt(17)/59, np.sqrt(23)/60])\n",
    "sigma_sfr_p = np.log10(np.array([1.4e-4,7.6e-4,0.0013,0.0019,0.0025,0.0031,0.0041,0.0056,0.0087,0.041])) #0.034\n",
    "\n",
    "# removing np.array()\n",
    "\n",
    "with PdfPages(filename) as pdf:\n",
    "\n",
    "#plot 1: b/a ratio\n",
    "    fig = plt.figure()\n",
    "    plt.xlim(xmin=0.0, xmax = 1.05)\n",
    "    plt.hist(ba_gal, color='teal', bins=np.arange(0.05,1.02,.02), label= 'All MPL-7 galaxies')\n",
    "    plt.hist(ba_gal_late_edge, color='red', bins=np.arange(0.05,1.02,.02), label= 'Late-type-edge-on Galaxies') \n",
    "    plt.xlabel('b/a ratio')\n",
    "    plt.ylabel('Number of Galaxies')\n",
    "    plt.title('Distribution of b/a Values in MaNGA sample')\n",
    "    plt.legend(loc='upper left', frameon=False, fontsize='x-small')\n",
    "\n",
    "    pdf.savefig()\n",
    "    plt.close\n",
    "\n",
    "    log_stellar_mass_gal = np.log10(stellar_mass_gal)\n",
    "    use = np.isfinite(log_stellar_mass_gal)\n",
    "\n",
    "    log_stellar_mass_gal_late_edge = np.log10(stellar_mass_gal_late_edge)\n",
    "    yo = np.isfinite(log_stellar_mass_gal_late_edge)\n",
    "\n",
    "    log_stellar_mass_gal_late = np.log10(stellar_mass_gal_late)\n",
    "    mo = np.isfinite(log_stellar_mass_gal_late)\n",
    "    \n",
    "    #plot 2: stellar mass\n",
    "    fig = plt.figure()\n",
    "    plt.hist(log_stellar_mass_gal[use],color='teal', bins=np.arange(8.0,12.0,.2), label= 'All MPL-7 galaxies')\n",
    "    plt.hist(log_stellar_mass_gal_late[mo], color='cyan', bins=np.arange(8.0,12.0,.2), label= 'Late-type Galaxies')\n",
    "    plt.hist(log_stellar_mass_gal_late_edge[yo], color='red', bins=np.arange(8.0,12.0,.2), label= 'Late-type-edge-on Galaxies')\n",
    "    plt.xlim(8,12)\n",
    "    plt.xlabel('Stellar Mass (logM☉)')\n",
    "    plt.ylabel('Number of Galaxies')\n",
    "    plt.title('Distribution of Stellar Mass in MaNGA sample')\n",
    "    plt.legend(loc='upper left', frameon=False, fontsize='x-small')\n",
    "\n",
    "    pdf.savefig()\n",
    "    plt.close\n",
    "\n",
    "    #plot 3: g-r\n",
    "    fig = plt.figure()\n",
    "    plt.hist(gr_gal, bins=np.arange(0.0,1.0,0.05), color='teal', label= 'All MPL-7 galaxies')\n",
    "    plt.hist(gr_gal_late, bins=np.arange(0.0,1.0,0.05), color='cyan', label= 'Late-type Galaxies')\n",
    "    plt.hist(gr_gal_late_edge, bins=np.arange(0.0,1.0,0.05), color='red', label= 'Late-type-edge-on Galaxies')\n",
    "    plt.xlabel('g-r')\n",
    "    plt.ylabel('Number of Galaxies')\n",
    "    plt.title('Distribution of g-r in MaNGA sample')\n",
    "    plt.legend(loc='upper left', frameon=False, fontsize='x-small')\n",
    "\n",
    "    pdf.savefig()\n",
    "    plt.close\n",
    "\n",
    "    #concentration\n",
    "    fig = plt.figure()\n",
    "    plt.xlim(xmin=0, xmax = 4.5)\n",
    "    plt.hist(c_manga_gal, bins=np.arange(.25,4.1,0.1), color='teal', label= 'All MPL-7 galaxies')\n",
    "    plt.hist(c_manga_gal_late_edge, bins=np.arange(.25,4.1,0.1), color='red', label= 'Late-type-edge-on Galaxies')\n",
    "    plt.xlabel('Concentration')\n",
    "    plt.ylabel('Number of Galaxies')\n",
    "    plt.title('Distribution of Concentration in MaNGA sample')\n",
    "    plt.legend(loc='upper left', frameon=False, fontsize='x-small')\n",
    "\n",
    "    pdf.savefig()\n",
    "    plt.close\n",
    "\n",
    "    fig = plt.figure()\n",
    "\n",
    "    plt.xlim(xmin=0, xmax = 4.5)\n",
    "    plt.hist(c_manga_gal, bins=np.arange(.25,4.1,0.1), color='teal', label= 'All MPL-7 galaxies')\n",
    "    plt.hist(c_manga_gal_late_edge, bins=np.arange(.25,4.1,0.1), color='red', label= 'Late-type-edge-on Galaxies')\n",
    "    plt.xlabel('Concentration')\n",
    "    plt.ylabel('Number of Galaxies')\n",
    "    plt.title('Distribution of Concentration in MaNGA sample')\n",
    "    plt.legend(loc='upper left', frameon=False, fontsize='x-small')\n",
    "    \n",
    "    pdf.savefig()\n",
    "    plt.close\n",
    "\n",
    "    \n",
    "    fig = plt.figure()\n",
    "\n",
    "    #plt.scatter(mass_manga_gal, sfr_manga_gal,s=0.1, color='green', marker='s')\n",
    "    #plt.scatter(mass_manga_gal_late, sfr_manga_gal_late, s=0.1, color='blue', marker='o')\n",
    "    #plt.scatter(mass_manga_gal_late_edge, sfr_manga_gal_late_edge, s=0.5, marker='*', color='red')\n",
    "    plt.scatter(np.log10(stellar_mass_gal), sfr_manga_gal,s=0.1, color='green', marker='s')\n",
    "    plt.scatter(np.log10(stellar_mass_gal_late), sfr_manga_gal_late, s=0.1, color='blue', marker='o')\n",
    "    plt.scatter(np.log10(stellar_mass_gal_late_edge), sfr_manga_gal_late_edge, s=0.5, marker='*', color='red')\n",
    "    plt.xlim(8,12)\n",
    "    plt.ylim(-2,1.5)\n",
    "    plt.xlabel('Log(Stellar Mass)')\n",
    "    plt.ylabel('Log(Star Formation Rate)')\n",
    "    pdf.savefig()\n",
    "    plt.close()\n",
    "   \n",
    "\n",
    "    fig = plt.figure()\n",
    "    plt.errorbar(x=sigma_sfr_p, y=fraction, yerr=unc,ls='none')\n",
    "   \n",
    "    plt.scatter(sigma_sfr_p, fraction)\n",
    "    plt.xlabel('Log(SFR Surface Density)')\n",
    "    plt.ylabel('Fraction')\n",
    "    plt.title('Distrubution of Fraction over SFR Surface Density')\n",
    "    plt.xlim(-5,-1)\n",
    "    plt.ylim(0,1)\n",
    "    z = np.polyfit(sigma_sfr_p, fraction, 1)\n",
    "    p = np.poly1d(z)\n",
    "    plt.plot(sigma_sfr_p,p(sigma_sfr_p),\"r--\")\n",
    "\n",
    "    pdf.savefig()\n",
    "    plt.close\n",
    "    \n",
    "    \n",
    "    fig = plt.figure()\n",
    "\n",
    "    plt.xlim(xmin=0, xmax = 2.5)\n",
    "    plt.hist(sfr_manga_gal, bins=np.arange(.25,4.1,0.1), color='green')\n",
    "    plt.hist(sfr_manga_gal_late, bins=np.arange(.25,4.1,0.1), color='blue')\n",
    "    plt.hist(sfr_manga_gal_late_edge, bins=np.arange(.25,4.1,0.1), color='red')\n",
    "    plt.xlabel('Star Formation Rate')\n",
    "    plt.ylabel('Number of Galaxies')\n",
    "    plt.title('Distribution of SFR in MaNGA Sample')\n",
    "    #plt.legend(loc='upper left', frameon=False, fontsize='x-small')\n",
    "    \n",
    "    pdf.savefig()\n",
    "    plt.close\n",
    "    \n",
    "    \n",
    "os.system(\"open %s &\" % filename)"
   ]
  },
  {
   "cell_type": "code",
   "execution_count": 121,
   "metadata": {},
   "outputs": [
    {
     "name": "stdout",
     "output_type": "stream",
     "text": [
      "[0.00936724 0.00145146 0.00743165 ... 0.02340948 0.00030319 0.01142684] 1 / kpc2\n",
      "[ 4.01112287  5.65680643  5.91935481 ...  4.21399515 10.6887845\n",
      "  3.49211062] kpc\n"
     ]
    },
    {
     "name": "stderr",
     "output_type": "stream",
     "text": [
      "/Users/rileytheriault/anaconda3/lib/python3.7/site-packages/astropy/cosmology/core.py:1922: RuntimeWarning: invalid value encountered in sqrt\n",
      "  return 2 * np.sqrt(x) * hyp2f1(1./6, 1./2, 7./6, -x**3)\n"
     ]
    }
   ],
   "source": [
    "# getting sigma_sfr \n",
    "\n",
    "sfr_manga = sfrdata.field('MEDIAN')[idx_mpa]\n",
    "re_arcsec = drpdata.field('nsa_elpetro_th50_r')#nsa_data.field('ELPETRO_TH50_R')\n",
    "cosmo = FlatLambdaCDM(H0=70 * u.km / u.s / u.Mpc, Om0=0.3)\n",
    "z = drpdata.field('nsa_z')\n",
    "re_kpc = re_arcsec * u.arcsec / cosmo.arcsec_per_kpc_proper(z)\n",
    "sigma_sfr = 10**sfr_manga / (2 * np.pi * re_kpc**2)\n",
    "\n",
    "print(sigma_sfr)\n",
    "print(re_kpc)"
   ]
  },
  {
   "cell_type": "code",
   "execution_count": 133,
   "metadata": {},
   "outputs": [],
   "source": [
    "# getting sigma sfr for different kinds of galaxies\n",
    "\n",
    "sigma_sfr_gal = sigma_sfr[blah]\n",
    "sigma_sfr_gal_late = sigma_sfr_gal[late]\n",
    "sigma_sfr_gal_late_edge = sigma_sfr_gal_late[edge]"
   ]
  },
  {
   "cell_type": "code",
   "execution_count": 134,
   "metadata": {},
   "outputs": [
    {
     "data": {
      "text/plain": [
       "Text(0.5, 1.0, 'Distribution of SFR Surface Density in MaNGA Sample')"
      ]
     },
     "execution_count": 134,
     "metadata": {},
     "output_type": "execute_result"
    },
    {
     "data": {
      "image/png": "[encoded data removed]",
      "text/plain": [
       "<Figure size 432x288 with 1 Axes>"
      ]
     },
     "metadata": {
      "needs_background": "light"
     },
     "output_type": "display_data"
    }
   ],
   "source": [
    "#this feels wrong\n",
    "\n",
    "fig = plt.figure()\n",
    "\n",
    "plt.xlim(xmin=0, xmax = 2)\n",
    "plt.hist(sigma_sfr_gal, bins=np.arange(.25,4.1,0.1), color='green')\n",
    "plt.hist(sigma_sfr_gal_late, bins=np.arange(.25,4.1,0.1), color='blue')\n",
    "plt.hist(sigma_sfr_gal_late_edge, bins=np.arange(.25,4.1,0.1), color='red')\n",
    "plt.xlabel('Star Formation Surface Density')\n",
    "plt.ylabel('Number of Galaxies')\n",
    "plt.title('Distribution of SFR Surface Density in MaNGA Sample')\n",
    "#plt.legend(loc='upper left', frameon=False, fontsize='x-small')\n",
    "    "
   ]
  },
  {
   "cell_type": "code",
   "execution_count": 137,
   "metadata": {},
   "outputs": [
    {
     "name": "stdout",
     "output_type": "stream",
     "text": [
      "[-7.71729740e-12 -1.00132679e-10  1.56142710e-11 ...  1.56129609e-11\n",
      " -4.84316661e-12 -9.36424961e-11]\n"
     ]
    }
   ],
   "source": [
    "ssfr = (sfr_manga/stellar_mass)\n",
    "print(ssfr)"
   ]
  },
  {
   "cell_type": "code",
   "execution_count": 138,
   "metadata": {},
   "outputs": [],
   "source": [
    "ssfr_gal = ssfr[blah]\n",
    "ssfr_gal_late = ssfr_gal[late]\n",
    "ssfr_gal_late_edge = ssfr_gal_late[edge]"
   ]
  },
  {
   "cell_type": "code",
   "execution_count": 140,
   "metadata": {},
   "outputs": [
    {
     "name": "stderr",
     "output_type": "stream",
     "text": [
      "/Users/rileytheriault/anaconda3/lib/python3.7/site-packages/matplotlib/pyplot.py:1442: UserWarning: Attempting to set identical left==right results\n",
      "in singular transformations; automatically expanding.\n",
      "left=0, right=0\n",
      "  ret = ax.set_xlim(*args, **kwargs)\n"
     ]
    },
    {
     "data": {
      "text/plain": [
       "Text(0.5, 1.0, 'Distribution of Specific Star Formation in MaNGA Sample')"
      ]
     },
     "execution_count": 140,
     "metadata": {},
     "output_type": "execute_result"
    },
    {
     "data": {
      "image/png": "[encoded data removed]",
      "text/plain": [
       "<Figure size 432x288 with 1 Axes>"
      ]
     },
     "metadata": {
      "needs_background": "light"
     },
     "output_type": "display_data"
    }
   ],
   "source": [
    "fig = plt.figure()\n",
    "\n",
    "plt.xlim(xmin=0, xmax = 0)\n",
    "plt.hist(ssfr_gal, bins=np.arange(.25,4.1,0.1), color='green')\n",
    "plt.hist(ssfr_gal_late, bins=np.arange(.25,4.1,0.1), color='blue')\n",
    "plt.hist(ssfr_gal_late_edge, bins=np.arange(.25,4.1,0.1), color='red')\n",
    "plt.xlabel('Specific Star Formation Surface Density')\n",
    "plt.ylabel('Number of Galaxies')\n",
    "plt.title('Distribution of Specific Star Formation in MaNGA Sample')\n"
   ]
  },
  {
   "cell_type": "code",
   "execution_count": null,
   "metadata": {},
   "outputs": [],
   "source": [
    "fig = plt.figure()\n",
    "#plt.errorbar(x=sigma_sfr, y=fraction, yerr=unc,ls='none')\n",
    "   \n",
    "plt.plot(stellar_mass, sigma_sfr)\n",
    "plt.xlabel('Stellar Mass')\n",
    "plt.ylabel('SFR Surface Density')\n",
    "plt.title('Distrubution of FR Surface Density over Stellar Mass')\n",
    "#plt.xlim(0, 1)\n",
    "#plt.ylim(0,1)\n",
    "    \n",
    "#pdf.savefig()\n",
    "plt.close"
   ]
  }
 ],
 "metadata": {
  "kernelspec": {
   "display_name": "Python 3",
   "language": "python",
   "name": "python3"
  },
  "language_info": {
   "codemirror_mode": {
    "name": "ipython",
    "version": 3
   },
   "file_extension": ".py",
   "mimetype": "text/x-python",
   "name": "python",
   "nbconvert_exporter": "python",
   "pygments_lexer": "ipython3",
   "version": "3.7.3"
  }
 },
 "nbformat": 4,
 "nbformat_minor": 2
}
