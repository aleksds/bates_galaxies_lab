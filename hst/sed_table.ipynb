{
 "cells": [
  {
   "cell_type": "markdown",
   "metadata": {},
   "source": [
    "## Import relevant Python packages"
   ]
  },
  {
   "cell_type": "code",
   "execution_count": 46,
   "metadata": {},
   "outputs": [],
   "source": [
    "import numpy as np\n",
    "import os\n",
    "import argparse\n",
    "import matplotlib.pyplot as plt\n",
    "from matplotlib.backends.backend_pdf import PdfPages\n",
    "from astropy.io import ascii"
   ]
  },
  {
   "cell_type": "markdown",
   "metadata": {},
   "source": [
    "## Define a function that returns a flux (in units of maggies) given an AB magnitude"
   ]
  },
  {
   "cell_type": "code",
   "execution_count": 47,
   "metadata": {},
   "outputs": [],
   "source": [
    "def flux(mag):\n",
    "    flux = 10.**(mag/(-2.5))\n",
    "    return flux"
   ]
  },
  {
   "cell_type": "markdown",
   "metadata": {},
   "source": [
    "## Define a function that returns inverse variance (in units of magnitudes) given a magnitude and an uncertainty on that magnitude"
   ]
  },
  {
   "cell_type": "code",
   "execution_count": 48,
   "metadata": {},
   "outputs": [],
   "source": [
    "def ivar(mag, unc):\n",
    "    flux = 10.**(mag/(-2.5))\n",
    "    func = flux / 1.086 * unc\n",
    "    ivar = 1 / func**2\n",
    "    return ivar"
   ]
  },
  {
   "cell_type": "markdown",
   "metadata": {},
   "source": [
    "## read in data from a table"
   ]
  },
  {
   "cell_type": "code",
   "execution_count": 49,
   "metadata": {},
   "outputs": [
    {
     "name": "stdout",
     "output_type": "stream",
     "text": [
      "Galaxy fuv_mag fuv_unc nuv_mag nuv_unc ... w3_unc w4_mag w4_unc   z    ebv \n",
      "------ ------- ------- ------- ------- ... ------ ------ ------ ----- -----\n",
      " J0826   22.43   0.157  20.393   0.039 ...  0.156  8.534  0.271 0.603 0.037\n",
      " J0901  22.036   0.119  20.112   0.039 ...  0.205  8.716  0.352 0.459 0.057\n",
      " J0905  23.657    0.43  20.918   0.059 ...  0.166  8.854  0.305 0.712 0.031\n",
      " J0944  22.572   0.312  21.238   0.102 ...  0.142  8.488  0.286 0.514 0.026\n",
      " J1107  22.919   0.354  21.398   0.104 ...  0.081  8.254  0.205 0.467 0.076\n",
      " J1219  22.692    0.48  21.441   0.212 ...  0.081  7.809  0.136 0.451 0.021\n",
      " J1341  21.999    0.41  20.139   0.097 ...  0.086  8.153  0.149 0.658 0.037\n",
      " J1506  21.394   0.252  19.661   0.074 ...  0.058   7.68  0.076 0.608 0.016\n",
      " J1558  21.287   0.317  20.007    0.11 ...  0.039   8.61  0.152 0.402 0.014\n",
      " J1613  23.449   0.374  21.129   0.042 ...  0.034  7.299  0.072 0.449 0.041\n",
      " J2116   24.28   1.086  21.837   0.117 ...  0.266  9.594  1.086 0.728 0.147\n",
      " J2140  24.122    0.36   22.37    0.12 ...  0.202  9.029  0.455 0.752 0.143\n"
     ]
    }
   ],
   "source": [
    "table = ascii.read('umeh_table.dat')\n",
    "print(table)"
   ]
  },
  {
   "cell_type": "markdown",
   "metadata": {},
   "source": [
    "## Specify the galaxy you want"
   ]
  },
  {
   "cell_type": "code",
   "execution_count": 50,
   "metadata": {},
   "outputs": [],
   "source": [
    "galaxy = 'J0901'"
   ]
  },
  {
   "cell_type": "markdown",
   "metadata": {},
   "source": [
    "## find this galaxy in the table"
   ]
  },
  {
   "cell_type": "code",
   "execution_count": 51,
   "metadata": {},
   "outputs": [
    {
     "name": "stdout",
     "output_type": "stream",
     "text": [
      "[False  True False False False False False False False False False False]\n"
     ]
    }
   ],
   "source": [
    "match = table.field('Galaxy') == galaxy\n",
    "print(match)"
   ]
  },
  {
   "cell_type": "markdown",
   "metadata": {},
   "source": [
    "## Create a Python dictionary that includes the flux, inverse variance, and central wavelength for the following filter bandpasses: \n",
    "\n",
    "### ultraviolet: FUV and NUV from GALEX (Galaxy Evolution Explorer)\n",
    "### optical: ugriz from SDSS (Sloan Digital Sky Survey)\n",
    "### infrared: w1/w2/w2/w4 from WISE (Wide-field Infrared Survey Explorer)\n",
    "\n",
    "#### Note: the WISE magnitudes in the table are Vega magnitudes, and we are including a correction to ensure that the flux and inverse variance values are correct"
   ]
  },
  {
   "cell_type": "code",
   "execution_count": 52,
   "metadata": {},
   "outputs": [],
   "source": [
    "# create a photometry dictionary\n",
    "phot = dict(\n",
    "    FUV=(flux(table.field('fuv_mag')[match][0]), ivar(table.field('fuv_mag')[match][0], table.field('fuv_unc')[match][0]), 0.1528),\n",
    "    NUV=(flux(table.field('nuv_mag')[match][0]), ivar(table.field('nuv_mag')[match][0], table.field('nuv_unc')[match][0]), 0.2271),\n",
    "    u=(flux(table.field('u_mag')[match][0]), ivar(table.field('u_mag')[match][0], table.field('u_unc')[match][0]), 0.3543),\n",
    "    g=(flux(table.field('g_mag')[match][0]), ivar(table.field('g_mag')[match][0], table.field('u_unc')[match][0]), 0.4770),\n",
    "    r=(flux(table.field('r_mag')[match][0]), ivar(table.field('r_mag')[match][0], table.field('u_unc')[match][0]), 0.6231),\n",
    "    i=(flux(table.field('i_mag')[match][0]), ivar(table.field('i_mag')[match][0], table.field('u_unc')[match][0]), 0.7625),\n",
    "    z=(flux(table.field('z_mag')[match][0]), ivar(table.field('z_mag')[match][0], table.field('u_unc')[match][0]), 0.9134),\n",
    "    w1=(flux(table.field('w1_mag')[match][0])*306.681/3631, ivar(table.field('w1_mag')[match][0], table.field('w1_unc')[match][0])*(3631/306.681)**2, 3.368),\n",
    "    w2=(flux(table.field('w2_mag')[match][0])*170.663/3631, ivar(table.field('w2_mag')[match][0], table.field('w2_unc')[match][0])*(170.663/3631)**-2, 4.618),\n",
    "    w3=(flux(table.field('w3_mag')[match][0])*29.0448/3631, ivar(table.field('w3_mag')[match][0], table.field('w3_unc')[match][0])*(29.0448/3631)**-2, 12.082),\n",
    "    w4=(flux(table.field('w4_mag')[match][0])*8.2839/3631, ivar(table.field('w4_mag')[match][0], table.field('w4_unc')[match][0])*(8.2839/3631)**-2, 22.194))"
   ]
  },
  {
   "cell_type": "markdown",
   "metadata": {},
   "source": [
    "## use the information above to define wavelength, flux, and uncertainty arrays"
   ]
  },
  {
   "cell_type": "code",
   "execution_count": 53,
   "metadata": {},
   "outputs": [],
   "source": [
    "wave = np.array([phot[filt][2] for filt in phot.keys()])\n",
    "f_gal = np.array([phot[filt][0] for filt in phot.keys()])\n",
    "uncert = np.sqrt((np.array([phot[filt][1] for filt in phot.keys()]))**(-1))"
   ]
  },
  {
   "cell_type": "code",
   "execution_count": 56,
   "metadata": {},
   "outputs": [],
   "source": [
    "template = ascii.read('Composite1.txt')"
   ]
  },
  {
   "cell_type": "markdown",
   "metadata": {},
   "source": [
    "## Let's make a figure using matplotlib"
   ]
  },
  {
   "cell_type": "code",
   "execution_count": 62,
   "metadata": {},
   "outputs": [
    {
     "data": {
      "image/png": "[encoded data removed]",
      "text/plain": [
       "<Figure size 432x288 with 1 Axes>"
      ]
     },
     "metadata": {
      "needs_background": "light"
     },
     "output_type": "display_data"
    }
   ],
   "source": [
    "# plot wavelength on the x axis and flux on the y axis\n",
    "plt.scatter(wave, f_gal)\n",
    "\n",
    "# set parameters of the y axis\n",
    "plt.yscale('log')\n",
    "plt.ylim([1e-10,1e-4])\n",
    "plt.ylabel('Flux [maggies]')\n",
    "\n",
    "# set parameters of the x axis\n",
    "plt.xscale('log')\n",
    "plt.xlim([0.1, 1000.])\n",
    "plt.xlabel('Wavelength [microns]')\n",
    "plt.title(galaxy)\n",
    "\n",
    "#Adds vertical errorbars\n",
    "plt.errorbar(wave, f_gal, yerr=uncert, xerr=None, ls='none')\n",
    "\n",
    "factor = 3e30\n",
    "plt.plot(template['wavelength']*(1+0.7), template['luminosity']/factor)\n",
    "\n",
    "plt.show()"
   ]
  },
  {
   "cell_type": "markdown",
   "metadata": {},
   "source": [
    "## Check the percent uncertainties for each flux value\n",
    "\n",
    "### The uncerainties are usualy <5% for the optical bands (and sometimes also for NUV and W1)\n",
    "### The uncertainties can be >10% for the ultraviolet bands (especially FUV) and the infrared bands (especially W3 and W4)"
   ]
  },
  {
   "cell_type": "code",
   "execution_count": 45,
   "metadata": {},
   "outputs": [
    {
     "name": "stdout",
     "output_type": "stream",
     "text": [
      "[0.10957643 0.0359116  0.0267035  0.0267035  0.0267035  0.0267035\n",
      " 0.0267035  0.02025783 0.05893186 0.18876611 0.32412523]\n"
     ]
    }
   ],
   "source": [
    "print(uncert / f_gal)"
   ]
  }
 ],
 "metadata": {
  "kernelspec": {
   "display_name": "Python 3",
   "language": "python",
   "name": "python3"
  },
  "language_info": {
   "codemirror_mode": {
    "name": "ipython",
    "version": 3
   },
   "file_extension": ".py",
   "mimetype": "text/x-python",
   "name": "python",
   "nbconvert_exporter": "python",
   "pygments_lexer": "ipython3",
   "version": "3.7.1"
  }
 },
 "nbformat": 4,
 "nbformat_minor": 2
}
