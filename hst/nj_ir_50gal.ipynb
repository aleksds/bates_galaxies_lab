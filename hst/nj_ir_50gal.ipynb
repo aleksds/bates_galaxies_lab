{
 "cells": [
  {
   "cell_type": "markdown",
   "metadata": {},
   "source": [
    "# Based on cb_galex_sedfit.py"
   ]
  },
  {
   "cell_type": "markdown",
   "metadata": {},
   "source": [
    "### Import relevant packages\n",
    "### note: need the following --> pip install pysynphot"
   ]
  },
  {
   "cell_type": "code",
   "execution_count": 8,
   "metadata": {},
   "outputs": [],
   "source": [
    "import numpy as np\n",
    "import os\n",
    "import argparse\n",
    "import matplotlib.pyplot as plt\n",
    "from matplotlib.backends.backend_pdf import PdfPages\n",
    "from astropy.io import ascii\n",
    "from astropy.io import fits\n",
    "import pandas as pd\n",
    "import matplotlib.pyplot as plt\n",
    "import seaborn as sns\n",
    "from matplotlib.backends.backend_pdf import PdfPages\n",
    "from sedpy import observate\n",
    "import pysynphot as S\n",
    "from uncertainties import ufloat"
   ]
  },
  {
   "cell_type": "markdown",
   "metadata": {},
   "source": [
    "### List of templates, names of columns, colors"
   ]
  },
  {
   "cell_type": "code",
   "execution_count": 9,
   "metadata": {},
   "outputs": [],
   "source": [
    "templates = ['Composite1', 'Composite2', 'Composite3', 'AGN1', 'AGN2', 'AGN3', 'AGN4', 'SFG1', 'SFG2', 'SFG3',\n",
    "             'IR_COLOR1', 'IR_COLOR2', 'IR_COLOR3', 'IR_COLOR4', 'IR_COLOR5', 'IR_COLOR6', 'IR_COLOR7', 'IR_COLOR8']\n",
    "\n",
    "fits_cols = ['galaxy', 'template_name', 'filter', 'mags', 'wave_eff', 'model_phot', 'model_phot_mags']\n",
    "\n",
    "colors = {'Composite1': 'silver', 'Composite2': 'rosybrown', 'Composite3': 'darksalmon',\n",
    "        'AGN1': 'cornflowerblue', 'AGN2': 'blue', 'AGN3': 'slateblue', 'AGN4': 'paleturquoise',\n",
    "        'SFG1': 'blueviolet', 'SFG2': 'plum', 'SFG3': 'mediumorchid',\n",
    "        'IR_COLOR1': 'olive', 'IR_COLOR2': 'olivedrab', 'IR_COLOR3': 'yellowgreen', 'IR_COLOR4': 'greenyellow',\n",
    "        'IR_COLOR5': 'lawngreen', 'IR_COLOR6': 'lightgreen', 'IR_COLOR7': 'darkgreen', 'IR_COLOR8': 'aquamarine'}\n"
   ]
  },
  {
   "cell_type": "markdown",
   "metadata": {},
   "source": [
    "### Open table"
   ]
  },
  {
   "cell_type": "code",
   "execution_count": 10,
   "metadata": {},
   "outputs": [],
   "source": [
    "table = fits.open('hizea_photo_galex_wise_v1.0.fit')"
   ]
  },
  {
   "cell_type": "markdown",
   "metadata": {},
   "source": [
    "### Set up variables"
   ]
  },
  {
   "cell_type": "code",
   "execution_count": 11,
   "metadata": {},
   "outputs": [],
   "source": [
    "cols = ['fuv', 'nuv', 'u', 'g', 'r', 'i', 'z', 'w1', 'w2', 'w3', 'w4',\n",
    "        'fuv_unc', 'nuv_unc', 'u_unc', 'g_unc', 'r_unc', 'i_unc', 'z_unc', 'w1_unc', 'w2_unc', 'w3_unc', 'w4_unc', 'Z']\n",
    "filt_waves = table[1].data['PHOT_WAVE'][0].byteswap().newbyteorder()*(10**-4)\n",
    "gals_redshifts = np.array([[i] for i in table[1].data['Z']])\n",
    "np.array([[i] for i in table[1].data['Z']])\n",
    "gal_names = table[1].data['SHORT_NAME'].byteswap().newbyteorder()"
   ]
  },
  {
   "cell_type": "markdown",
   "metadata": {},
   "source": [
    "### Function to convert between f_lambda and f_nu"
   ]
  },
  {
   "cell_type": "code",
   "execution_count": 12,
   "metadata": {},
   "outputs": [],
   "source": [
    "def flam_to_fnu(flux):\n",
    "    spec = S.ArraySpectrum(table[1].data['PHOT_WAVE'][0], flux, fluxunits='Flam')\n",
    "    spec.convert('Fnu')\n",
    "    return spec.flux"
   ]
  },
  {
   "cell_type": "markdown",
   "metadata": {},
   "source": [
    "### Make a table with fluxes and errors"
   ]
  },
  {
   "cell_type": "code",
   "execution_count": 13,
   "metadata": {
    "scrolled": true
   },
   "outputs": [
    {
     "name": "stdout",
     "output_type": "stream",
     "text": [
      "Warning, 1 of 11 bins contained negative fluxes; they have been set to zero.\n"
     ]
    }
   ],
   "source": [
    "flam = table[1].data['FLUX_FLAM'].byteswap().newbyteorder()\n",
    "fnu = np.array([flam_to_fnu(flammie) for flammie in flam])\n",
    "flamu = table[1].data['FLUX_FLAM_ERR'].byteswap().newbyteorder()\n",
    "fnuu = np.array([flam_to_fnu(flammieu) for flammieu in flamu])\n",
    "flux_w_err = np.concatenate((fnu, fnuu, gals_redshifts), axis=1)\n",
    "gals_flux = pd.DataFrame(data=flux_w_err,\n",
    "                        index=gal_names,\n",
    "                        columns=cols)"
   ]
  },
  {
   "cell_type": "markdown",
   "metadata": {},
   "source": [
    "### Make a table with magnitudes and errors"
   ]
  },
  {
   "cell_type": "code",
   "execution_count": 14,
   "metadata": {},
   "outputs": [],
   "source": [
    "mags = table[1].data['AB_MAG'].byteswap().newbyteorder()\n",
    "magsu = table[1].data['AB_MAG_ERR'].byteswap().newbyteorder() #uncertanties for ab magnitudes\n",
    "mags_w_err = np.concatenate((mags, magsu, gals_redshifts), axis=1)\n",
    "gals_mag = pd.DataFrame(data=mags_w_err,\n",
    "                        index=gal_names,\n",
    "                        columns=cols)"
   ]
  },
  {
   "cell_type": "markdown",
   "metadata": {},
   "source": [
    "### Functions"
   ]
  },
  {
   "cell_type": "code",
   "execution_count": 15,
   "metadata": {},
   "outputs": [],
   "source": [
    "# ----- Read the template into a data frame. Name columns something convenient.\n",
    "def read_template(name):\n",
    "    temps_path = 'kirkpatrick/'\n",
    "    temp = pd.read_csv(temps_path+name+'.txt',\n",
    "                       names=['rest_wavelength','luminosity','DLnu'],\n",
    "                       skiprows=[0, 1, 2, 3],\n",
    "                       sep=r'\\s{1,}',\n",
    "                       engine='python')\n",
    "    return temp\n",
    "\n",
    "# ----- Function to match a target wavelength's position.\n",
    "def mask_wave(temp_wavel, target_wave):\n",
    "    return np.abs(temp_wavel-target_wave) == np.amin(np.abs(temp_wavel-target_wave))\n",
    "\n",
    "# ----- Designed to take in flux and return mags\n",
    "def mag(flux):\n",
    "    mag = -2.5*np.log10(flux)\n",
    "    return mag"
   ]
  },
  {
   "cell_type": "markdown",
   "metadata": {},
   "source": [
    "### Fit templates, return column to feed into a new table"
   ]
  },
  {
   "cell_type": "code",
   "execution_count": 16,
   "metadata": {},
   "outputs": [],
   "source": [
    "def sed_fitting(gal_name, template_name):\n",
    "    z = gals_mag.loc[gal_name, 'Z']\n",
    "    template = tempsdf[tempsdf.template_name == template_name]\n",
    "\n",
    "    # ----- Organizing wavelength and luminosity\n",
    "    z_temp_wavel = template.rest_wavelength * (1 + z)\n",
    "    gal_fluxes = gals_flux.loc[gal_name, :][:11].values\n",
    "    W3_wavelength = filt_waves[9]\n",
    "    # Figure out where the template lines up with W1\n",
    "    mask = mask_wave(z_temp_wavel, W3_wavelength)\n",
    "    # Scale template to match value at W1\n",
    "    factor = gal_fluxes[9] / float(template.luminosity[mask].values[0])\n",
    "    luminosity = template.luminosity * factor  # Scale\n",
    "\n",
    "    # ----- Readying wavelength and flux for sedpy\n",
    "    wave_aa = np.array(z_temp_wavel[0:-1]) * 1e4\n",
    "    flux = np.array(luminosity[0:-1])\n",
    "    fnu = flux * 3631. * 1e-23\n",
    "    flambda = fnu * 2.998e18 / (wave_aa) ** 2\n",
    "\n",
    "    # ----- Using sedpy to get wise band photometry based on templates\n",
    "    filternames = ['wise_w{}'.format(n) for n in ['1', '2', '3', '4']]\n",
    "    wise_filters = observate.load_filters(filternames)\n",
    "    model_mags = observate.getSED(wave_aa, flambda, filterlist=wise_filters)\n",
    "    wave_eff = [f.wave_effective for f in wise_filters]\n",
    "    model_phot = 10. ** (model_mags / (-2.5))\n",
    "\n",
    "    rows = pd.DataFrame([[gal_name, template_name, filternames[i],\n",
    "                          model_mags[i], wave_eff[i], model_phot[i],\n",
    "                          mag(model_phot[i])] for i in range(len(filternames))],\n",
    "                        columns=fits_cols)\n",
    "    return rows"
   ]
  },
  {
   "cell_type": "markdown",
   "metadata": {},
   "source": [
    "### Plots templates for comparison and calculates lowest chi"
   ]
  },
  {
   "cell_type": "code",
   "execution_count": 17,
   "metadata": {},
   "outputs": [],
   "source": [
    "def template_comparison(gal_name, template_name):\n",
    "    z = gals_mag.loc[gal_name, 'Z']\n",
    "    template = tempsdf[tempsdf.template_name == template_name].reset_index(drop=True)[['rest_wavelength', 'luminosity']]\n",
    "    z_temp_wavel = template.rest_wavelength * (1 + z)\n",
    "    gal_fluxes = gals_flux.loc[gal_name, :][:11].values\n",
    "    W3_wavelength = filt_waves[9]\n",
    "    # Figure out where the template lines up with W1\n",
    "    mask = mask_wave(z_temp_wavel, W3_wavelength)\n",
    "    # Scale template to match value at W1\n",
    "    factor = gal_fluxes[9]/float(template.luminosity[mask].values[0])\n",
    "    luminosity = template.luminosity*factor # Scale\n",
    "    model_phot = sed_fits[(sed_fits.galaxy == gal_name) & (sed_fits.template_name == template_name)].model_phot.array\n",
    "\n",
    "    gal_unc = gals_flux.iloc[:,11:-1].loc[gal_name].values\n",
    "    chi = np.sum(np.array([((gal_fluxes[i + 8] - model_phot[i + 1]) / gal_unc[i + 8]) ** 2 for i in range(3)])) / 3\n",
    "\n",
    "    # Plot\n",
    "    plot = True\n",
    "\n",
    "    if plot:\n",
    "        plot_color = colors[template_name]\n",
    "        title = gal_name + '-' + template_name\n",
    "\n",
    "        g = sns.lineplot(x=z_temp_wavel, y=luminosity, color=plot_color, label=template_name, alpha=0.6, ax=ax)\n",
    "        h = sns.scatterplot(x=filt_waves, y=gal_fluxes, ax=ax, color='blue')\n",
    "        # ax.scatter(x=np.array(wave_eff)/1e4, y=model_phot, color='red', s=11)\n",
    "        ax.errorbar(filt_waves, gal_fluxes, yerr=gal_unc, color='blue', ls='none')\n",
    "        ax.set_ylim([1e-14, 1e-7])\n",
    "        ax.set_xlim([0.1, 1000.])\n",
    "        ax.loglog()\n",
    "        ax.legend()\n",
    "        ax.set_title(title)\n",
    "        plt.ioff()\n",
    "        # plt.savefig(title+'.png')\n",
    "        # plt.clf()\n",
    "        # plt.close()\n",
    "\n",
    "    return (chi)"
   ]
  },
  {
   "cell_type": "markdown",
   "metadata": {},
   "source": [
    "### Make general plots showing all galaxies (different colors and different filters)"
   ]
  },
  {
   "cell_type": "code",
   "execution_count": 18,
   "metadata": {},
   "outputs": [],
   "source": [
    "def general_color_plots():\n",
    "    # Different filters\n",
    "    fig = plt.figure(figsize=(17, 10))\n",
    "    ax = fig.add_subplot(1,1,1)\n",
    "    w2 = sed_fits[sed_fits['filter'] == 'wise_w2'].model_phot_mags.array\n",
    "    w3 = sed_fits[sed_fits['filter'] == 'wise_w3'].model_phot_mags.array\n",
    "    w4 = sed_fits[sed_fits['filter'] == 'wise_w4'].model_phot_mags.array\n",
    "    sns.scatterplot(x=w3 - w4,\n",
    "                    y=w2 - w3,\n",
    "                    data=sed_fits.iloc[::4, :].reset_index(), hue='template_name', ax=ax)\n",
    "    ax.set_ylabel('W3-W4')\n",
    "    ax.set_xlabel('W2-W3')\n",
    "    ax.set_title('Color vs color - filters')\n",
    "    plt.savefig('galex_color_byfilt.png')\n",
    "    plt.close('all')\n",
    "    # Different galaxies\n",
    "    fig = plt.figure(figsize=(17, 10))\n",
    "    ax = fig.add_subplot(1,1,1)\n",
    "    w2 = sed_fits[sed_fits['filter'] == 'wise_w2'].model_phot.array\n",
    "    w3 = sed_fits[sed_fits['filter'] == 'wise_w3'].model_phot.array\n",
    "    w4 = sed_fits[sed_fits['filter'] == 'wise_w4'].model_phot.array\n",
    "    sns.scatterplot(x=mag(w3) - mag(w4),\n",
    "                    y=mag(w2) - mag(w3),\n",
    "                    data=sed_fits.iloc[::4, :].reset_index(), hue='galaxy', palette='Paired')\n",
    "    ax.set_ylabel('W3-W4')\n",
    "    ax.set_xlabel('W2-W3')\n",
    "    ax.set_title('Color vs color - galaxies')\n",
    "    plt.savefig('galex_color_bygal.png')\n",
    "    plt.close('all')\n"
   ]
  },
  {
   "cell_type": "markdown",
   "metadata": {},
   "source": [
    "### Making color vs color plots for individual galaxies"
   ]
  },
  {
   "cell_type": "code",
   "execution_count": 40,
   "metadata": {},
   "outputs": [],
   "source": [
    "def color_plots():\n",
    "    print(' ---------> Making color plots showing different filters...')\n",
    "    with PdfPages('galex_sed_fitting_colorplots.pdf') as pdf:\n",
    "        for galaxy in gal_names:\n",
    "            print(\"---Making color plot: \", galaxy)\n",
    "            fig = plt.figure(figsize=(17, 10))\n",
    "            ax = fig.add_subplot(1,1,1)\n",
    "            sedf_g = sed_fits.copy()[sed_fits.galaxy == galaxy].reset_index(drop=True)\n",
    "\n",
    "            w2 = sedf_g[sedf_g['filter'] == 'wise_w2'].model_phot_mags.array\n",
    "            w3 = sedf_g[sedf_g['filter'] == 'wise_w3'].model_phot_mags.array\n",
    "            w4 = sedf_g[sedf_g['filter'] == 'wise_w4'].model_phot_mags.array\n",
    "            w2_gal = gals_mag['w2'][galaxy]\n",
    "            w3_gal = gals_mag['w3'][galaxy]\n",
    "            w4_gal = gals_mag['w4'][galaxy]\n",
    "            \n",
    "            w2_unc = ufloat(gals_mag['w2'][galaxy], gals_mag['w2_unc'][galaxy])\n",
    "            w3_unc = ufloat(gals_mag['w3'][galaxy], gals_mag['w3_unc'][galaxy])\n",
    "            w4_unc = ufloat(gals_mag['w4'][galaxy], gals_mag['w4_unc'][galaxy])\n",
    "            \n",
    "            sns.scatterplot(x=w3 - w4, y=w2 - w3,\n",
    "                            data=sedf_g[sedf_g['filter'] == 'wise_w2'], hue='template_name', ax=ax)\n",
    "\n",
    "            ax.plot(w3_gal - w4_gal, w2_gal - w3_gal, marker='*', markersize=14, label=galaxy)\n",
    "            ax.errorbar((w3_unc-w4_unc).n, (w2_unc-w3_unc).n,xerr= (w3_unc-w4_unc).s, yerr=(w2_unc-w3_unc).s, color='blue', ls='none')\n",
    "            ax.set_title(galaxy)\n",
    "            ax.set_ylabel('W2-W3')\n",
    "            ax.set_xlabel('W3-W4')\n",
    "            pdf.savefig(bbox_inches=\"tight\")\n",
    "            plt.close('all')\n",
    "        print('-----Finished color plots pdf')"
   ]
  },
  {
   "cell_type": "markdown",
   "metadata": {},
   "source": [
    "### Making a table with the templates"
   ]
  },
  {
   "cell_type": "code",
   "execution_count": 41,
   "metadata": {},
   "outputs": [
    {
     "name": "stdout",
     "output_type": "stream",
     "text": [
      "Reading templates into data frame...\n",
      "Templates read.\n"
     ]
    }
   ],
   "source": [
    "print('Reading templates into data frame...')\n",
    "tempsdf = pd.DataFrame([],columns=['rest_wavelength','luminosity','DLnu'])\n",
    "for temp_name in templates:\n",
    "    newdf = read_template(temp_name)\n",
    "    newdf['template_name'] = [temp_name for i in range(newdf.shape[0])]\n",
    "    tempsdf = tempsdf.append(newdf)\n",
    "print('Templates read.')"
   ]
  },
  {
   "cell_type": "markdown",
   "metadata": {},
   "source": [
    "### Generating fits for galaxies"
   ]
  },
  {
   "cell_type": "code",
   "execution_count": 42,
   "metadata": {},
   "outputs": [
    {
     "name": "stdout",
     "output_type": "stream",
     "text": [
      " ---------> Fitting templates to data...\n",
      "---Fitting  J0106-1023\n",
      "---Fitting  J0315-0740\n",
      "---Fitting  J0811+4716\n",
      "---Fitting  J0824+5032\n",
      "---Fitting  J0826+4305\n",
      "---Fitting  J0827+2954\n",
      "---Fitting  J0901+0314\n",
      "---Fitting  J0905+5759\n",
      "---Fitting  J0908+1039\n",
      "---Fitting  J0933+5614\n",
      "---Fitting  J0939+4251\n",
      "---Fitting  J0944+0930\n",
      "---Fitting  J1036-0102\n",
      "---Fitting  J1039+4537\n",
      "---Fitting  J1052+0607\n",
      "---Fitting  J1052+4104\n",
      "---Fitting  J1104+5946\n",
      "---Fitting  J1107+0417\n",
      "---Fitting  J1125-0145\n",
      "---Fitting  J1133+0956\n",
      "---Fitting  J1142+6037\n",
      "---Fitting  J1205+1818\n",
      "---Fitting  J1219+0336\n",
      "---Fitting  J1229+3545\n",
      "---Fitting  J1232+0723\n",
      "---Fitting  J1235+6140\n",
      "---Fitting  J1239+0731\n",
      "---Fitting  J1244+4140\n",
      "---Fitting  J1248+0601\n",
      "---Fitting  J1341-0321\n",
      "---Fitting  J1359+5137\n",
      "---Fitting  J1450+4621\n",
      "---Fitting  J1500+1739\n",
      "---Fitting  J1506+6131\n",
      "---Fitting  J1506+5402\n",
      "---Fitting  J1516+1650\n",
      "---Fitting  J1558+3957\n",
      "---Fitting  J1604+3939\n",
      "---Fitting  J1611+2650\n",
      "---Fitting  J1613+2834\n",
      "---Fitting  J1622+3145\n",
      "---Fitting  J1634+4619\n",
      "---Fitting  J1635+4709\n",
      "---Fitting  J1658+2354\n",
      "---Fitting  J1713+2817\n",
      "---Fitting  J2116-0634\n",
      "---Fitting  J2118+0017\n",
      "---Fitting  J2140+1209\n",
      "---Fitting  J2256+1504\n",
      "---Fitting  J2311-0839\n",
      "---Finished fitting templates to data.\n",
      "\n"
     ]
    }
   ],
   "source": [
    "sed_fits = pd.DataFrame([], columns=fits_cols)\n",
    "print(' ---------> Fitting templates to data...')\n",
    "for gal in gal_names:\n",
    "    print(\"---Fitting \", gal)\n",
    "    for tem in templates:\n",
    "        sed_fits = sed_fits.append(sed_fitting(gal, tem))\n",
    "print('---Finished fitting templates to data.\\n')\n",
    "sed_fits.reset_index(inplace=True, drop=True)"
   ]
  },
  {
   "cell_type": "markdown",
   "metadata": {},
   "source": [
    "### Make color vs color plots"
   ]
  },
  {
   "cell_type": "code",
   "execution_count": 43,
   "metadata": {},
   "outputs": [
    {
     "name": "stdout",
     "output_type": "stream",
     "text": [
      " ---------> Making color plots showing different filters...\n",
      "---Making color plot:  J0106-1023\n",
      "---Making color plot:  J0315-0740\n",
      "---Making color plot:  J0811+4716\n",
      "---Making color plot:  J0824+5032\n",
      "---Making color plot:  J0826+4305\n",
      "---Making color plot:  J0827+2954\n",
      "---Making color plot:  J0901+0314\n",
      "---Making color plot:  J0905+5759\n",
      "---Making color plot:  J0908+1039\n",
      "---Making color plot:  J0933+5614\n",
      "---Making color plot:  J0939+4251\n",
      "---Making color plot:  J0944+0930\n",
      "---Making color plot:  J1036-0102\n",
      "---Making color plot:  J1039+4537\n",
      "---Making color plot:  J1052+0607\n",
      "---Making color plot:  J1052+4104\n",
      "---Making color plot:  J1104+5946\n",
      "---Making color plot:  J1107+0417\n",
      "---Making color plot:  J1125-0145\n",
      "---Making color plot:  J1133+0956\n",
      "---Making color plot:  J1142+6037\n",
      "---Making color plot:  J1205+1818\n",
      "---Making color plot:  J1219+0336\n",
      "---Making color plot:  J1229+3545\n",
      "---Making color plot:  J1232+0723\n",
      "---Making color plot:  J1235+6140\n",
      "---Making color plot:  J1239+0731\n",
      "---Making color plot:  J1244+4140\n",
      "---Making color plot:  J1248+0601\n",
      "---Making color plot:  J1341-0321\n",
      "---Making color plot:  J1359+5137\n",
      "---Making color plot:  J1450+4621\n",
      "---Making color plot:  J1500+1739\n",
      "---Making color plot:  J1506+6131\n",
      "---Making color plot:  J1506+5402\n",
      "---Making color plot:  J1516+1650\n",
      "---Making color plot:  J1558+3957\n",
      "---Making color plot:  J1604+3939\n",
      "---Making color plot:  J1611+2650\n",
      "---Making color plot:  J1613+2834\n",
      "---Making color plot:  J1622+3145\n",
      "---Making color plot:  J1634+4619\n",
      "---Making color plot:  J1635+4709\n",
      "---Making color plot:  J1658+2354\n",
      "---Making color plot:  J1713+2817\n",
      "---Making color plot:  J2116-0634\n",
      "---Making color plot:  J2118+0017\n",
      "---Making color plot:  J2140+1209\n",
      "---Making color plot:  J2256+1504\n",
      "---Making color plot:  J2311-0839\n",
      "-----Finished color plots pdf\n",
      "-----Generated galex_sed_fitting_colorplots.pdf with color vs color plots.\n"
     ]
    }
   ],
   "source": [
    "color_plots()\n",
    "print('-----Generated galex_sed_fitting_colorplots.pdf with color vs color plots.')"
   ]
  },
  {
   "cell_type": "code",
   "execution_count": 44,
   "metadata": {},
   "outputs": [
    {
     "name": "stdout",
     "output_type": "stream",
     "text": [
      "----Generated galex_color_byfilt.png and galex_color_bygal.png showing color vs color for all gals.\n"
     ]
    }
   ],
   "source": [
    "general_color_plots()\n",
    "print('----Generated galex_color_byfilt.png and galex_color_bygal.png showing color vs color for all gals.')"
   ]
  },
  {
   "cell_type": "markdown",
   "metadata": {},
   "source": [
    "### Produce a PDF file showing template fits"
   ]
  },
  {
   "cell_type": "code",
   "execution_count": 45,
   "metadata": {},
   "outputs": [
    {
     "name": "stdout",
     "output_type": "stream",
     "text": [
      "\n",
      " ---------> Plotting templates and calculating chi values...\n",
      "\n",
      "---Fitting  J0106-1023\n",
      "Galaxy - J0106-1023 - lowest chi tempalte: AGN2\n",
      "---Fitting  J0315-0740\n",
      "Galaxy - J0315-0740 - lowest chi tempalte: AGN3\n",
      "---Fitting  J0811+4716\n",
      "Galaxy - J0811+4716 - lowest chi tempalte: IR_COLOR6\n",
      "---Fitting  J0824+5032\n",
      "Galaxy - J0824+5032 - lowest chi tempalte: Composite1\n",
      "---Fitting  J0826+4305\n",
      "Galaxy - J0826+4305 - lowest chi tempalte: AGN4\n",
      "---Fitting  J0827+2954\n",
      "Galaxy - J0827+2954 - lowest chi tempalte: IR_COLOR3\n",
      "---Fitting  J0901+0314\n",
      "Galaxy - J0901+0314 - lowest chi tempalte: IR_COLOR6\n",
      "---Fitting  J0905+5759\n",
      "Galaxy - J0905+5759 - lowest chi tempalte: SFG2\n",
      "---Fitting  J0908+1039\n",
      "Galaxy - J0908+1039 - lowest chi tempalte: AGN3\n",
      "---Fitting  J0933+5614\n",
      "Galaxy - J0933+5614 - lowest chi tempalte: AGN3\n",
      "---Fitting  J0939+4251\n",
      "Galaxy - J0939+4251 - lowest chi tempalte: AGN3\n",
      "---Fitting  J0944+0930\n",
      "Galaxy - J0944+0930 - lowest chi tempalte: AGN4\n",
      "---Fitting  J1036-0102\n",
      "Galaxy - J1036-0102 - lowest chi tempalte: AGN3\n",
      "---Fitting  J1039+4537\n",
      "Galaxy - J1039+4537 - lowest chi tempalte: Composite1\n",
      "---Fitting  J1052+0607\n",
      "Galaxy - J1052+0607 - lowest chi tempalte: AGN3\n",
      "---Fitting  J1052+4104\n"
     ]
    },
    {
     "name": "stderr",
     "output_type": "stream",
     "text": [
      "/home/idies/miniconda3/lib/python3.6/site-packages/matplotlib/axes/_axes.py:3192: RuntimeWarning: invalid value encountered in double_scalars\n",
      "  high = [thisx + thiserr for thisx, thiserr\n"
     ]
    },
    {
     "name": "stdout",
     "output_type": "stream",
     "text": [
      "Galaxy - J1052+4104 - lowest chi tempalte: Composite1\n",
      "---Fitting  J1104+5946\n",
      "Galaxy - J1104+5946 - lowest chi tempalte: AGN3\n",
      "---Fitting  J1107+0417\n",
      "Galaxy - J1107+0417 - lowest chi tempalte: IR_COLOR5\n",
      "---Fitting  J1125-0145\n",
      "Galaxy - J1125-0145 - lowest chi tempalte: AGN3\n",
      "---Fitting  J1133+0956\n",
      "Galaxy - J1133+0956 - lowest chi tempalte: AGN3\n",
      "---Fitting  J1142+6037\n",
      "Galaxy - J1142+6037 - lowest chi tempalte: AGN3\n",
      "---Fitting  J1205+1818\n",
      "Galaxy - J1205+1818 - lowest chi tempalte: IR_COLOR5\n",
      "---Fitting  J1219+0336\n",
      "Galaxy - J1229+3545 - lowest chi tempalte: AGN1\n",
      "---Fitting  J1232+0723\n",
      "Galaxy - J1232+0723 - lowest chi tempalte: Composite1\n",
      "---Fitting  J1235+6140\n",
      "Galaxy - J1235+6140 - lowest chi tempalte: AGN1\n",
      "---Fitting  J1239+0731\n",
      "Galaxy - J1239+0731 - lowest chi tempalte: AGN3\n",
      "---Fitting  J1244+4140\n",
      "Galaxy - J1244+4140 - lowest chi tempalte: IR_COLOR8\n",
      "---Fitting  J1248+0601\n",
      "Galaxy - J1248+0601 - lowest chi tempalte: IR_COLOR3\n",
      "---Fitting  J1341-0321\n",
      "Galaxy - J1341-0321 - lowest chi tempalte: Composite3\n",
      "---Fitting  J1359+5137\n",
      "Galaxy - J1359+5137 - lowest chi tempalte: AGN3\n",
      "---Fitting  J1450+4621\n",
      "Galaxy - J1450+4621 - lowest chi tempalte: Composite1\n",
      "---Fitting  J1500+1739\n",
      "Galaxy - J1500+1739 - lowest chi tempalte: AGN2\n",
      "---Fitting  J1506+6131\n",
      "Galaxy - J1506+6131 - lowest chi tempalte: AGN1\n",
      "---Fitting  J1506+5402\n",
      "Galaxy - J1506+5402 - lowest chi tempalte: AGN4\n",
      "---Fitting  J1516+1650\n",
      "Galaxy - J1516+1650 - lowest chi tempalte: AGN1\n",
      "---Fitting  J1558+3957\n",
      "Galaxy - J1558+3957 - lowest chi tempalte: Composite2\n",
      "---Fitting  J1604+3939\n",
      "Galaxy - J1604+3939 - lowest chi tempalte: Composite1\n",
      "---Fitting  J1611+2650\n",
      "Galaxy - J1611+2650 - lowest chi tempalte: AGN3\n",
      "---Fitting  J1613+2834\n",
      "Galaxy - J1613+2834 - lowest chi tempalte: IR_COLOR5\n",
      "---Fitting  J1622+3145\n",
      "Galaxy - J1622+3145 - lowest chi tempalte: AGN4\n",
      "---Fitting  J1634+4619\n",
      "Galaxy - J1634+4619 - lowest chi tempalte: Composite1\n",
      "---Fitting  J1635+4709\n",
      "Galaxy - J1635+4709 - lowest chi tempalte: IR_COLOR3\n",
      "---Fitting  J1658+2354\n",
      "Galaxy - J1658+2354 - lowest chi tempalte: AGN3\n",
      "---Fitting  J1713+2817\n",
      "Galaxy - J1713+2817 - lowest chi tempalte: AGN3\n",
      "---Fitting  J2116-0634\n",
      "Galaxy - J2116-0634 - lowest chi tempalte: Composite1\n",
      "---Fitting  J2118+0017\n",
      "Galaxy - J2118+0017 - lowest chi tempalte: IR_COLOR8\n",
      "---Fitting  J2140+1209\n",
      "Galaxy - J2140+1209 - lowest chi tempalte: AGN3\n",
      "---Fitting  J2256+1504\n",
      "Galaxy - J2256+1504 - lowest chi tempalte: IR_COLOR3\n",
      "---Fitting  J2311-0839\n",
      "Galaxy - J2311-0839 - lowest chi tempalte: IR_COLOR3\n",
      "Finished!\n"
     ]
    }
   ],
   "source": [
    "# this takes some time to run (about a minute per galaxy?)\n",
    "with PdfPages('galexsed_fitting.pdf') as pdf:\n",
    "    print('\\n ---------> Plotting templates and calculating chi values...\\n')\n",
    "    for gal in gal_names:\n",
    "        fig = plt.figure(figsize=(17,10))\n",
    "        ax = fig.add_subplot(1,1,1)\n",
    "        print(\"---Fitting \", gal)\n",
    "        chis = []\n",
    "        for tem in templates:\n",
    "            new_chi = template_comparison(gal, tem)\n",
    "            chis.append(new_chi)\n",
    "        bestchi_pos = chis.index(min(chis))\n",
    "        result_string = \"Galaxy - \" + gal + \" - lowest chi tempalte: \" + str(templates[bestchi_pos])\n",
    "        print(result_string)\n",
    "        plt.text(10, 10**-6.5, result_string, ha='center')\n",
    "        pdf.savefig(bbox_inches=\"tight\")\n",
    "        plt.close('all')\n",
    "    print('Finished!')"
   ]
  },
  {
   "cell_type": "code",
   "execution_count": null,
   "metadata": {},
   "outputs": [],
   "source": []
  },
  {
   "cell_type": "code",
   "execution_count": null,
   "metadata": {},
   "outputs": [],
   "source": []
  }
 ],
 "metadata": {
  "kernelspec": {
   "display_name": "Python 3",
   "language": "python",
   "name": "python3"
  },
  "language_info": {
   "codemirror_mode": {
    "name": "ipython",
    "version": 3
   },
   "file_extension": ".py",
   "mimetype": "text/x-python",
   "name": "python",
   "nbconvert_exporter": "python",
   "pygments_lexer": "ipython3",
   "version": "3.6.6"
  }
 },
 "nbformat": 4,
 "nbformat_minor": 2
}
