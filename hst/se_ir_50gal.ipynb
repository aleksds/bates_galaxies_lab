{
 "cells": [
  {
   "cell_type": "markdown",
   "metadata": {},
   "source": [
    "### Import relevant packages\n"
   ]
  },
  {
   "cell_type": "code",
   "execution_count": 1,
   "metadata": {},
   "outputs": [
    {
     "name": "stderr",
     "output_type": "stream",
     "text": [
      "/home/idies/miniconda3/lib/python3.7/site-packages/pysynphot/locations.py:47: UserWarning: PYSYN_CDBS is undefined; functionality will be SEVERELY crippled.\n",
      "  warnings.warn(\"PYSYN_CDBS is undefined; functionality will be SEVERELY \"\n",
      "/home/idies/miniconda3/lib/python3.7/site-packages/pysynphot/locations.py:346: UserWarning: Extinction files not found in extinction\n",
      "  warnings.warn('Extinction files not found in %s' % (extdir, ))\n"
     ]
    }
   ],
   "source": [
    "import numpy as np\n",
    "import os\n",
    "import argparse\n",
    "import matplotlib.pyplot as plt\n",
    "from matplotlib.backends.backend_pdf import PdfPages\n",
    "from astropy.io import ascii\n",
    "from astropy.io import fits\n",
    "from astropy.table import Table\n",
    "import pandas as pd\n",
    "import matplotlib.pyplot as plt\n",
    "import seaborn as sns\n",
    "from matplotlib.backends.backend_pdf import PdfPages\n",
    "from sedpy import observate\n",
    "import pysynphot as S\n",
    "from uncertainties import ufloat\n",
    "from numpy import math\n"
   ]
  },
  {
   "cell_type": "markdown",
   "metadata": {},
   "source": [
    "### Expand Pandas data tables to show all values"
   ]
  },
  {
   "cell_type": "code",
   "execution_count": 2,
   "metadata": {},
   "outputs": [],
   "source": [
    "pd.set_option('display.max_rows', 500)\n",
    "pd.set_option('display.max_columns', 500)\n",
    "pd.set_option('display.width', 1000)\n",
    "\n",
    "# Can be commented out or run as necessary"
   ]
  },
  {
   "cell_type": "markdown",
   "metadata": {},
   "source": [
    "## Define functions"
   ]
  },
  {
   "cell_type": "code",
   "execution_count": 3,
   "metadata": {},
   "outputs": [],
   "source": [
    "# ----- Read the template into a data frame. Name columns something convenient.\n",
    "def read_template(name):\n",
    "    temps_path = 'kirkpatrick/'\n",
    "    temp = pd.read_csv(temps_path + name + '.txt',\n",
    "                       names=['rest_wavelength','luminosity','DLnu'],\n",
    "                       skiprows = [0, 1, 2, 3],\n",
    "                       sep = r'\\s{1,}',\n",
    "                       engine ='python')\n",
    "    return temp\n",
    "\n",
    "# ----- Function to match a target wavelength's position.\n",
    "def mask_wave(temp_wavel, target_wave):\n",
    "    return np.abs(temp_wavel-target_wave) == np.amin(np.abs(temp_wavel-target_wave))\n",
    "\n",
    "# ----- Designed to take in flux and return mags\n",
    "def mag(flux):\n",
    "    mag = -2.5*np.log10(flux)\n",
    "    return mag"
   ]
  },
  {
   "cell_type": "markdown",
   "metadata": {},
   "source": [
    "### List of templates, names of columns, colors"
   ]
  },
  {
   "cell_type": "code",
   "execution_count": 4,
   "metadata": {},
   "outputs": [],
   "source": [
    "templates = ['Composite1', 'Composite2', 'Composite3','Composite4' ,'AGN1', 'AGN2', 'AGN3', 'AGN4', 'SFG1', 'SFG2', 'SFG3',\n",
    "             'IR_COLOR1', 'IR_COLOR2', 'IR_COLOR3', 'IR_COLOR4', 'IR_COLOR5', 'IR_COLOR6', 'IR_COLOR7', 'IR_COLOR8']\n",
    "\n",
    "# This is a combination of the Libraries for High Z Dusty Galaxies and AGN\n",
    "# It uses all templates from the Color-Based Library and all templates from Comprehensive Library\n",
    "\n",
    "\n",
    "\n",
    "fits_cols = ['galaxy', 'template_name', 'filter', 'mags', 'wave_eff', 'model_phot', 'model_phot_mags','diff','chi']\n",
    "\n",
    "colors = {'Composite1': 'silver', 'Composite2': 'rosybrown', 'Composite3': 'darksalmon','Composite4':'deeppink',\n",
    "        'AGN1': 'cornflowerblue', 'AGN2': 'blue', 'AGN3': 'slateblue', 'AGN4': 'paleturquoise',\n",
    "        'SFG1': 'blueviolet', 'SFG2': 'plum', 'SFG3': 'mediumorchid',\n",
    "        'IR_COLOR1': 'olive', 'IR_COLOR2': 'olivedrab', 'IR_COLOR3': 'yellowgreen', 'IR_COLOR4': 'greenyellow',\n",
    "        'IR_COLOR5': 'lawngreen', 'IR_COLOR6': 'lightgreen', 'IR_COLOR7': 'darkgreen', 'IR_COLOR8': 'aquamarine'}\n"
   ]
  },
  {
   "cell_type": "markdown",
   "metadata": {},
   "source": [
    "### Open table"
   ]
  },
  {
   "cell_type": "code",
   "execution_count": 5,
   "metadata": {},
   "outputs": [],
   "source": [
    "table = fits.open('hizea_photo_galex_wise_v1.0.fit')"
   ]
  },
  {
   "cell_type": "code",
   "execution_count": null,
   "metadata": {},
   "outputs": [],
   "source": [
    "#table[1].data"
   ]
  },
  {
   "cell_type": "markdown",
   "metadata": {},
   "source": [
    "### Set up variables"
   ]
  },
  {
   "cell_type": "code",
   "execution_count": 6,
   "metadata": {},
   "outputs": [],
   "source": [
    "cols = ['fuv', 'nuv', 'u', 'g', 'r', 'i', 'z', 'w1', 'w2', 'w3', 'w4',\n",
    "        'fuv_unc', 'nuv_unc', 'u_unc', 'g_unc', 'r_unc', 'i_unc', 'z_unc', 'w1_unc', 'w2_unc', 'w3_unc', 'w4_unc', 'Z']\n",
    "filt_waves = table[1].data['PHOT_WAVE'][0].byteswap().newbyteorder()*(10**-4)\n",
    "\n",
    "# PHOT_WAVE finds central wavelength of each photometric data point given in angstroms\n",
    "\n",
    "gals_redshifts = np.array([[i] for i in table[1].data['Z']])\n",
    "np.array([[i] for i in table[1].data['Z']])# What does this line actually do?\n",
    "gal_names = table[1].data['SHORT_NAME'].byteswap().newbyteorder()\n",
    "\n",
    "#filt_waves"
   ]
  },
  {
   "cell_type": "markdown",
   "metadata": {},
   "source": [
    "### Function to convert between f_lambda and f_nu"
   ]
  },
  {
   "cell_type": "code",
   "execution_count": 7,
   "metadata": {},
   "outputs": [],
   "source": [
    "def flam_to_fnu(flux):\n",
    "    spec = S.ArraySpectrum(table[1].data['PHOT_WAVE'][0], flux, fluxunits='Flam')\n",
    "    spec.convert('Fnu')\n",
    "    return spec.flux"
   ]
  },
  {
   "cell_type": "markdown",
   "metadata": {},
   "source": [
    "### Make a table with fluxes and errors"
   ]
  },
  {
   "cell_type": "code",
   "execution_count": 8,
   "metadata": {
    "scrolled": false
   },
   "outputs": [
    {
     "name": "stdout",
     "output_type": "stream",
     "text": [
      "Warning, 1 of 11 bins contained negative fluxes; they have been set to zero.\n"
     ]
    }
   ],
   "source": [
    "flam = table[1].data['FLUX_FLAM'].byteswap().newbyteorder()\n",
    "fnu = np.array([flam_to_fnu(flammie) for flammie in flam])\n",
    "flamu = table[1].data['FLUX_FLAM_ERR'].byteswap().newbyteorder()\n",
    "fnuu = np.array([flam_to_fnu(flammieu) for flammieu in flamu])\n",
    "flux_w_err = np.concatenate((fnu, fnuu, gals_redshifts), axis=1) # Creates an array of fluxes and errors from smaller arrays\n",
    "gals_flux = pd.DataFrame(data=flux_w_err,# Creates pandas data frame from array\n",
    "                        index=gal_names,\n",
    "                        columns=cols)\n",
    "\n",
    "\n",
    "#gals_flux\n",
    "\n"
   ]
  },
  {
   "cell_type": "markdown",
   "metadata": {},
   "source": [
    "## Read in and calculate substitute values for galaxies"
   ]
  },
  {
   "cell_type": "markdown",
   "metadata": {},
   "source": [
    "### Function for Flux"
   ]
  },
  {
   "cell_type": "code",
   "execution_count": 9,
   "metadata": {},
   "outputs": [],
   "source": [
    "def deg2HMS(ra='', dec='', round=False):#http://www.bdnyc.org/2012/10/decimal-deg-to-hms/\n",
    "  RA, DEC, rs, ds = '', '', '', ''\n",
    "  if dec:\n",
    "    if str(dec)[0] == '-':\n",
    "      ds, dec = '-', abs(dec)\n",
    "    deg = int(dec)\n",
    "    decM = abs(int((dec-deg)*60))\n",
    "    if round:\n",
    "      decS = int((abs((dec-deg)*60)-decM)*60)\n",
    "    else:\n",
    "      decS = (abs((dec-deg)*60)-decM)*60\n",
    "    DEC = '{0}{1} {2} {3}'.format(ds, deg, decM, decS)\n",
    "  \n",
    "  if ra:\n",
    "    if str(ra)[0] == '-':\n",
    "      rs, ra = '-', abs(ra)\n",
    "    raH = int(ra/15)\n",
    "    raM = int(((ra/15)-raH)*60)\n",
    "    if round:\n",
    "      raS = int(((((ra/15)-raH)*60)-raM)*60)\n",
    "    else:\n",
    "      raS = ((((ra/15)-raH)*60)-raM)*60\n",
    "    RA = '{0}{1} {2} {3}'.format(rs, raH, raM, raS)\n",
    "  \n",
    "  if ra and dec:\n",
    "    return (RA, DEC)\n",
    "  else:\n",
    "    return RA or DEC\n",
    "\n"
   ]
  },
  {
   "cell_type": "markdown",
   "metadata": {},
   "source": [
    "### Calculate replacement Values"
   ]
  },
  {
   "cell_type": "code",
   "execution_count": 10,
   "metadata": {},
   "outputs": [],
   "source": [
    "def w4_new(replace, galaxy):\n",
    "        w4_nanomaggies = replace[1].data['w4_nanomaggies'][0]\n",
    "        w4_nanomaggies_ivar = replace[1].data['w4_nanomaggies_ivar'][0]\n",
    "        w4_unc = 1. / np.sqrt(w4_nanomaggies_ivar)\n",
    "        w4_snr = w4_nanomaggies / w4_unc\n",
    "        \n",
    "        #making new numbers\n",
    "        w4_upper_1sigma = w4_unc\n",
    "        w4_mag_upper_1sigma = -2.5*np.log10(w4_upper_1sigma*1e-9) #W4 unc as an upper limit on the flux\n",
    "        w4_mag_perhaps = -2.5*np.log10(np.abs(w4_nanomaggies)*1e-9) #treat the negative value as the flux\n",
    "        w4_err = w4_mag_perhaps - w4_mag_upper_1sigma # difference between upper limit and \"value\n",
    "        \n",
    "        #gals_flux.at[galaxy_file,'w4']= w4_mag_perhaps\n",
    "       # gals_flux.at[galaxy_file,'w4_unc']= w4_err\n",
    "        \n",
    "        \n",
    "        return w4_mag_perhaps, w4_err;\n",
    "        "
   ]
  },
  {
   "cell_type": "markdown",
   "metadata": {},
   "source": [
    "### Find and replace values for NaN Galaxies"
   ]
  },
  {
   "cell_type": "code",
   "execution_count": 11,
   "metadata": {},
   "outputs": [],
   "source": [
    "\n",
    "def replace_galaxies(gals_flux):\n",
    "\n",
    "    for galaxy in gal_names:\n",
    "    \n",
    "       if np.isnan(gals_flux.at[galaxy,'w4']) == True:\n",
    "         \n",
    "        print(\"---- Replacing galaxy\" + galaxy)\n",
    "        # Assign file name and open file using SDSS-version DR13 \n",
    "        galaxy_file = galaxy + \"sdsswise.fits\"\n",
    "        replace = fits.open(galaxy_file)\n",
    "        \n",
    "        #Create table from data\n",
    "        replace[1].data\n",
    "        \n",
    "        #Find w4 and w4_unc data from file\n",
    "        \n",
    "        new_w4, new_w4_unc = w4_new(replace,galaxy)\n",
    "        \n",
    "       # new_w4 = galaxy_file.data['w4_mag'][0](# These are placeholder values, not the actual replacement data for certain\n",
    "       #new_w4_unc = w4_new(galaxy)\n",
    "            \n",
    "        print(\"---- Replaced galaxy\" + galaxy)   \n",
    "        #Replace data in gals_flux\n",
    "        gals_flux.at[galaxy,'w4'] =new_w4\n",
    "        gals_flux.at[galaxy,'w4_unc'] = new_w4_unc\n",
    "        \n",
    "    "
   ]
  },
  {
   "cell_type": "code",
   "execution_count": 12,
   "metadata": {},
   "outputs": [
    {
     "name": "stdout",
     "output_type": "stream",
     "text": [
      "---- Replacing galaxyJ1039+4537\n",
      "---- Replaced galaxyJ1039+4537\n",
      "---- Replacing galaxyJ1052+4104\n",
      "---- Replaced galaxyJ1052+4104\n",
      "---- Replacing galaxyJ1232+0723\n",
      "---- Replaced galaxyJ1232+0723\n",
      "---- Replacing galaxyJ1604+3939\n",
      "---- Replaced galaxyJ1604+3939\n",
      "---- Replacing galaxyJ1634+4619\n",
      "---- Replaced galaxyJ1634+4619\n",
      "---- Replacing galaxyJ2116-0634\n",
      "---- Replaced galaxyJ2116-0634\n"
     ]
    }
   ],
   "source": [
    "replace_galaxies(gals_flux)\n",
    "# Really it is unecessary to write a function. This can just be done in a script w/o it\n"
   ]
  },
  {
   "cell_type": "code",
   "execution_count": null,
   "metadata": {},
   "outputs": [],
   "source": [
    "#gals_flux\n"
   ]
  },
  {
   "cell_type": "markdown",
   "metadata": {},
   "source": [
    "## Calculating Luminosity at 24 Microns"
   ]
  },
  {
   "cell_type": "code",
   "execution_count": null,
   "metadata": {},
   "outputs": [],
   "source": []
  },
  {
   "cell_type": "markdown",
   "metadata": {},
   "source": [
    "### Make a table with magnitudes and errors"
   ]
  },
  {
   "cell_type": "code",
   "execution_count": 13,
   "metadata": {},
   "outputs": [],
   "source": [
    "mags = table[1].data['AB_MAG'].byteswap().newbyteorder()\n",
    "magsu = table[1].data['AB_MAG_ERR'].byteswap().newbyteorder()\n",
    "mags_w_err = np.concatenate((mags, magsu, gals_redshifts), axis=1)\n",
    "gals_mag = pd.DataFrame(data=mags_w_err,\n",
    "                        index=gal_names,\n",
    "                        columns=cols)"
   ]
  },
  {
   "cell_type": "markdown",
   "metadata": {},
   "source": [
    "### Fit templates, return column to feed into a new table"
   ]
  },
  {
   "cell_type": "code",
   "execution_count": 14,
   "metadata": {},
   "outputs": [],
   "source": [
    "def sed_fitting(gal_name, template_name):\n",
    "    z = gals_mag.loc[gal_name, 'Z']# Get galaxy redshift\n",
    "    template = tempsdf[tempsdf.template_name == template_name]\n",
    "\n",
    "    # ----- Organizing wavelength and luminosity\n",
    "    z_temp_wavel = template.rest_wavelength * (1 + z)# moves wavelength to redshift?\n",
    "    gal_fluxes = gals_flux.loc[gal_name, :][:11].values\n",
    "    W2_wavelength = filt_waves[8]\n",
    "    # Figure out where the template lines up with W2\n",
    "    mask = mask_wave(z_temp_wavel, W2_wavelength)\n",
    "    \n",
    "    # Scale template to match value at W2\n",
    "    factor = gal_fluxes[8] / float(template.luminosity[mask].values[0])\n",
    "    luminosity = template.luminosity * factor  # Scale\n",
    "\n",
    "    # ----- Readying wavelength and flux for sedpy\n",
    "    wave_aa = np.array(z_temp_wavel[0:-1]) * 1e4  # changes angstroms to microns\n",
    "    flux = np.array(luminosity[0:-1])\n",
    "    fnu = flux * 3631. * 1e-23 # converts from angstroms to microns?\n",
    "    flambda = fnu * 2.998e18 / (wave_aa) ** 2 # see flux.doc in the Drive for math explanation\n",
    "\n",
    "\n",
    "    # ----- Using sedpy to get wise band photometry based on templates\n",
    "    filternames = ['wise_w{}'.format(n) for n in ['1', '2', '3', '4']]\n",
    "    wise_filters = observate.load_filters(filternames)\n",
    "    model_mags = observate.getSED(wave_aa, flambda, filterlist=wise_filters)\n",
    "    wave_eff = [f.wave_effective for f in wise_filters]\n",
    "    model_phot = 10. ** (model_mags / (-2.5))# converts from magnitudes to flux??\n",
    "    \n",
    "   # diff = model_phot[1]/float(template.luminosity[mask].values[0])\n",
    "    diff = model_phot[1]/gal_fluxes[8]\n",
    "    \n",
    "    # apply the correction to the model photometry\n",
    "    model_phot = model_phot / diff\n",
    "    \n",
    "    # how can we caculate the rest-frame 24-micron luminosity\n",
    "    # apply similar logic to what's done above for the model_phot calculation\n",
    "    # the difference is that we'll be using rest-wavelength rather than observed wavelength\n",
    "    # Becca's good idea: we should store this information rather then continually repeating calculations\n",
    "    wave_rest = np.array(template.rest_wavelength[0:-1])\n",
    "    wave_rest_aa = wave_rest * 1e4 # microns 10^-6 m to Angstroms 10^-10 m\n",
    "    flux_me = np.array(luminosity[0:-1]) / diff\n",
    "\n",
    "    fnu_me = flux_me * 3631. * 1e-23 # converts from \"maggies\" to erg/s/cm^2/Hz\n",
    "    flam_me = fnu_me * 2.998e18 / (wave_rest_aa) ** 2 #\n",
    "\n",
    "    #print('wave_rest_aa', wave_rest_aa)\n",
    "    #print('flux_me', flux_me)\n",
    "    \n",
    "    filter_24 = ['spitzer_mips_24']\n",
    "    new_filter = observate.load_filters(filter_24)\n",
    "    #print(new_filter)\n",
    "    model_mag_24 = observate.getSED(wave_rest_aa, flam_me, filterlist=new_filter)\n",
    "    wave_eff_24 = [f.wave_effective for f in new_filter]\n",
    "    model_phot24 = 10. ** (model_mag_24 / (-2.5)) \n",
    "    #print(model_phot)\n",
    "    #print(template_name, model_phot24)\n",
    "    \n",
    "    # add chi^2 calculation\n",
    "    gal_unc = gals_flux.iloc[:,11:-1].loc[gal_name].values\n",
    "    #print(gal_fluxes)\n",
    "    #print(model_phot)\n",
    "    #print(gal_unc)\n",
    "    chi = np.sum(np.array([((gal_fluxes[i + 8] - model_phot[i + 1]) / gal_unc[i + 8]) ** 2 for i in range(3)])) / 3\n",
    "    \n",
    "    #print(gal_name, template_name, chi)\n",
    "    \n",
    "    rows = pd.DataFrame([[gal_name, template_name, filternames[i],\n",
    "                          model_mags[i], wave_eff[i], model_phot[i],\n",
    "                          mag(model_phot[i]), diff, chi] for i in range(len(filternames))],\n",
    "                        columns=fits_cols)\n",
    "    return rows"
   ]
  },
  {
   "cell_type": "markdown",
   "metadata": {},
   "source": [
    "### Possible SED fitting and Template Comparison combination\n"
   ]
  },
  {
   "cell_type": "code",
   "execution_count": 15,
   "metadata": {},
   "outputs": [],
   "source": [
    "#What if we run through all the templates here instead of in generating\n",
    "# Plots. Will that save time?\n",
    "\n",
    "\n",
    "def sed_fitting_comparison(gal_name):\n",
    "    \n",
    "    flux_24 = []\n",
    "    best_chis = []\n",
    "    template_info = []\n",
    "    for template_name in templates:\n",
    "        \n",
    "        z = gals_mag.loc[gal_name, 'Z']\n",
    "        template = tempsdf[tempsdf.template_name == template_name]\n",
    "        filter_chis = []\n",
    "        filter_info = []\n",
    "        luminosities = []\n",
    "        uncertainties = []\n",
    "    # ----- Organizing wavelength and luminosity\n",
    "        z_temp_wavel = template.rest_wavelength * (1 + z)\n",
    "        \n",
    "       # print(\"for template \"+ template_name+\" z_temp_wave1 is:\"+str(z_temp_wave1))\n",
    "        gal_fluxes = gals_flux.loc[gal_name, :][:11].values\n",
    "        wave_index = 7\n",
    "        \n",
    "        for filt in filt_waves[7:]:\n",
    "            \n",
    "            wavelength = filt_waves[wave_index] # Assigns \n",
    "    # Figure out where the template lines up with W2\n",
    "            mask = mask_wave(z_temp_wavel,wavelength)\n",
    "        \n",
    "    # Scale template to match value at W2\n",
    "            factor = gal_fluxes[wave_index] / float(template.luminosity[mask].values[0])\n",
    "            luminosity = template.luminosity * factor  # Scale\n",
    "            \n",
    "    # ----- Readying wavelength and flux for sedpy\n",
    "            wave_aa = np.array(z_temp_wavel[0:-1]) * 1e4  # changes angstroms to microns\n",
    "            flux = np.array(luminosity[0:-1])\n",
    "            fnu = flux * 3631. * 1e-23 # converts from angstroms to microns?\n",
    "            flambda = fnu * 2.998e18 / (wave_aa) ** 2 # see flux.doc in the Drive for math explanation\n",
    "\n",
    "    # ----- Using sedpy to get wise band photometry based on templates\n",
    "            filternames = ['wise_w{}'.format(n) for n in ['1', '2', '3', '4']]\n",
    "            wise_filters = observate.load_filters(filternames)\n",
    "            model_mags = observate.getSED(wave_aa, flambda, filterlist=wise_filters)\n",
    "            wave_eff = [f.wave_effective for f in wise_filters]\n",
    "            model_phot = 10. ** (model_mags / (-2.5))# converts from magnitudes to flux??\n",
    "    \n",
    "   # diff = model_phot[1]/float(template.luminosity[mask].values[0])\n",
    "            diff = model_phot[1]/gal_fluxes[wave_index]\n",
    "\n",
    "      \n",
    "         # apply the correction to the model photometry\n",
    "            model_phot = model_phot/diff\n",
    "    \n",
    "    #------ Calculate Chi\n",
    "         \n",
    "            gal_unc = gals_flux.iloc[:,11:-1].loc[gal_name].values\n",
    "        #print(gal_fluxes)\n",
    "        #print(model_phot)\n",
    "        #print(gal_unc)\n",
    "        # add chi^2 calculation\n",
    "            chi = np.sum(np.array([((gal_fluxes[i + 8] - model_phot[i + 1]) / gal_unc[i + 8]) ** 2 for i in range(3)])) / 3\n",
    "            filter_chis.append(chi)\n",
    "            wave_index += 1\n",
    "            luminosities.append(luminosity)\n",
    "            uncertainties.append(gal_unc)\n",
    "            #info = [z_temp_wavel,luminosity,gal_fluxes]\n",
    "            #filter_info.append(info)\n",
    "            \n",
    "        #print(\"filter chis\" + str(filter_chis) )   \n",
    "        \n",
    "        chi = min(filter_chis) # finds best chi of the four bandpass filters\n",
    "        \n",
    "        chi_index = filter_chis.index(chi)\n",
    "        \n",
    "        best_luminosity = luminosities[chi_index]\n",
    "        best_gal_unc = uncertainties[chi_index]\n",
    "        #plotting_inf = filter_info[chi_index]# Gets the accompanying info for best filter chi\n",
    "        plotting_inf = [z_temp_wavel,best_luminosity,gal_fluxes,best_gal_unc,chi_index]\n",
    "       \n",
    "        best_chis.append(chi)# Adds best template chi to list of template chis\n",
    "        template_info.append(plotting_inf)# Adds info for best temp chi to list of accompanying  info for best chis\n",
    "       \n",
    "        \n",
    "    \n",
    "        # how can we caculate the rest-frame 24-micron luminosity\n",
    "        # apply similar logic to what's done above for the model_phot calculation\n",
    "        # the difference is that we'll be using rest-wavelength rather than observed wavelength\n",
    "        # Becca's good idea: we should store this information rather then continually repeating calculations\n",
    "        wave_rest = np.array(template.rest_wavelength[0:-1])\n",
    "        wave_rest_aa = wave_rest * 1e4 # microns 10^-6 m to Angstroms 10^-10 m\n",
    "        flux_me = np.array(luminosity[0:-1]) / diff\n",
    "\n",
    "        fnu_me = flux_me * 3631. * 1e-23 # converts from \"maggies\" to erg/s/cm^2/Hz\n",
    "        flam_me = fnu_me * 2.998e18 / (wave_rest_aa) ** 2 #\n",
    "\n",
    "    \n",
    "        filter_24 = observate.load_filters(['spitzer_mips_24'])\n",
    "        \n",
    "        model_mag_24 = observate.getSED(wave_rest_aa, flam_me, filterlist= filter_24)\n",
    "        wave_eff_24 = [f.wave_effective for f in filter_24]\n",
    "        model_phot24 = 10. ** (model_mag_24 / (-2.5)) \n",
    "        \n",
    "        \n",
    "        flux_24.append(model_phot24)\n",
    "       \n",
    "       \n",
    "        \n",
    "        rows = pd.DataFrame([[gal_name, template_name, filternames[i],\n",
    "                          model_mags[i], wave_eff[i], model_phot[i],\n",
    "                          mag(model_phot[i]), diff, chi] \n",
    "                          for i in range(len(filternames))],\n",
    "                          columns=fits_cols)\n",
    "        \n",
    "    flux_24_array = np.array(flux_24)\n",
    "                                                  \n",
    "    mean = np.mean(flux_24_array)\n",
    "    std = np.std(flux_24_array)\n",
    "    minimum = flux_24_array.min()\n",
    "    maximum = flux_24_array.max()\n",
    "    flux_stats = [mean,std,minimum,maximum]\n",
    "   # print(mean,std,mean/std, maximum, minimum)\n",
    "    \n",
    "   \n",
    "    \n",
    "    return [rows,best_chis,template_info,flux_stats]"
   ]
  },
  {
   "cell_type": "markdown",
   "metadata": {},
   "source": [
    "### Plots templates for comparison and calculates lowest chi"
   ]
  },
  {
   "cell_type": "code",
   "execution_count": 16,
   "metadata": {},
   "outputs": [],
   "source": [
    "def template_comparison(gal_name, template_name):\n",
    "    \n",
    "    z = gals_mag.loc[gal_name, 'Z']\n",
    "    template = tempsdf[tempsdf.template_name == template_name].reset_index(drop=True)[['rest_wavelength', 'luminosity']]\n",
    "    z_temp_wavel = template.rest_wavelength * (1 + z)\n",
    "    print(\"z_temp_wavel\"+str(z_temp_wavel))\n",
    "    gal_fluxes = gals_flux.loc[gal_name, :][:11].values\n",
    "    \n",
    "    \n",
    "    W2_wavelength = filt_waves[8]\n",
    "    # Figure out where the template lines up with W2\n",
    "    mask = mask_wave(z_temp_wavel, W2_wavelength)\n",
    "    # Scale template to match value at W2\n",
    "    factor = gal_fluxes[8]/float(template.luminosity[mask].values[0])\n",
    "    luminosity = template.luminosity*factor\n",
    "    # Scale and match luminosity of rest wavelength with template\n",
    "    model_phot = sed_fits[(sed_fits.galaxy == gal_name) & (sed_fits.template_name == template_name)].model_phot.array\n",
    "    \n",
    "    \n",
    "    gal_unc = gals_flux.iloc[:,11:-1].loc[gal_name].values\n",
    "    chi = np.sum(np.array([((gal_fluxes[i + 8] - model_phot[i + 1]) / gal_unc[i + 8]) ** 2 for i in range(3)])) / 3\n",
    "    \n",
    "   \n",
    "    \n",
    "    # After this the function can stop right? What is the rest for? Why do we plot each template?\n",
    "    # Plot\n",
    "    plot = True\n",
    "\n",
    "    if plot:\n",
    "        plot_color = colors[template_name]\n",
    "        title = gal_name + '-' + template_name\n",
    "        g = sns.lineplot(x=z_temp_wavel, y=luminosity, color=plot_color, label=template_name, alpha=0.6, ax=ax)\n",
    "        h = sns.scatterplot(x=filt_waves, y=gal_fluxes, ax=ax, color='blue')\n",
    "        # ax.scatter(x=np.array(wave_eff)/1e4, y=model_phot, color='red', s=11)\n",
    "        ax.errorbar(filt_waves, gal_fluxes, yerr=gal_unc, color='blue', ls='none')\n",
    "        ax.set_ylim([1e-14, 1e-7])\n",
    "        ax.set_xlim([0.1, 1000.])\n",
    "        ax.loglog()\n",
    "        ax.legend()\n",
    "        ax.set_title(title)\n",
    "        plt.ioff()\n",
    "        # plt.savefig(title+'.png')\n",
    "        # plt.clf()\n",
    "        # plt.close() '''\n",
    "\n",
    "    return (chi)\n",
    "# Whichever template has the smallest chi value is assigned to the galaxy"
   ]
  },
  {
   "cell_type": "code",
   "execution_count": 26,
   "metadata": {},
   "outputs": [],
   "source": [
    "def template_comparison_optimal(gal_name):\n",
    "    \n",
    "    \n",
    "    chis = []\n",
    "    returned_values = sed_fitting_comparison(gal_name)# creates list/array? of values returned from function\n",
    "   \n",
    "    chis = returned_values[1]# Extracts the list of chi values from returned chis-list element in list                    \n",
    "    \n",
    "    plotting_values = returned_values[2]# Extracts the accompanying info for best chis\n",
    "    \n",
    "    minimum = min(chis)\n",
    "    bestchi_pos = chis.index(minimum)\n",
    "    \n",
    "    true_plot_info = plotting_values[bestchi_pos]# Creates list of associated all info for the best chi value\n",
    "    #print(\"minimum chi is\" +str(minimum)+ \"at index \"+str(bestchi_pos))\n",
    "    #print(\"true plot info is: \"+ str(true_plot_info)+\" and length is \"+str(len(true_plot_info)))\n",
    "    \n",
    "    #Note that the values of true_plot_info are assigned as follows\n",
    "    #z_temp_wave1, luminosity, gal_fluxes, gal_unc,wave_index\n",
    "    \n",
    "    # Plot\n",
    "    plot = True\n",
    "\n",
    "    if plot:\n",
    "        plot_color = colors[str(templates[bestchi_pos])]\n",
    "        title = gal + '-' + str(templates[bestchi_pos])+ ' using W'+str(true_plot_info[4]+1)\n",
    "\n",
    "\n",
    "        g = sns.lineplot(x=true_plot_info[0], y=true_plot_info[1], color=plot_color, label=str(templates[bestchi_pos]), alpha=0.6, ax=ax)\n",
    "        h = sns.scatterplot(x=filt_waves, y=true_plot_info[2], ax=ax, color='blue')\n",
    "        # ax.scatter(x=np.array(wave_eff)/1e4, y=model_phot, color='red', s=11)\n",
    "        ax.errorbar(filt_waves, true_plot_info[2], yerr=true_plot_info[3], color='blue', ls='none')\n",
    "        ax.set_ylim([1e-14, 1e-7])\n",
    "        ax.set_xlim([0.1, 1000.])\n",
    "        ax.loglog()\n",
    "        ax.legend()\n",
    "        ax.set_title(title)\n",
    "        plt.ioff()\n",
    "\n",
    "    return (minimum)\n",
    "# Whichever template has the smallest chi value is assigned to the galaxy"
   ]
  },
  {
   "cell_type": "code",
   "execution_count": null,
   "metadata": {},
   "outputs": [],
   "source": []
  },
  {
   "cell_type": "code",
   "execution_count": 18,
   "metadata": {},
   "outputs": [],
   "source": [
    "def template_comparison_full(gal_name):\n",
    "    \n",
    "    returned_values = sed_fitting_comparison(gal_name)# creates list/array? of values returned from function\n",
    "   \n",
    "    chis = returned_values[1]# Extracts the list of chi values from returned chis-list element in list                    \n",
    "    \n",
    "    plotting_values = returned_values[2]\n",
    "    \n",
    "    for template_name in templates:\n",
    "   # Extracts the accompanying info for best chis\n",
    "        fig = plt.figure(figsize=(17,10))\n",
    "        ax = fig.add_subplot(1,1,1)\n",
    "        this_index = templates.index(template_name)\n",
    "        temp_chi = chis[this_index]\n",
    "        minimum = min(chis)\n",
    "        #bestchi_pos = chis.index(minimum)\n",
    "    \n",
    "        true_plot_info = plotting_values[this_index]# Creates list of associated all info for the best chi value\n",
    "        #print(\"minimum chi is\" +str(minimum)+ \"at index \"+str(bestchi_pos))\n",
    "        #print(\"true plot info is: \"+ str(true_plot_info)+\" and length is \"+str(len(true_plot_info)))\n",
    "    \n",
    "        #Note that the values of true_plot_info are assigned as follows\n",
    "        #z_temp_wave1, luminosity, gal_fluxes, gal_unc,wave_index\n",
    "    \n",
    "        # Plot\n",
    "        plot = True\n",
    "\n",
    "        if plot:\n",
    "            plot_color = colors[template_name]\n",
    "            title = gal + '-' + template_name+' using W'+str(true_plot_info[4]+1)\n",
    "\n",
    "    \n",
    "            g = sns.lineplot(x=true_plot_info[0], y=true_plot_info[1], color=plot_color, label=template_name, alpha=0.6, ax=ax)\n",
    "            h = sns.scatterplot(x=filt_waves, y=true_plot_info[2], ax=ax, color='blue')\n",
    "            # ax.scatter(x=np.array(wave_eff)/1e4, y=model_phot, color='red', s=11)\n",
    "            ax.errorbar(filt_waves, true_plot_info[2], yerr=true_plot_info[3], color='blue', ls='none')\n",
    "            ax.set_ylim([1e-14, 1e-7])\n",
    "            ax.set_xlim([0.1, 1000.])\n",
    "            ax.loglog()\n",
    "            ax.legend()\n",
    "            ax.set_title(title)\n",
    "            plt.ioff()\n",
    "                                      \n",
    "            result_string = \"Galaxy - \" + gal + \" - template: \" + template_name+ \" lowest chi:\"+ str(temp_chi)\n",
    "            print(result_string)\n",
    "            plt.text(10, 10**-6.5, result_string, ha='center')\n",
    "            pdf.savefig(bbox_inches=\"tight\")\n",
    "            plt.close('all')\n",
    "\n",
    "    return (minimum)\n",
    "# Whichever template has the smallest chi value is assigned to the galaxy"
   ]
  },
  {
   "cell_type": "code",
   "execution_count": null,
   "metadata": {},
   "outputs": [],
   "source": []
  },
  {
   "cell_type": "markdown",
   "metadata": {},
   "source": [
    "### Make general plots showing all galaxies (different colors and different filters)"
   ]
  },
  {
   "cell_type": "code",
   "execution_count": 19,
   "metadata": {},
   "outputs": [],
   "source": [
    "def general_color_plots():\n",
    "    # Different filters\n",
    "    fig = plt.figure(figsize=(17, 10))\n",
    "    ax = fig.add_subplot(1,1,1)\n",
    "    w2 = sed_fits[sed_fits['filter'] == 'wise_w2'].model_phot_mags.array\n",
    "    w3 = sed_fits[sed_fits['filter'] == 'wise_w3'].model_phot_mags.array\n",
    "    w4 = sed_fits[sed_fits['filter'] == 'wise_w4'].model_phot_mags.array\n",
    "    sns.scatterplot(x=w3 - w4,\n",
    "                    y=w2 - w3,\n",
    "                    data=sed_fits.iloc[::4, :].reset_index(), hue='template_name', ax=ax)\n",
    "    ax.set_ylabel('W3-W4')\n",
    "    ax.set_xlabel('W2-W3')\n",
    "    ax.set_title('Color vs color - filters')\n",
    "    plt.savefig('se_galex_color_byfilt.png')\n",
    "    plt.close('all')\n",
    "    # Different galaxies\n",
    "    fig = plt.figure(figsize=(17, 10))\n",
    "    ax = fig.add_subplot(1,1,1)\n",
    "    w2 = sed_fits[sed_fits['filter'] == 'wise_w2'].model_phot.array\n",
    "    w3 = sed_fits[sed_fits['filter'] == 'wise_w3'].model_phot.array\n",
    "    w4 = sed_fits[sed_fits['filter'] == 'wise_w4'].model_phot.array\n",
    "    sns.scatterplot(x=mag(w3) - mag(w4),\n",
    "                    y=mag(w2) - mag(w3),\n",
    "                    data=sed_fits.iloc[::4, :].reset_index(), hue='galaxy', palette='Paired')\n",
    "    ax.set_ylabel('W3-W4')\n",
    "    ax.set_xlabel('W2-W3')\n",
    "    ax.set_title('Color vs color - galaxies')\n",
    "    plt.savefig('se_galex_color_bygal.png')\n",
    "    plt.close('all')\n"
   ]
  },
  {
   "cell_type": "markdown",
   "metadata": {},
   "source": [
    "### Making color vs color plots for individual galaxies"
   ]
  },
  {
   "cell_type": "code",
   "execution_count": 20,
   "metadata": {},
   "outputs": [],
   "source": [
    "def color_plots():\n",
    "    print(' ---------> Making color plots showing different filters...')\n",
    "    with PdfPages('se_galex_sed_fitting_colorplots.pdf') as pdf:\n",
    "        for galaxy in gal_names:\n",
    "            print(\"---Making color plot: \", galaxy)\n",
    "            fig = plt.figure(figsize=(17, 10))\n",
    "            ax = fig.add_subplot(1,1,1)\n",
    "            sedf_g = sed_fits.copy()[sed_fits.galaxy == galaxy].reset_index(drop=True)\n",
    "\n",
    "            w2 = sedf_g[sedf_g['filter'] == 'wise_w2'].model_phot_mags.array\n",
    "            w3 = sedf_g[sedf_g['filter'] == 'wise_w3'].model_phot_mags.array\n",
    "            w4 = sedf_g[sedf_g['filter'] == 'wise_w4'].model_phot_mags.array\n",
    "            w2_gal = gals_mag['w2'][galaxy]\n",
    "            w3_gal = gals_mag['w3'][galaxy]\n",
    "            w4_gal = gals_mag['w4'][galaxy]\n",
    "            \n",
    "            w2_unc = ufloat(gals_mag['w2'][galaxy], gals_mag['w2_unc'][galaxy])\n",
    "            w3_unc = ufloat(gals_mag['w3'][galaxy], gals_mag['w3_unc'][galaxy])\n",
    "            w4_unc = ufloat(gals_mag['w4'][galaxy], gals_mag['w4_unc'][galaxy])\n",
    "            \n",
    "            sns.scatterplot(x=w3 - w4, y=w2 - w3,\n",
    "                            data=sedf_g[sedf_g['filter'] == 'wise_w2'], hue='template_name', ax=ax)\n",
    "\n",
    "            ax.plot(w3_gal - w4_gal, w2_gal - w3_gal, marker='*', markersize=14, label=galaxy)\n",
    "            ax.errorbar((w3_unc-w4_unc).n, (w2_unc-w3_unc).n,xerr= (w3_unc-w4_unc).s, yerr=(w2_unc-w3_unc).s, color='blue', ls='none')\n",
    "            # plots both vertical and horizontal errorbars\n",
    "            ax.set_title(galaxy)\n",
    "            ax.set_ylabel('W2-W3')\n",
    "            ax.set_xlabel('W3-W4')\n",
    "            pdf.savefig(bbox_inches=\"tight\")\n",
    "            plt.close('all')\n",
    "        print('-----Finished color plots pdf')"
   ]
  },
  {
   "cell_type": "markdown",
   "metadata": {},
   "source": [
    "### Making a table with the templates"
   ]
  },
  {
   "cell_type": "code",
   "execution_count": 22,
   "metadata": {},
   "outputs": [
    {
     "name": "stdout",
     "output_type": "stream",
     "text": [
      "Reading templates into data frame...\n",
      "ReadComposite1\n",
      "ReadComposite2\n",
      "ReadComposite3\n",
      "ReadComposite4\n",
      "ReadAGN1\n",
      "ReadAGN2\n",
      "ReadAGN3\n",
      "ReadAGN4\n",
      "ReadSFG1\n",
      "ReadSFG2\n",
      "ReadSFG3\n",
      "ReadIR_COLOR1\n",
      "ReadIR_COLOR2\n",
      "ReadIR_COLOR3\n",
      "ReadIR_COLOR4\n",
      "ReadIR_COLOR5\n",
      "ReadIR_COLOR6\n",
      "ReadIR_COLOR7\n",
      "ReadIR_COLOR8\n",
      "Templates read.\n"
     ]
    }
   ],
   "source": [
    "print('Reading templates into data frame...')\n",
    "tempsdf = pd.DataFrame([],columns=['rest_wavelength','luminosity','DLnu'])\n",
    "\n",
    "for temp_name in templates:\n",
    "    newdf = read_template(temp_name)\n",
    "    newdf['template_name'] = [temp_name for i in range(newdf.shape[0])]\n",
    "    print( \"Read\"+ temp_name)\n",
    "    tempsdf = tempsdf.append(newdf)\n",
    "print('Templates read.')\n",
    "#tempsdf"
   ]
  },
  {
   "cell_type": "markdown",
   "metadata": {},
   "source": [
    "### Generating fits for galaxies"
   ]
  },
  {
   "cell_type": "code",
   "execution_count": 23,
   "metadata": {
    "scrolled": true
   },
   "outputs": [
    {
     "name": "stdout",
     "output_type": "stream",
     "text": [
      " ---------> Fitting templates to data...\n",
      "---Fitting  J0106-1023\n",
      "---Fitting  J0315-0740\n",
      "---Fitting  J0811+4716\n",
      "---Fitting  J0824+5032\n",
      "---Fitting  J0826+4305\n",
      "---Fitting  J0827+2954\n",
      "---Fitting  J0901+0314\n",
      "---Fitting  J0905+5759\n",
      "---Fitting  J0908+1039\n",
      "---Fitting  J0933+5614\n",
      "---Fitting  J0939+4251\n",
      "---Fitting  J0944+0930\n",
      "---Fitting  J1036-0102\n",
      "---Fitting  J1039+4537\n",
      "---Fitting  J1052+0607\n",
      "---Fitting  J1052+4104\n",
      "---Fitting  J1104+5946\n",
      "---Fitting  J1107+0417\n",
      "---Fitting  J1125-0145\n",
      "---Fitting  J1133+0956\n",
      "---Fitting  J1142+6037\n",
      "---Fitting  J1205+1818\n",
      "---Fitting  J1219+0336\n",
      "---Fitting  J1229+3545\n",
      "---Fitting  J1232+0723\n",
      "---Fitting  J1235+6140\n",
      "---Fitting  J1239+0731\n",
      "---Fitting  J1244+4140\n",
      "---Fitting  J1248+0601\n",
      "---Fitting  J1341-0321\n",
      "---Fitting  J1359+5137\n",
      "---Fitting  J1450+4621\n",
      "---Fitting  J1500+1739\n",
      "---Fitting  J1506+6131\n",
      "---Fitting  J1506+5402\n",
      "---Fitting  J1516+1650\n",
      "---Fitting  J1558+3957\n",
      "---Fitting  J1604+3939\n",
      "---Fitting  J1611+2650\n",
      "---Fitting  J1613+2834\n",
      "---Fitting  J1622+3145\n",
      "---Fitting  J1634+4619\n",
      "---Fitting  J1635+4709\n",
      "---Fitting  J1658+2354\n",
      "---Fitting  J1713+2817\n",
      "---Fitting  J2116-0634\n",
      "---Fitting  J2118+0017\n",
      "---Fitting  J2140+1209\n",
      "---Fitting  J2256+1504\n",
      "---Fitting  J2311-0839\n",
      "---Finished fitting templates to data.\n",
      "\n"
     ]
    }
   ],
   "source": [
    "sed_fits = pd.DataFrame([], columns=fits_cols)\n",
    "print(' ---------> Fitting templates to data...')\n",
    "for gal in gal_names:# [0:5]\n",
    "    print(\"---Fitting \", gal)\n",
    "    for tem in templates:\n",
    "        sed_fits = sed_fits.append(sed_fitting(gal, tem))\n",
    "print('---Finished fitting templates to data.\\n')\n",
    "sed_fits.reset_index(inplace=True, drop=True)"
   ]
  },
  {
   "cell_type": "code",
   "execution_count": 24,
   "metadata": {},
   "outputs": [
    {
     "name": "stdout",
     "output_type": "stream",
     "text": [
      " ---------> Fitting templates to data...\n",
      "---Fitting  J0106-1023\n",
      "---Fitting  J0315-0740\n",
      "---Fitting  J0811+4716\n",
      "---Fitting  J0824+5032\n",
      "---Fitting  J0826+4305\n",
      "---Fitting  J0827+2954\n",
      "---Fitting  J0901+0314\n",
      "---Fitting  J0905+5759\n",
      "---Fitting  J0908+1039\n",
      "---Fitting  J0933+5614\n",
      "---Fitting  J0939+4251\n",
      "---Fitting  J0944+0930\n",
      "---Fitting  J1036-0102\n",
      "---Fitting  J1039+4537\n",
      "---Fitting  J1052+0607\n",
      "---Fitting  J1052+4104\n",
      "---Fitting  J1104+5946\n",
      "---Fitting  J1107+0417\n",
      "---Fitting  J1125-0145\n",
      "---Fitting  J1133+0956\n",
      "---Fitting  J1142+6037\n",
      "---Fitting  J1205+1818\n",
      "---Fitting  J1219+0336\n",
      "---Fitting  J1229+3545\n",
      "---Fitting  J1232+0723\n",
      "---Fitting  J1235+6140\n",
      "---Fitting  J1239+0731\n",
      "---Fitting  J1244+4140\n",
      "---Fitting  J1248+0601\n",
      "---Fitting  J1341-0321\n",
      "---Fitting  J1359+5137\n",
      "---Fitting  J1450+4621\n",
      "---Fitting  J1500+1739\n",
      "---Fitting  J1506+6131\n",
      "---Fitting  J1506+5402\n",
      "---Fitting  J1516+1650\n",
      "---Fitting  J1558+3957\n",
      "---Fitting  J1604+3939\n",
      "---Fitting  J1611+2650\n",
      "---Fitting  J1613+2834\n",
      "---Fitting  J1622+3145\n",
      "---Fitting  J1634+4619\n",
      "---Fitting  J1635+4709\n",
      "---Fitting  J1658+2354\n",
      "---Fitting  J1713+2817\n",
      "---Fitting  J2116-0634\n",
      "---Fitting  J2118+0017\n",
      "---Fitting  J2140+1209\n",
      "---Fitting  J2256+1504\n",
      "---Fitting  J2311-0839\n",
      "---Finished fitting templates to data.\n",
      "\n"
     ]
    }
   ],
   "source": [
    "## Tester\n",
    "sed_fits = pd.DataFrame([], columns=fits_cols)\n",
    "print(' ---------> Fitting templates to data...')\n",
    "for gal in gal_names:# [0:5]\n",
    "    print(\"---Fitting \", gal)\n",
    "    output_list = sed_fitting_comparison(gal)\n",
    "    extract_rows = output_list[0]\n",
    "    sed_fits = sed_fits.append(extract_rows)\n",
    "\n",
    "    #sed_fits = sed_fits.append(sed_fitting(gal, tem))\n",
    "print('---Finished fitting templates to data.\\n')\n",
    "sed_fits.reset_index(inplace=True, drop=True)"
   ]
  },
  {
   "cell_type": "markdown",
   "metadata": {},
   "source": [
    "### Make color vs color plots"
   ]
  },
  {
   "cell_type": "code",
   "execution_count": null,
   "metadata": {},
   "outputs": [],
   "source": [
    "color_plots()\n",
    "print('-----Generated se_galex_sed_fitting_colorplots.pdf with color vs color plots.')"
   ]
  },
  {
   "cell_type": "code",
   "execution_count": null,
   "metadata": {},
   "outputs": [],
   "source": [
    "general_color_plots()\n",
    "print('----Generated se_galex_color_byfilt.png and se_galex_color_bygal.png showing color vs color for all gals.')"
   ]
  },
  {
   "cell_type": "markdown",
   "metadata": {},
   "source": [
    "## Produce a PDF file showing template fits"
   ]
  },
  {
   "cell_type": "markdown",
   "metadata": {},
   "source": [
    "### Plots the best fit template\n"
   ]
  },
  {
   "cell_type": "code",
   "execution_count": 27,
   "metadata": {},
   "outputs": [
    {
     "name": "stdout",
     "output_type": "stream",
     "text": [
      "\n",
      " ---------> Plotting templates and calculating chi values...\n",
      "\n",
      "---Fitting  J0106-1023\n",
      "Galaxy - J0106-1023 - lowest chi: 0.014490961857693623\n",
      "---Fitting  J0315-0740\n",
      "Galaxy - J0315-0740 - lowest chi: 6.1146147878234745\n",
      "---Fitting  J0811+4716\n",
      "Galaxy - J0811+4716 - lowest chi: 0.013301633770903367\n",
      "---Fitting  J0824+5032\n",
      "Galaxy - J0824+5032 - lowest chi: 10.698235285183415\n",
      "---Fitting  J0826+4305\n",
      "Galaxy - J0826+4305 - lowest chi: 0.35208631742409646\n",
      "---Fitting  J0827+2954\n",
      "Galaxy - J0827+2954 - lowest chi: 0.31944392839912794\n",
      "---Fitting  J0901+0314\n",
      "Galaxy - J0901+0314 - lowest chi: 0.16246978235712292\n",
      "---Fitting  J0905+5759\n",
      "Galaxy - J0905+5759 - lowest chi: 0.6480503812900149\n",
      "---Fitting  J0908+1039\n",
      "Galaxy - J0908+1039 - lowest chi: 3.13011604927593\n",
      "---Fitting  J0933+5614\n",
      "Galaxy - J0933+5614 - lowest chi: 1.4556996319235207\n",
      "---Fitting  J0939+4251\n",
      "Galaxy - J0939+4251 - lowest chi: 2.3262345248243315\n",
      "---Fitting  J0944+0930\n",
      "Galaxy - J0944+0930 - lowest chi: 0.34980554872544367\n",
      "---Fitting  J1036-0102\n",
      "Galaxy - J1036-0102 - lowest chi: 0.02666020598296163\n",
      "---Fitting  J1039+4537\n",
      "Galaxy - J1039+4537 - lowest chi: 22.877057950539257\n",
      "---Fitting  J1052+0607\n",
      "Galaxy - J1052+0607 - lowest chi: 0.03832561661775419\n",
      "---Fitting  J1052+4104\n"
     ]
    },
    {
     "name": "stderr",
     "output_type": "stream",
     "text": [
      "/home/idies/miniconda3/lib/python3.7/site-packages/matplotlib/axes/_axes.py:3265: RuntimeWarning: invalid value encountered in double_scalars\n",
      "  high = [thisx + thiserr for (thisx, thiserr)\n"
     ]
    },
    {
     "name": "stdout",
     "output_type": "stream",
     "text": [
      "Galaxy - J1052+4104 - lowest chi: 605.317859958218\n",
      "---Fitting  J1104+5946\n",
      "Galaxy - J1104+5946 - lowest chi: 0.3590222449937661\n",
      "---Fitting  J1107+0417\n",
      "Galaxy - J1107+0417 - lowest chi: 1.1083419043317444\n",
      "---Fitting  J1125-0145\n",
      "Galaxy - J1125-0145 - lowest chi: 0.030542643439603237\n",
      "---Fitting  J1133+0956\n",
      "Galaxy - J1133+0956 - lowest chi: 0.7937791775877395\n",
      "---Fitting  J1142+6037\n",
      "Galaxy - J1142+6037 - lowest chi: 9.525925958841606\n",
      "---Fitting  J1205+1818\n",
      "Galaxy - J1205+1818 - lowest chi: 5.890684178464117\n",
      "---Fitting  J1219+0336\n",
      "Galaxy - J1219+0336 - lowest chi: 4.855031459945646\n",
      "---Fitting  J1229+3545\n",
      "Galaxy - J1229+3545 - lowest chi: 2.5031666673088027\n",
      "---Fitting  J1232+0723\n",
      "Galaxy - J1232+0723 - lowest chi: 8.35785462776299\n",
      "---Fitting  J1235+6140\n",
      "Galaxy - J1235+6140 - lowest chi: 1.9926995235485216\n",
      "---Fitting  J1239+0731\n",
      "Galaxy - J1239+0731 - lowest chi: 0.05016711389887724\n",
      "---Fitting  J1244+4140\n",
      "Galaxy - J1244+4140 - lowest chi: 0.4504990967572721\n",
      "---Fitting  J1248+0601\n",
      "Galaxy - J1248+0601 - lowest chi: 1.1633862719872343\n",
      "---Fitting  J1341-0321\n",
      "Galaxy - J1341-0321 - lowest chi: 2.069427257741496\n",
      "---Fitting  J1359+5137\n",
      "Galaxy - J1359+5137 - lowest chi: 0.48877448934703493\n",
      "---Fitting  J1450+4621\n",
      "Galaxy - J1450+4621 - lowest chi: 2.678000912261758\n",
      "---Fitting  J1500+1739\n",
      "Galaxy - J1500+1739 - lowest chi: 0.6869018413861766\n",
      "---Fitting  J1506+6131\n",
      "Galaxy - J1506+6131 - lowest chi: 0.5785346255130873\n",
      "---Fitting  J1506+5402\n",
      "Galaxy - J1506+5402 - lowest chi: 15.796675611448563\n",
      "---Fitting  J1516+1650\n",
      "Galaxy - J1516+1650 - lowest chi: 30.617743413392997\n",
      "---Fitting  J1558+3957\n",
      "Galaxy - J1558+3957 - lowest chi: 0.6832631709538451\n",
      "---Fitting  J1604+3939\n",
      "Galaxy - J1604+3939 - lowest chi: 33.438644835139655\n",
      "---Fitting  J1611+2650\n",
      "Galaxy - J1611+2650 - lowest chi: 14.206039998833141\n",
      "---Fitting  J1613+2834\n",
      "Galaxy - J1613+2834 - lowest chi: 22.293372065236625\n",
      "---Fitting  J1622+3145\n",
      "Galaxy - J1622+3145 - lowest chi: 1.1272424732920274\n",
      "---Fitting  J1634+4619\n",
      "Galaxy - J1634+4619 - lowest chi: 239.73860951025935\n",
      "---Fitting  J1635+4709\n",
      "Galaxy - J1635+4709 - lowest chi: 11.299999313807843\n",
      "---Fitting  J1658+2354\n",
      "Galaxy - J1658+2354 - lowest chi: 6.125295986541062\n",
      "---Fitting  J1713+2817\n",
      "Galaxy - J1713+2817 - lowest chi: 2.5051865932286366\n",
      "---Fitting  J2116-0634\n",
      "Galaxy - J2116-0634 - lowest chi: 496.1033312693683\n",
      "---Fitting  J2118+0017\n",
      "Galaxy - J2118+0017 - lowest chi: 0.4071209303865288\n",
      "---Fitting  J2140+1209\n",
      "Galaxy - J2140+1209 - lowest chi: 0.08245759664783177\n",
      "---Fitting  J2256+1504\n",
      "Galaxy - J2256+1504 - lowest chi: 2.0515908515292325\n",
      "---Fitting  J2311-0839\n",
      "Galaxy - J2311-0839 - lowest chi: 0.5786886578560524\n",
      "Finished!\n"
     ]
    }
   ],
   "source": [
    "# this takes some time to run \n",
    "with PdfPages('se_galexsed_fitting_optimize.pdf') as pdf:#prints out best fit\n",
    "    print('\\n ---------> Plotting templates and calculating chi values...\\n')\n",
    "    for gal in gal_names:#[0:5]\n",
    "        fig = plt.figure(figsize=(17,10))\n",
    "        ax = fig.add_subplot(1,1,1)\n",
    "        print(\"---Fitting \", gal)\n",
    "        best_fit = template_comparison_optimal(gal)\n",
    "        \n",
    "        result_string = \"Galaxy - \" + gal + \" - lowest chi: \" + str(best_fit)\n",
    "        print(result_string)\n",
    "        plt.text(10, 10**-6.5, result_string, ha='center')\n",
    "        pdf.savefig(bbox_inches=\"tight\")\n",
    "        plt.close('all')\n",
    "    print('Finished!')\n",
    "    \n",
    "    "
   ]
  },
  {
   "cell_type": "markdown",
   "metadata": {},
   "source": [
    "## Plot Each Template for Galaxy"
   ]
  },
  {
   "cell_type": "code",
   "execution_count": null,
   "metadata": {},
   "outputs": [],
   "source": [
    "# this takes some time to run (about a minute per galaxy?)\n",
    "with PdfPages('se_galexsed_fitting_individuals.pdf') as pdf:# prints out all templates\n",
    "    print('\\n ---------> Plotting templates and calculating chi values...\\n')\n",
    "    for gal in gal_names:#[0:5]\n",
    "        fig = plt.figure(figsize=(17,10))\n",
    "        ax = fig.add_subplot(1,1,1)\n",
    "        \n",
    "        print(\"---Fitting \", gal,\"w/ all templates\")\n",
    "        best_chi = template_comparison_full(gal)\n",
    "        print(\"Smallest chi:\", best_chi)\n",
    "        plt.text(10, 10**-6.5, result_string, ha='center')\n",
    "        pdf.savefig(bbox_inches=\"tight\")\n",
    "        plt.close('all')\n",
    "            \n",
    "    print('Finished!')"
   ]
  },
  {
   "cell_type": "markdown",
   "metadata": {},
   "source": [
    "## Plots all 19 Templates on 1 plot"
   ]
  },
  {
   "cell_type": "code",
   "execution_count": null,
   "metadata": {},
   "outputs": [],
   "source": [
    "# this takes some time to run (about a minute per galaxy?)\n",
    "with PdfPages('se_galexsed_fitting_full.pdf') as pdf:# prints out all templates\n",
    "    print('\\n ---------> Plotting templates and calculating chi values...\\n')\n",
    "    for gal in gal_names[0:3]:#[0:5]\n",
    "        fig = plt.figure(figsize=(17,10))\n",
    "        ax = fig.add_subplot(1,1,1)\n",
    "        print(\"---Fitting \", gal)\n",
    "        chis = []\n",
    "        for tem in templates:\n",
    "            new_chi = template_comparison(gal, tem)\n",
    "            \n",
    "            chis.append(new_chi)\n",
    "        bestchi_pos = chis.index(min(chis))\n",
    "        result_string = \"Galaxy - \" + gal + \" - lowest chi template: \" + str(templates[bestchi_pos])\n",
    "        print(result_string)\n",
    "        plt.text(10, 10**-6.5, result_string, ha='center')\n",
    "        pdf.savefig(bbox_inches=\"tight\")\n",
    "        plt.close('all')\n",
    "    print('Finished!')"
   ]
  },
  {
   "cell_type": "code",
   "execution_count": null,
   "metadata": {},
   "outputs": [],
   "source": []
  }
 ],
 "metadata": {
  "kernelspec": {
   "display_name": "Python 3",
   "language": "python",
   "name": "python3"
  },
  "language_info": {
   "codemirror_mode": {
    "name": "ipython",
    "version": 3
   },
   "file_extension": ".py",
   "mimetype": "text/x-python",
   "name": "python",
   "nbconvert_exporter": "python",
   "pygments_lexer": "ipython3",
   "version": "3.7.1"
  }
 },
 "nbformat": 4,
 "nbformat_minor": 2
}
